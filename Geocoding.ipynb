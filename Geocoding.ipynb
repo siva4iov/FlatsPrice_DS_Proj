{
  "nbformat": 4,
  "nbformat_minor": 0,
  "metadata": {
    "colab": {
      "provenance": [],
      "collapsed_sections": [],
      "authorship_tag": "ABX9TyMCRYmGn7cNv/UVZ/q0EA4C",
      "include_colab_link": true
    },
    "kernelspec": {
      "name": "python3",
      "display_name": "Python 3"
    },
    "language_info": {
      "name": "python"
    }
  },
  "cells": [
    {
      "cell_type": "markdown",
      "metadata": {
        "id": "view-in-github",
        "colab_type": "text"
      },
      "source": [
        "<a href=\"https://colab.research.google.com/github/siva4iov/FlatsPrice_DS_Proj/blob/master/Geocoding.ipynb\" target=\"_parent\"><img src=\"https://colab.research.google.com/assets/colab-badge.svg\" alt=\"Open In Colab\"/></a>"
      ]
    },
    {
      "cell_type": "markdown",
      "source": [
        "# Geocoding"
      ],
      "metadata": {
        "id": "vdluQyQKXD6G"
      }
    },
    {
      "cell_type": "markdown",
      "source": [
        "### Dependencies"
      ],
      "metadata": {
        "id": "_1cuYOWFXICM"
      }
    },
    {
      "cell_type": "code",
      "execution_count": 1,
      "metadata": {
        "colab": {
          "base_uri": "https://localhost:8080/"
        },
        "id": "J9xzxpAOCMuw",
        "outputId": "64454d0a-a2b8-44a0-fc25-71b7491457f6"
      },
      "outputs": [
        {
          "output_type": "stream",
          "name": "stdout",
          "text": [
            "Looking in indexes: https://pypi.org/simple, https://us-python.pkg.dev/colab-wheels/public/simple/\n",
            "Requirement already satisfied: geopy in /usr/local/lib/python3.7/dist-packages (1.17.0)\n",
            "Requirement already satisfied: geographiclib<2,>=1.49 in /usr/local/lib/python3.7/dist-packages (from geopy) (1.52)\n",
            "Looking in indexes: https://pypi.org/simple, https://us-python.pkg.dev/colab-wheels/public/simple/\n",
            "Requirement already satisfied: tqdm in /usr/local/lib/python3.7/dist-packages (4.64.1)\n"
          ]
        }
      ],
      "source": [
        "!pip install geopy\n",
        "!pip install tqdm"
      ]
    },
    {
      "cell_type": "code",
      "source": [
        "import pandas as pd\n",
        "from tqdm import tqdm\n",
        "from geopy.geocoders import Nominatim\n",
        "from geopy.extra.rate_limiter import RateLimiter\n",
        "import os\n",
        "\n",
        "tqdm.pandas()"
      ],
      "metadata": {
        "id": "bHLvjZ81B_Jm"
      },
      "execution_count": 2,
      "outputs": []
    },
    {
      "cell_type": "code",
      "source": [
        "if not os.path.exists(\"/content/dataset_clean.csv\"):\n",
        "  from google.colab import files\n",
        "  files.upload()"
      ],
      "metadata": {
        "id": "i76NuYvtDNCJ",
        "colab": {
          "base_uri": "https://localhost:8080/",
          "height": 73
        },
        "outputId": "f809ef41-2ec1-4f87-c4b5-7784893dfde9"
      },
      "execution_count": 3,
      "outputs": [
        {
          "output_type": "display_data",
          "data": {
            "text/plain": [
              "<IPython.core.display.HTML object>"
            ],
            "text/html": [
              "\n",
              "     <input type=\"file\" id=\"files-dc9ec3ec-fec7-482d-bdfd-06b76f6eb63b\" name=\"files[]\" multiple disabled\n",
              "        style=\"border:none\" />\n",
              "     <output id=\"result-dc9ec3ec-fec7-482d-bdfd-06b76f6eb63b\">\n",
              "      Upload widget is only available when the cell has been executed in the\n",
              "      current browser session. Please rerun this cell to enable.\n",
              "      </output>\n",
              "      <script>// Copyright 2017 Google LLC\n",
              "//\n",
              "// Licensed under the Apache License, Version 2.0 (the \"License\");\n",
              "// you may not use this file except in compliance with the License.\n",
              "// You may obtain a copy of the License at\n",
              "//\n",
              "//      http://www.apache.org/licenses/LICENSE-2.0\n",
              "//\n",
              "// Unless required by applicable law or agreed to in writing, software\n",
              "// distributed under the License is distributed on an \"AS IS\" BASIS,\n",
              "// WITHOUT WARRANTIES OR CONDITIONS OF ANY KIND, either express or implied.\n",
              "// See the License for the specific language governing permissions and\n",
              "// limitations under the License.\n",
              "\n",
              "/**\n",
              " * @fileoverview Helpers for google.colab Python module.\n",
              " */\n",
              "(function(scope) {\n",
              "function span(text, styleAttributes = {}) {\n",
              "  const element = document.createElement('span');\n",
              "  element.textContent = text;\n",
              "  for (const key of Object.keys(styleAttributes)) {\n",
              "    element.style[key] = styleAttributes[key];\n",
              "  }\n",
              "  return element;\n",
              "}\n",
              "\n",
              "// Max number of bytes which will be uploaded at a time.\n",
              "const MAX_PAYLOAD_SIZE = 100 * 1024;\n",
              "\n",
              "function _uploadFiles(inputId, outputId) {\n",
              "  const steps = uploadFilesStep(inputId, outputId);\n",
              "  const outputElement = document.getElementById(outputId);\n",
              "  // Cache steps on the outputElement to make it available for the next call\n",
              "  // to uploadFilesContinue from Python.\n",
              "  outputElement.steps = steps;\n",
              "\n",
              "  return _uploadFilesContinue(outputId);\n",
              "}\n",
              "\n",
              "// This is roughly an async generator (not supported in the browser yet),\n",
              "// where there are multiple asynchronous steps and the Python side is going\n",
              "// to poll for completion of each step.\n",
              "// This uses a Promise to block the python side on completion of each step,\n",
              "// then passes the result of the previous step as the input to the next step.\n",
              "function _uploadFilesContinue(outputId) {\n",
              "  const outputElement = document.getElementById(outputId);\n",
              "  const steps = outputElement.steps;\n",
              "\n",
              "  const next = steps.next(outputElement.lastPromiseValue);\n",
              "  return Promise.resolve(next.value.promise).then((value) => {\n",
              "    // Cache the last promise value to make it available to the next\n",
              "    // step of the generator.\n",
              "    outputElement.lastPromiseValue = value;\n",
              "    return next.value.response;\n",
              "  });\n",
              "}\n",
              "\n",
              "/**\n",
              " * Generator function which is called between each async step of the upload\n",
              " * process.\n",
              " * @param {string} inputId Element ID of the input file picker element.\n",
              " * @param {string} outputId Element ID of the output display.\n",
              " * @return {!Iterable<!Object>} Iterable of next steps.\n",
              " */\n",
              "function* uploadFilesStep(inputId, outputId) {\n",
              "  const inputElement = document.getElementById(inputId);\n",
              "  inputElement.disabled = false;\n",
              "\n",
              "  const outputElement = document.getElementById(outputId);\n",
              "  outputElement.innerHTML = '';\n",
              "\n",
              "  const pickedPromise = new Promise((resolve) => {\n",
              "    inputElement.addEventListener('change', (e) => {\n",
              "      resolve(e.target.files);\n",
              "    });\n",
              "  });\n",
              "\n",
              "  const cancel = document.createElement('button');\n",
              "  inputElement.parentElement.appendChild(cancel);\n",
              "  cancel.textContent = 'Cancel upload';\n",
              "  const cancelPromise = new Promise((resolve) => {\n",
              "    cancel.onclick = () => {\n",
              "      resolve(null);\n",
              "    };\n",
              "  });\n",
              "\n",
              "  // Wait for the user to pick the files.\n",
              "  const files = yield {\n",
              "    promise: Promise.race([pickedPromise, cancelPromise]),\n",
              "    response: {\n",
              "      action: 'starting',\n",
              "    }\n",
              "  };\n",
              "\n",
              "  cancel.remove();\n",
              "\n",
              "  // Disable the input element since further picks are not allowed.\n",
              "  inputElement.disabled = true;\n",
              "\n",
              "  if (!files) {\n",
              "    return {\n",
              "      response: {\n",
              "        action: 'complete',\n",
              "      }\n",
              "    };\n",
              "  }\n",
              "\n",
              "  for (const file of files) {\n",
              "    const li = document.createElement('li');\n",
              "    li.append(span(file.name, {fontWeight: 'bold'}));\n",
              "    li.append(span(\n",
              "        `(${file.type || 'n/a'}) - ${file.size} bytes, ` +\n",
              "        `last modified: ${\n",
              "            file.lastModifiedDate ? file.lastModifiedDate.toLocaleDateString() :\n",
              "                                    'n/a'} - `));\n",
              "    const percent = span('0% done');\n",
              "    li.appendChild(percent);\n",
              "\n",
              "    outputElement.appendChild(li);\n",
              "\n",
              "    const fileDataPromise = new Promise((resolve) => {\n",
              "      const reader = new FileReader();\n",
              "      reader.onload = (e) => {\n",
              "        resolve(e.target.result);\n",
              "      };\n",
              "      reader.readAsArrayBuffer(file);\n",
              "    });\n",
              "    // Wait for the data to be ready.\n",
              "    let fileData = yield {\n",
              "      promise: fileDataPromise,\n",
              "      response: {\n",
              "        action: 'continue',\n",
              "      }\n",
              "    };\n",
              "\n",
              "    // Use a chunked sending to avoid message size limits. See b/62115660.\n",
              "    let position = 0;\n",
              "    do {\n",
              "      const length = Math.min(fileData.byteLength - position, MAX_PAYLOAD_SIZE);\n",
              "      const chunk = new Uint8Array(fileData, position, length);\n",
              "      position += length;\n",
              "\n",
              "      const base64 = btoa(String.fromCharCode.apply(null, chunk));\n",
              "      yield {\n",
              "        response: {\n",
              "          action: 'append',\n",
              "          file: file.name,\n",
              "          data: base64,\n",
              "        },\n",
              "      };\n",
              "\n",
              "      let percentDone = fileData.byteLength === 0 ?\n",
              "          100 :\n",
              "          Math.round((position / fileData.byteLength) * 100);\n",
              "      percent.textContent = `${percentDone}% done`;\n",
              "\n",
              "    } while (position < fileData.byteLength);\n",
              "  }\n",
              "\n",
              "  // All done.\n",
              "  yield {\n",
              "    response: {\n",
              "      action: 'complete',\n",
              "    }\n",
              "  };\n",
              "}\n",
              "\n",
              "scope.google = scope.google || {};\n",
              "scope.google.colab = scope.google.colab || {};\n",
              "scope.google.colab._files = {\n",
              "  _uploadFiles,\n",
              "  _uploadFilesContinue,\n",
              "};\n",
              "})(self);\n",
              "</script> "
            ]
          },
          "metadata": {}
        },
        {
          "output_type": "stream",
          "name": "stdout",
          "text": [
            "Saving dataset_clean.csv to dataset_clean.csv\n"
          ]
        }
      ]
    },
    {
      "cell_type": "markdown",
      "source": [
        "### Addresses\n"
      ],
      "metadata": {
        "id": "Ut91px0rXQdk"
      }
    },
    {
      "cell_type": "code",
      "source": [
        "df = pd.read_csv(\"/content/dataset_clean.csv\", sep=\";\")\n",
        "ads = df.loc[:, \"Address\"]\n",
        "ads.head()\n"
      ],
      "metadata": {
        "colab": {
          "base_uri": "https://localhost:8080/"
        },
        "id": "u5pEFgpTDwO2",
        "outputId": "a6750752-14b2-4853-8750-8c44aac892ee"
      },
      "execution_count": 4,
      "outputs": [
        {
          "output_type": "execute_result",
          "data": {
            "text/plain": [
              "0    Республика Татарстан, Казань, ул. Разведчика А...\n",
              "1    Республика Татарстан, Казань, Вахитовский райо...\n",
              "2    Республика Татарстан, Казань, ул. Мидхата Була...\n",
              "3    Республика Татарстан, Казань, пр-т Альберта Ка...\n",
              "4    Республика Татарстан, Казань, ул. Сибгата Хаки...\n",
              "Name: Address, dtype: object"
            ]
          },
          "metadata": {},
          "execution_count": 4
        }
      ]
    },
    {
      "cell_type": "markdown",
      "source": [
        "### I will use only free geocoding services"
      ],
      "metadata": {
        "id": "5Vc-sbsXXZhE"
      }
    },
    {
      "cell_type": "code",
      "source": [
        "geolocator = Nominatim(user_agent=\"my_request\")\n",
        "geocode = RateLimiter(geolocator.geocode, min_delay_seconds=1)\n",
        "data = ads.progress_apply(geocode)"
      ],
      "metadata": {
        "colab": {
          "base_uri": "https://localhost:8080/"
        },
        "id": "KFT4GmbwEAne",
        "outputId": "3157e3f3-052c-42b2-e505-66f4ca51062c"
      },
      "execution_count": 5,
      "outputs": [
        {
          "output_type": "stream",
          "name": "stderr",
          "text": [
            " 63%|██████▎   | 1005/1606 [22:22<14:48,  1.48s/it]WARNING:geopy:RateLimiter caught an error, retrying (0/2 tries). Called with (*('Республика Татарстан, Казань, ул. Седова, 20В',), **{}).\n",
            "Traceback (most recent call last):\n",
            "  File \"/usr/local/lib/python3.7/dist-packages/geopy/geocoders/base.py\", line 344, in _call_geocoder\n",
            "    page = requester(req, timeout=timeout, **kwargs)\n",
            "  File \"/usr/lib/python3.7/urllib/request.py\", line 525, in open\n",
            "    response = self._open(req, data)\n",
            "  File \"/usr/lib/python3.7/urllib/request.py\", line 543, in _open\n",
            "    '_open', req)\n",
            "  File \"/usr/lib/python3.7/urllib/request.py\", line 503, in _call_chain\n",
            "    result = func(*args)\n",
            "  File \"/usr/lib/python3.7/urllib/request.py\", line 1393, in https_open\n",
            "    context=self._context, check_hostname=self._check_hostname)\n",
            "  File \"/usr/lib/python3.7/urllib/request.py\", line 1353, in do_open\n",
            "    r = h.getresponse()\n",
            "  File \"/usr/lib/python3.7/http/client.py\", line 1373, in getresponse\n",
            "    response.begin()\n",
            "  File \"/usr/lib/python3.7/http/client.py\", line 319, in begin\n",
            "    version, status, reason = self._read_status()\n",
            "  File \"/usr/lib/python3.7/http/client.py\", line 280, in _read_status\n",
            "    line = str(self.fp.readline(_MAXLINE + 1), \"iso-8859-1\")\n",
            "  File \"/usr/lib/python3.7/socket.py\", line 589, in readinto\n",
            "    return self._sock.recv_into(b)\n",
            "  File \"/usr/lib/python3.7/ssl.py\", line 1071, in recv_into\n",
            "    return self.read(nbytes, buffer)\n",
            "  File \"/usr/lib/python3.7/ssl.py\", line 929, in read\n",
            "    return self._sslobj.read(len, buffer)\n",
            "socket.timeout: The read operation timed out\n",
            "\n",
            "During handling of the above exception, another exception occurred:\n",
            "\n",
            "Traceback (most recent call last):\n",
            "  File \"/usr/local/lib/python3.7/dist-packages/geopy/extra/rate_limiter.py\", line 130, in __call__\n",
            "    return self.func(*args, **kwargs)\n",
            "  File \"/usr/local/lib/python3.7/dist-packages/geopy/geocoders/osm.py\", line 307, in geocode\n",
            "    self._call_geocoder(url, timeout=timeout), exactly_one\n",
            "  File \"/usr/local/lib/python3.7/dist-packages/geopy/geocoders/base.py\", line 371, in _call_geocoder\n",
            "    raise GeocoderTimedOut('Service timed out')\n",
            "geopy.exc.GeocoderTimedOut: Service timed out\n",
            "WARNING:geopy:RateLimiter caught an error, retrying (1/2 tries). Called with (*('Республика Татарстан, Казань, ул. Седова, 20В',), **{}).\n",
            "Traceback (most recent call last):\n",
            "  File \"/usr/local/lib/python3.7/dist-packages/geopy/geocoders/base.py\", line 344, in _call_geocoder\n",
            "    page = requester(req, timeout=timeout, **kwargs)\n",
            "  File \"/usr/lib/python3.7/urllib/request.py\", line 525, in open\n",
            "    response = self._open(req, data)\n",
            "  File \"/usr/lib/python3.7/urllib/request.py\", line 543, in _open\n",
            "    '_open', req)\n",
            "  File \"/usr/lib/python3.7/urllib/request.py\", line 503, in _call_chain\n",
            "    result = func(*args)\n",
            "  File \"/usr/lib/python3.7/urllib/request.py\", line 1393, in https_open\n",
            "    context=self._context, check_hostname=self._check_hostname)\n",
            "  File \"/usr/lib/python3.7/urllib/request.py\", line 1353, in do_open\n",
            "    r = h.getresponse()\n",
            "  File \"/usr/lib/python3.7/http/client.py\", line 1373, in getresponse\n",
            "    response.begin()\n",
            "  File \"/usr/lib/python3.7/http/client.py\", line 319, in begin\n",
            "    version, status, reason = self._read_status()\n",
            "  File \"/usr/lib/python3.7/http/client.py\", line 280, in _read_status\n",
            "    line = str(self.fp.readline(_MAXLINE + 1), \"iso-8859-1\")\n",
            "  File \"/usr/lib/python3.7/socket.py\", line 589, in readinto\n",
            "    return self._sock.recv_into(b)\n",
            "  File \"/usr/lib/python3.7/ssl.py\", line 1071, in recv_into\n",
            "    return self.read(nbytes, buffer)\n",
            "  File \"/usr/lib/python3.7/ssl.py\", line 929, in read\n",
            "    return self._sslobj.read(len, buffer)\n",
            "socket.timeout: The read operation timed out\n",
            "\n",
            "During handling of the above exception, another exception occurred:\n",
            "\n",
            "Traceback (most recent call last):\n",
            "  File \"/usr/local/lib/python3.7/dist-packages/geopy/extra/rate_limiter.py\", line 130, in __call__\n",
            "    return self.func(*args, **kwargs)\n",
            "  File \"/usr/local/lib/python3.7/dist-packages/geopy/geocoders/osm.py\", line 307, in geocode\n",
            "    self._call_geocoder(url, timeout=timeout), exactly_one\n",
            "  File \"/usr/local/lib/python3.7/dist-packages/geopy/geocoders/base.py\", line 371, in _call_geocoder\n",
            "    raise GeocoderTimedOut('Service timed out')\n",
            "geopy.exc.GeocoderTimedOut: Service timed out\n",
            "100%|██████████| 1606/1606 [36:01<00:00,  1.35s/it]\n"
          ]
        }
      ]
    },
    {
      "cell_type": "code",
      "source": [
        "data[:3]"
      ],
      "metadata": {
        "colab": {
          "base_uri": "https://localhost:8080/"
        },
        "id": "3iWRuiD6hVzB",
        "outputId": "2c3a9732-e3d8-47b4-f9a0-ca30691fac85"
      },
      "execution_count": 22,
      "outputs": [
        {
          "output_type": "execute_result",
          "data": {
            "text/plain": [
              "0    (Газпромбанк, 3, улица Разведчика Ахмерова, Ar...\n",
              "1    (53, улица Татарстан, Старо-Татарская слобода,...\n",
              "2    (5, улица Мидхата Булатова, 33-й Военный город...\n",
              "Name: Address, dtype: object"
            ]
          },
          "metadata": {},
          "execution_count": 22
        }
      ]
    },
    {
      "cell_type": "code",
      "source": [
        "location = data.rename(\"location\")"
      ],
      "metadata": {
        "id": "qoYEDcvhFlaT"
      },
      "execution_count": 20,
      "outputs": []
    },
    {
      "cell_type": "code",
      "source": [
        "coord = pd.Series(list(map(lambda x: tuple(x.point)[:2] if x else None, data)), name=\"coord\")"
      ],
      "metadata": {
        "id": "nU0idJEVOYBx"
      },
      "execution_count": 23,
      "outputs": []
    },
    {
      "cell_type": "code",
      "source": [
        "lat_n_lon = pd.DataFrame(data=list(map(lambda x: [x.latitude, x.longitude] if x else [None, None], data)), columns=[\"latitude\", \"longitude\"])"
      ],
      "metadata": {
        "id": "V8r90s7AfElc"
      },
      "execution_count": 15,
      "outputs": []
    },
    {
      "cell_type": "code",
      "source": [
        "geodata = pd.concat([location, coord, lat_n_lon], axis=1)"
      ],
      "metadata": {
        "id": "YNYAjhnvPOZV"
      },
      "execution_count": 24,
      "outputs": []
    },
    {
      "cell_type": "markdown",
      "source": [
        "I will drop addresses which were not found"
      ],
      "metadata": {
        "id": "R30JTf2dXyrt"
      }
    },
    {
      "cell_type": "code",
      "source": [
        "df = df.loc[geodata.notna().iloc[:, 0]].reset_index(drop=True)\n",
        "\n",
        "geodata = geodata.dropna().reset_index(drop=True)\n"
      ],
      "metadata": {
        "id": "9zOFWrXhQI7c"
      },
      "execution_count": 25,
      "outputs": []
    },
    {
      "cell_type": "markdown",
      "source": [
        "### Extract district"
      ],
      "metadata": {
        "id": "y9No9XbtQZZS"
      }
    },
    {
      "cell_type": "code",
      "source": [
        "def extr_distr(x):\n",
        "  objs = str(x).split(\",\")\n",
        "  for obj in objs:\n",
        "    if \"район\" in obj:\n",
        "      result = obj\n",
        "      result = result.replace(\"район\", \"\").strip()\n",
        "      return result\n",
        "\n",
        "geodata.loc[:, \"district\"] = geodata[\"location\"].apply(extr_distr)"
      ],
      "metadata": {
        "id": "6dcz_VsOQ4yo"
      },
      "execution_count": 26,
      "outputs": []
    },
    {
      "cell_type": "code",
      "source": [
        "geodata"
      ],
      "metadata": {
        "colab": {
          "base_uri": "https://localhost:8080/",
          "height": 641
        },
        "id": "hGSI4_4ASGj9",
        "outputId": "d3da53fe-015e-4194-d3d6-20006703c449"
      },
      "execution_count": 27,
      "outputs": [
        {
          "output_type": "execute_result",
          "data": {
            "text/plain": [
              "                                               location  \\\n",
              "0     (Газпромбанк, 3, улица Разведчика Ахмерова, Ar...   \n",
              "1     (53, улица Татарстан, Старо-Татарская слобода,...   \n",
              "2     (5, улица Мидхата Булатова, 33-й Военный город...   \n",
              "3     (31, улица Сибгата Хакима, Ново-Савиновский ра...   \n",
              "4     (Ozon, 13, улица Адоратского, Ново-Савиновский...   \n",
              "...                                                 ...   \n",
              "1318  (улица Чернышевского, Вахитовский район, Казан...   \n",
              "1319  (12, улица Волкова, Аки, Советский район, Каза...   \n",
              "1320  (Пятёрочка, 14В, улица Юлиуса Фучика, Горки-3,...   \n",
              "1321  (61Б, Чистопольская улица, Ново-Савиновский ра...   \n",
              "1322  (Пятёрочка, 88Б, Спартаковская улица, Приволжс...   \n",
              "\n",
              "                                         coord   latitude  longitude  \\\n",
              "0                     (55.7978535, 49.1793271)  55.797854  49.179327   \n",
              "1              (55.77585095, 49.1077901578817)  55.775851  49.107790   \n",
              "2     (55.731757599999995, 49.169174993589834)  55.731758  49.169175   \n",
              "3      (55.816227350000005, 49.13680551681148)  55.816227  49.136806   \n",
              "4                     (55.8252666, 49.1468802)  55.825267  49.146880   \n",
              "...                                        ...        ...        ...   \n",
              "1318                  (55.7930993, 49.1107986)  55.793099  49.110799   \n",
              "1319          (55.84985115, 49.25372233475784)  55.849851  49.253722   \n",
              "1320                  (55.7420827, 49.2053247)  55.742083  49.205325   \n",
              "1321                (55.82022285, 49.13268965)  55.820223  49.132690   \n",
              "1322                  (55.7683965, 49.1527224)  55.768397  49.152722   \n",
              "\n",
              "              district  \n",
              "0            Советский  \n",
              "1          Вахитовский  \n",
              "2          Приволжский  \n",
              "3     Ново-Савиновский  \n",
              "4     Ново-Савиновский  \n",
              "...                ...  \n",
              "1318       Вахитовский  \n",
              "1319         Советский  \n",
              "1320       Приволжский  \n",
              "1321  Ново-Савиновский  \n",
              "1322       Приволжский  \n",
              "\n",
              "[1323 rows x 5 columns]"
            ],
            "text/html": [
              "\n",
              "  <div id=\"df-0b45cda0-d95d-45f7-8624-cb89d1635a9a\">\n",
              "    <div class=\"colab-df-container\">\n",
              "      <div>\n",
              "<style scoped>\n",
              "    .dataframe tbody tr th:only-of-type {\n",
              "        vertical-align: middle;\n",
              "    }\n",
              "\n",
              "    .dataframe tbody tr th {\n",
              "        vertical-align: top;\n",
              "    }\n",
              "\n",
              "    .dataframe thead th {\n",
              "        text-align: right;\n",
              "    }\n",
              "</style>\n",
              "<table border=\"1\" class=\"dataframe\">\n",
              "  <thead>\n",
              "    <tr style=\"text-align: right;\">\n",
              "      <th></th>\n",
              "      <th>location</th>\n",
              "      <th>coord</th>\n",
              "      <th>latitude</th>\n",
              "      <th>longitude</th>\n",
              "      <th>district</th>\n",
              "    </tr>\n",
              "  </thead>\n",
              "  <tbody>\n",
              "    <tr>\n",
              "      <th>0</th>\n",
              "      <td>(Газпромбанк, 3, улица Разведчика Ахмерова, Ar...</td>\n",
              "      <td>(55.7978535, 49.1793271)</td>\n",
              "      <td>55.797854</td>\n",
              "      <td>49.179327</td>\n",
              "      <td>Советский</td>\n",
              "    </tr>\n",
              "    <tr>\n",
              "      <th>1</th>\n",
              "      <td>(53, улица Татарстан, Старо-Татарская слобода,...</td>\n",
              "      <td>(55.77585095, 49.1077901578817)</td>\n",
              "      <td>55.775851</td>\n",
              "      <td>49.107790</td>\n",
              "      <td>Вахитовский</td>\n",
              "    </tr>\n",
              "    <tr>\n",
              "      <th>2</th>\n",
              "      <td>(5, улица Мидхата Булатова, 33-й Военный город...</td>\n",
              "      <td>(55.731757599999995, 49.169174993589834)</td>\n",
              "      <td>55.731758</td>\n",
              "      <td>49.169175</td>\n",
              "      <td>Приволжский</td>\n",
              "    </tr>\n",
              "    <tr>\n",
              "      <th>3</th>\n",
              "      <td>(31, улица Сибгата Хакима, Ново-Савиновский ра...</td>\n",
              "      <td>(55.816227350000005, 49.13680551681148)</td>\n",
              "      <td>55.816227</td>\n",
              "      <td>49.136806</td>\n",
              "      <td>Ново-Савиновский</td>\n",
              "    </tr>\n",
              "    <tr>\n",
              "      <th>4</th>\n",
              "      <td>(Ozon, 13, улица Адоратского, Ново-Савиновский...</td>\n",
              "      <td>(55.8252666, 49.1468802)</td>\n",
              "      <td>55.825267</td>\n",
              "      <td>49.146880</td>\n",
              "      <td>Ново-Савиновский</td>\n",
              "    </tr>\n",
              "    <tr>\n",
              "      <th>...</th>\n",
              "      <td>...</td>\n",
              "      <td>...</td>\n",
              "      <td>...</td>\n",
              "      <td>...</td>\n",
              "      <td>...</td>\n",
              "    </tr>\n",
              "    <tr>\n",
              "      <th>1318</th>\n",
              "      <td>(улица Чернышевского, Вахитовский район, Казан...</td>\n",
              "      <td>(55.7930993, 49.1107986)</td>\n",
              "      <td>55.793099</td>\n",
              "      <td>49.110799</td>\n",
              "      <td>Вахитовский</td>\n",
              "    </tr>\n",
              "    <tr>\n",
              "      <th>1319</th>\n",
              "      <td>(12, улица Волкова, Аки, Советский район, Каза...</td>\n",
              "      <td>(55.84985115, 49.25372233475784)</td>\n",
              "      <td>55.849851</td>\n",
              "      <td>49.253722</td>\n",
              "      <td>Советский</td>\n",
              "    </tr>\n",
              "    <tr>\n",
              "      <th>1320</th>\n",
              "      <td>(Пятёрочка, 14В, улица Юлиуса Фучика, Горки-3,...</td>\n",
              "      <td>(55.7420827, 49.2053247)</td>\n",
              "      <td>55.742083</td>\n",
              "      <td>49.205325</td>\n",
              "      <td>Приволжский</td>\n",
              "    </tr>\n",
              "    <tr>\n",
              "      <th>1321</th>\n",
              "      <td>(61Б, Чистопольская улица, Ново-Савиновский ра...</td>\n",
              "      <td>(55.82022285, 49.13268965)</td>\n",
              "      <td>55.820223</td>\n",
              "      <td>49.132690</td>\n",
              "      <td>Ново-Савиновский</td>\n",
              "    </tr>\n",
              "    <tr>\n",
              "      <th>1322</th>\n",
              "      <td>(Пятёрочка, 88Б, Спартаковская улица, Приволжс...</td>\n",
              "      <td>(55.7683965, 49.1527224)</td>\n",
              "      <td>55.768397</td>\n",
              "      <td>49.152722</td>\n",
              "      <td>Приволжский</td>\n",
              "    </tr>\n",
              "  </tbody>\n",
              "</table>\n",
              "<p>1323 rows × 5 columns</p>\n",
              "</div>\n",
              "      <button class=\"colab-df-convert\" onclick=\"convertToInteractive('df-0b45cda0-d95d-45f7-8624-cb89d1635a9a')\"\n",
              "              title=\"Convert this dataframe to an interactive table.\"\n",
              "              style=\"display:none;\">\n",
              "        \n",
              "  <svg xmlns=\"http://www.w3.org/2000/svg\" height=\"24px\"viewBox=\"0 0 24 24\"\n",
              "       width=\"24px\">\n",
              "    <path d=\"M0 0h24v24H0V0z\" fill=\"none\"/>\n",
              "    <path d=\"M18.56 5.44l.94 2.06.94-2.06 2.06-.94-2.06-.94-.94-2.06-.94 2.06-2.06.94zm-11 1L8.5 8.5l.94-2.06 2.06-.94-2.06-.94L8.5 2.5l-.94 2.06-2.06.94zm10 10l.94 2.06.94-2.06 2.06-.94-2.06-.94-.94-2.06-.94 2.06-2.06.94z\"/><path d=\"M17.41 7.96l-1.37-1.37c-.4-.4-.92-.59-1.43-.59-.52 0-1.04.2-1.43.59L10.3 9.45l-7.72 7.72c-.78.78-.78 2.05 0 2.83L4 21.41c.39.39.9.59 1.41.59.51 0 1.02-.2 1.41-.59l7.78-7.78 2.81-2.81c.8-.78.8-2.07 0-2.86zM5.41 20L4 18.59l7.72-7.72 1.47 1.35L5.41 20z\"/>\n",
              "  </svg>\n",
              "      </button>\n",
              "      \n",
              "  <style>\n",
              "    .colab-df-container {\n",
              "      display:flex;\n",
              "      flex-wrap:wrap;\n",
              "      gap: 12px;\n",
              "    }\n",
              "\n",
              "    .colab-df-convert {\n",
              "      background-color: #E8F0FE;\n",
              "      border: none;\n",
              "      border-radius: 50%;\n",
              "      cursor: pointer;\n",
              "      display: none;\n",
              "      fill: #1967D2;\n",
              "      height: 32px;\n",
              "      padding: 0 0 0 0;\n",
              "      width: 32px;\n",
              "    }\n",
              "\n",
              "    .colab-df-convert:hover {\n",
              "      background-color: #E2EBFA;\n",
              "      box-shadow: 0px 1px 2px rgba(60, 64, 67, 0.3), 0px 1px 3px 1px rgba(60, 64, 67, 0.15);\n",
              "      fill: #174EA6;\n",
              "    }\n",
              "\n",
              "    [theme=dark] .colab-df-convert {\n",
              "      background-color: #3B4455;\n",
              "      fill: #D2E3FC;\n",
              "    }\n",
              "\n",
              "    [theme=dark] .colab-df-convert:hover {\n",
              "      background-color: #434B5C;\n",
              "      box-shadow: 0px 1px 3px 1px rgba(0, 0, 0, 0.15);\n",
              "      filter: drop-shadow(0px 1px 2px rgba(0, 0, 0, 0.3));\n",
              "      fill: #FFFFFF;\n",
              "    }\n",
              "  </style>\n",
              "\n",
              "      <script>\n",
              "        const buttonEl =\n",
              "          document.querySelector('#df-0b45cda0-d95d-45f7-8624-cb89d1635a9a button.colab-df-convert');\n",
              "        buttonEl.style.display =\n",
              "          google.colab.kernel.accessAllowed ? 'block' : 'none';\n",
              "\n",
              "        async function convertToInteractive(key) {\n",
              "          const element = document.querySelector('#df-0b45cda0-d95d-45f7-8624-cb89d1635a9a');\n",
              "          const dataTable =\n",
              "            await google.colab.kernel.invokeFunction('convertToInteractive',\n",
              "                                                     [key], {});\n",
              "          if (!dataTable) return;\n",
              "\n",
              "          const docLinkHtml = 'Like what you see? Visit the ' +\n",
              "            '<a target=\"_blank\" href=https://colab.research.google.com/notebooks/data_table.ipynb>data table notebook</a>'\n",
              "            + ' to learn more about interactive tables.';\n",
              "          element.innerHTML = '';\n",
              "          dataTable['output_type'] = 'display_data';\n",
              "          await google.colab.output.renderOutput(dataTable, element);\n",
              "          const docLink = document.createElement('div');\n",
              "          docLink.innerHTML = docLinkHtml;\n",
              "          element.appendChild(docLink);\n",
              "        }\n",
              "      </script>\n",
              "    </div>\n",
              "  </div>\n",
              "  "
            ]
          },
          "metadata": {},
          "execution_count": 27
        }
      ]
    },
    {
      "cell_type": "markdown",
      "source": [
        "## Also we need to get rid of cyrillic to avoid future difficulties\n",
        "But, i will leave column location for now, because it could be useful in future.\n",
        "\n",
        "I will drop it later"
      ],
      "metadata": {
        "id": "GWOUAk4kUgJK"
      }
    },
    {
      "cell_type": "code",
      "source": [
        "condition = {dist: num+1 for num, dist in enumerate(geodata['district'].unique())}\n",
        "display(condition)\n",
        "districts = \\\n",
        "pd.get_dummies(geodata.replace({\"district\": condition})[\"district\"], prefix=\"district\")\n",
        "geodata = pd.concat([geodata.drop(columns=[\"district\"]), districts], axis=1)"
      ],
      "metadata": {
        "colab": {
          "base_uri": "https://localhost:8080/",
          "height": 173
        },
        "id": "Rt_yOa7QUqms",
        "outputId": "096e9dac-ca6f-4dd3-ce35-65ce380959c5"
      },
      "execution_count": 28,
      "outputs": [
        {
          "output_type": "display_data",
          "data": {
            "text/plain": [
              "{'Советский': 1,\n",
              " 'Вахитовский': 2,\n",
              " 'Приволжский': 3,\n",
              " 'Ново-Савиновский': 4,\n",
              " 'Московский': 5,\n",
              " 'Кировский': 6,\n",
              " 'Авиастроительный': 7,\n",
              " 'микро М-14': 8,\n",
              " 'РУВД Московского а': 9}"
            ]
          },
          "metadata": {}
        }
      ]
    },
    {
      "cell_type": "code",
      "source": [
        "df = pd.concat([df.drop(columns=[\"Address\"]), geodata], axis=1)"
      ],
      "metadata": {
        "id": "cOkmOMYJlaze"
      },
      "execution_count": 29,
      "outputs": []
    },
    {
      "cell_type": "markdown",
      "source": [
        "# Saving dataset and new features meaning"
      ],
      "metadata": {
        "id": "lFOz4DvaoTST"
      }
    },
    {
      "cell_type": "code",
      "source": [
        "df.to_csv(\"dataset_clean_full.csv\", sep=\";\", index=False)"
      ],
      "metadata": {
        "id": "tLuYsWXKqrdJ"
      },
      "execution_count": 30,
      "outputs": []
    },
    {
      "cell_type": "code",
      "source": [
        "features_decode = pd.read_csv(\"/content/features_decode.csv\", sep=\";\")"
      ],
      "metadata": {
        "id": "W_MGLeRGq0a3"
      },
      "execution_count": 39,
      "outputs": []
    },
    {
      "cell_type": "code",
      "source": [
        "meanings = {'Советский': 'district_1',\n",
        " 'Вахитовский': 'district_2',\n",
        " 'Приволжский': 'district_3',\n",
        " 'Ново-Савиновский': 'district_4',\n",
        " 'Московский': 'district_5',\n",
        " 'Кировский': 'district_6',\n",
        " 'Авиастроительный': 'district_7',\n",
        " 'микро М-14': 'district_8',\n",
        " 'РУВД Московского а': 'district_9'}\n",
        "\n",
        "meanings = {'name': list(meanings.values()), 'meaning': list(meanings.keys())}\n",
        "meanings = pd.DataFrame(meanings)\n",
        "meanings"
      ],
      "metadata": {
        "colab": {
          "base_uri": "https://localhost:8080/",
          "height": 332
        },
        "id": "nbQO9zNhrHZK",
        "outputId": "be909675-1cee-45fd-c30c-acd81a243e62"
      },
      "execution_count": 32,
      "outputs": [
        {
          "output_type": "execute_result",
          "data": {
            "text/plain": [
              "         name             meaning\n",
              "0  district_1           Советский\n",
              "1  district_2         Вахитовский\n",
              "2  district_3         Приволжский\n",
              "3  district_4    Ново-Савиновский\n",
              "4  district_5          Московский\n",
              "5  district_6           Кировский\n",
              "6  district_7    Авиастроительный\n",
              "7  district_8          микро М-14\n",
              "8  district_9  РУВД Московского а"
            ],
            "text/html": [
              "\n",
              "  <div id=\"df-33962581-737c-4184-b438-1dcd281374b4\">\n",
              "    <div class=\"colab-df-container\">\n",
              "      <div>\n",
              "<style scoped>\n",
              "    .dataframe tbody tr th:only-of-type {\n",
              "        vertical-align: middle;\n",
              "    }\n",
              "\n",
              "    .dataframe tbody tr th {\n",
              "        vertical-align: top;\n",
              "    }\n",
              "\n",
              "    .dataframe thead th {\n",
              "        text-align: right;\n",
              "    }\n",
              "</style>\n",
              "<table border=\"1\" class=\"dataframe\">\n",
              "  <thead>\n",
              "    <tr style=\"text-align: right;\">\n",
              "      <th></th>\n",
              "      <th>name</th>\n",
              "      <th>meaning</th>\n",
              "    </tr>\n",
              "  </thead>\n",
              "  <tbody>\n",
              "    <tr>\n",
              "      <th>0</th>\n",
              "      <td>district_1</td>\n",
              "      <td>Советский</td>\n",
              "    </tr>\n",
              "    <tr>\n",
              "      <th>1</th>\n",
              "      <td>district_2</td>\n",
              "      <td>Вахитовский</td>\n",
              "    </tr>\n",
              "    <tr>\n",
              "      <th>2</th>\n",
              "      <td>district_3</td>\n",
              "      <td>Приволжский</td>\n",
              "    </tr>\n",
              "    <tr>\n",
              "      <th>3</th>\n",
              "      <td>district_4</td>\n",
              "      <td>Ново-Савиновский</td>\n",
              "    </tr>\n",
              "    <tr>\n",
              "      <th>4</th>\n",
              "      <td>district_5</td>\n",
              "      <td>Московский</td>\n",
              "    </tr>\n",
              "    <tr>\n",
              "      <th>5</th>\n",
              "      <td>district_6</td>\n",
              "      <td>Кировский</td>\n",
              "    </tr>\n",
              "    <tr>\n",
              "      <th>6</th>\n",
              "      <td>district_7</td>\n",
              "      <td>Авиастроительный</td>\n",
              "    </tr>\n",
              "    <tr>\n",
              "      <th>7</th>\n",
              "      <td>district_8</td>\n",
              "      <td>микро М-14</td>\n",
              "    </tr>\n",
              "    <tr>\n",
              "      <th>8</th>\n",
              "      <td>district_9</td>\n",
              "      <td>РУВД Московского а</td>\n",
              "    </tr>\n",
              "  </tbody>\n",
              "</table>\n",
              "</div>\n",
              "      <button class=\"colab-df-convert\" onclick=\"convertToInteractive('df-33962581-737c-4184-b438-1dcd281374b4')\"\n",
              "              title=\"Convert this dataframe to an interactive table.\"\n",
              "              style=\"display:none;\">\n",
              "        \n",
              "  <svg xmlns=\"http://www.w3.org/2000/svg\" height=\"24px\"viewBox=\"0 0 24 24\"\n",
              "       width=\"24px\">\n",
              "    <path d=\"M0 0h24v24H0V0z\" fill=\"none\"/>\n",
              "    <path d=\"M18.56 5.44l.94 2.06.94-2.06 2.06-.94-2.06-.94-.94-2.06-.94 2.06-2.06.94zm-11 1L8.5 8.5l.94-2.06 2.06-.94-2.06-.94L8.5 2.5l-.94 2.06-2.06.94zm10 10l.94 2.06.94-2.06 2.06-.94-2.06-.94-.94-2.06-.94 2.06-2.06.94z\"/><path d=\"M17.41 7.96l-1.37-1.37c-.4-.4-.92-.59-1.43-.59-.52 0-1.04.2-1.43.59L10.3 9.45l-7.72 7.72c-.78.78-.78 2.05 0 2.83L4 21.41c.39.39.9.59 1.41.59.51 0 1.02-.2 1.41-.59l7.78-7.78 2.81-2.81c.8-.78.8-2.07 0-2.86zM5.41 20L4 18.59l7.72-7.72 1.47 1.35L5.41 20z\"/>\n",
              "  </svg>\n",
              "      </button>\n",
              "      \n",
              "  <style>\n",
              "    .colab-df-container {\n",
              "      display:flex;\n",
              "      flex-wrap:wrap;\n",
              "      gap: 12px;\n",
              "    }\n",
              "\n",
              "    .colab-df-convert {\n",
              "      background-color: #E8F0FE;\n",
              "      border: none;\n",
              "      border-radius: 50%;\n",
              "      cursor: pointer;\n",
              "      display: none;\n",
              "      fill: #1967D2;\n",
              "      height: 32px;\n",
              "      padding: 0 0 0 0;\n",
              "      width: 32px;\n",
              "    }\n",
              "\n",
              "    .colab-df-convert:hover {\n",
              "      background-color: #E2EBFA;\n",
              "      box-shadow: 0px 1px 2px rgba(60, 64, 67, 0.3), 0px 1px 3px 1px rgba(60, 64, 67, 0.15);\n",
              "      fill: #174EA6;\n",
              "    }\n",
              "\n",
              "    [theme=dark] .colab-df-convert {\n",
              "      background-color: #3B4455;\n",
              "      fill: #D2E3FC;\n",
              "    }\n",
              "\n",
              "    [theme=dark] .colab-df-convert:hover {\n",
              "      background-color: #434B5C;\n",
              "      box-shadow: 0px 1px 3px 1px rgba(0, 0, 0, 0.15);\n",
              "      filter: drop-shadow(0px 1px 2px rgba(0, 0, 0, 0.3));\n",
              "      fill: #FFFFFF;\n",
              "    }\n",
              "  </style>\n",
              "\n",
              "      <script>\n",
              "        const buttonEl =\n",
              "          document.querySelector('#df-33962581-737c-4184-b438-1dcd281374b4 button.colab-df-convert');\n",
              "        buttonEl.style.display =\n",
              "          google.colab.kernel.accessAllowed ? 'block' : 'none';\n",
              "\n",
              "        async function convertToInteractive(key) {\n",
              "          const element = document.querySelector('#df-33962581-737c-4184-b438-1dcd281374b4');\n",
              "          const dataTable =\n",
              "            await google.colab.kernel.invokeFunction('convertToInteractive',\n",
              "                                                     [key], {});\n",
              "          if (!dataTable) return;\n",
              "\n",
              "          const docLinkHtml = 'Like what you see? Visit the ' +\n",
              "            '<a target=\"_blank\" href=https://colab.research.google.com/notebooks/data_table.ipynb>data table notebook</a>'\n",
              "            + ' to learn more about interactive tables.';\n",
              "          element.innerHTML = '';\n",
              "          dataTable['output_type'] = 'display_data';\n",
              "          await google.colab.output.renderOutput(dataTable, element);\n",
              "          const docLink = document.createElement('div');\n",
              "          docLink.innerHTML = docLinkHtml;\n",
              "          element.appendChild(docLink);\n",
              "        }\n",
              "      </script>\n",
              "    </div>\n",
              "  </div>\n",
              "  "
            ]
          },
          "metadata": {},
          "execution_count": 32
        }
      ]
    },
    {
      "cell_type": "code",
      "source": [
        "features_decode = pd.concat([features_decode, meanings]).reset_index(drop=True)\n",
        "features_decode"
      ],
      "metadata": {
        "id": "w3mV_zv9rJ60"
      },
      "execution_count": 35,
      "outputs": []
    },
    {
      "cell_type": "code",
      "source": [
        "features_decode.to_csv(\"features_decode.csv\", sep=\";\", index=False)"
      ],
      "metadata": {
        "id": "3ZYx3V0Esn87"
      },
      "execution_count": 38,
      "outputs": []
    },
    {
      "cell_type": "code",
      "source": [],
      "metadata": {
        "id": "jsLpwFHauDse"
      },
      "execution_count": null,
      "outputs": []
    }
  ]
}