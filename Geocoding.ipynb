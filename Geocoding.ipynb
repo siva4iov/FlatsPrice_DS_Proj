{
  "nbformat": 4,
  "nbformat_minor": 0,
  "metadata": {
    "colab": {
      "provenance": [],
      "authorship_tag": "ABX9TyNrgu7YOKhF0vNNOkvfEj8a",
      "include_colab_link": true
    },
    "kernelspec": {
      "name": "python3",
      "display_name": "Python 3"
    },
    "language_info": {
      "name": "python"
    }
  },
  "cells": [
    {
      "cell_type": "markdown",
      "metadata": {
        "id": "view-in-github",
        "colab_type": "text"
      },
      "source": [
        "<a href=\"https://colab.research.google.com/github/siva4iov/FlatsPrice_DS_Proj/blob/master/Geocoding.ipynb\" target=\"_parent\"><img src=\"https://colab.research.google.com/assets/colab-badge.svg\" alt=\"Open In Colab\"/></a>"
      ]
    },
    {
      "cell_type": "markdown",
      "source": [
        "# Geocoding"
      ],
      "metadata": {
        "id": "vdluQyQKXD6G"
      }
    },
    {
      "cell_type": "markdown",
      "source": [
        "### Dependencies"
      ],
      "metadata": {
        "id": "_1cuYOWFXICM"
      }
    },
    {
      "cell_type": "code",
      "execution_count": 6,
      "metadata": {
        "colab": {
          "base_uri": "https://localhost:8080/"
        },
        "id": "J9xzxpAOCMuw",
        "outputId": "657e6486-8db3-42b6-bf75-e954682111e6"
      },
      "outputs": [
        {
          "output_type": "stream",
          "name": "stdout",
          "text": [
            "Looking in indexes: https://pypi.org/simple, https://us-python.pkg.dev/colab-wheels/public/simple/\n",
            "Requirement already satisfied: geopy in /usr/local/lib/python3.7/dist-packages (1.17.0)\n",
            "Requirement already satisfied: geographiclib<2,>=1.49 in /usr/local/lib/python3.7/dist-packages (from geopy) (1.52)\n",
            "Looking in indexes: https://pypi.org/simple, https://us-python.pkg.dev/colab-wheels/public/simple/\n",
            "Requirement already satisfied: tqdm in /usr/local/lib/python3.7/dist-packages (4.64.1)\n"
          ]
        }
      ],
      "source": [
        "!pip install geopy\n",
        "!pip install tqdm"
      ]
    },
    {
      "cell_type": "code",
      "source": [
        "import pandas as pd\n",
        "from tqdm import tqdm\n",
        "from geopy.geocoders import Nominatim\n",
        "from geopy.extra.rate_limiter import RateLimiter\n",
        "import os\n",
        "\n",
        "tqdm.pandas()"
      ],
      "metadata": {
        "id": "bHLvjZ81B_Jm"
      },
      "execution_count": 7,
      "outputs": []
    },
    {
      "cell_type": "code",
      "source": [
        "if not os.path.exists(\"/content/dataset_clean.csv\"):\n",
        "  from google.colab import files\n",
        "  files.upload()"
      ],
      "metadata": {
        "id": "i76NuYvtDNCJ"
      },
      "execution_count": 8,
      "outputs": []
    },
    {
      "cell_type": "markdown",
      "source": [
        "### Addresses\n"
      ],
      "metadata": {
        "id": "Ut91px0rXQdk"
      }
    },
    {
      "cell_type": "code",
      "source": [
        "df = pd.read_csv(\"/content/dataset_clean.csv\", sep=\";\")\n",
        "ads = df.loc[:, \"Address\"]\n",
        "ads.head()\n"
      ],
      "metadata": {
        "colab": {
          "base_uri": "https://localhost:8080/"
        },
        "id": "u5pEFgpTDwO2",
        "outputId": "3dfcb01d-a8d8-4bde-b466-badc7b551cd4"
      },
      "execution_count": 76,
      "outputs": [
        {
          "output_type": "execute_result",
          "data": {
            "text/plain": [
              "0    Республика Татарстан, Казань, ул. Разведчика А...\n",
              "1    Республика Татарстан, Казань, Вахитовский райо...\n",
              "2    Республика Татарстан, Казань, ул. Мидхата Була...\n",
              "3    Республика Татарстан, Казань, пр-т Альберта Ка...\n",
              "4    Республика Татарстан, Казань, ул. Сибгата Хаки...\n",
              "Name: Address, dtype: object"
            ]
          },
          "metadata": {},
          "execution_count": 76
        }
      ]
    },
    {
      "cell_type": "markdown",
      "source": [
        "### I will use only free geocoding services"
      ],
      "metadata": {
        "id": "5Vc-sbsXXZhE"
      }
    },
    {
      "cell_type": "code",
      "source": [
        "geolocator = Nominatim(user_agent=\"my_request\")\n",
        "geocode = RateLimiter(geolocator.geocode, min_delay_seconds=1)\n",
        "data = ads.progress_apply(geocode)"
      ],
      "metadata": {
        "colab": {
          "base_uri": "https://localhost:8080/"
        },
        "id": "KFT4GmbwEAne",
        "outputId": "44fdfd67-adf3-4d83-ec37-5e1bbe27fca3"
      },
      "execution_count": 10,
      "outputs": [
        {
          "output_type": "stream",
          "name": "stderr",
          "text": [
            "100%|██████████| 1606/1606 [35:49<00:00,  1.34s/it]\n"
          ]
        }
      ]
    },
    {
      "cell_type": "code",
      "source": [
        "location = data.rename(\"location\")"
      ],
      "metadata": {
        "id": "qoYEDcvhFlaT"
      },
      "execution_count": 77,
      "outputs": []
    },
    {
      "cell_type": "code",
      "source": [
        "coord = pd.Series(list(map(lambda x: tuple(x.point)[:2] if x else None, data)), name=\"coord\")"
      ],
      "metadata": {
        "id": "nU0idJEVOYBx"
      },
      "execution_count": 78,
      "outputs": []
    },
    {
      "cell_type": "code",
      "source": [
        "geodata = pd.concat([location, coord], axis=1)"
      ],
      "metadata": {
        "id": "YNYAjhnvPOZV"
      },
      "execution_count": 79,
      "outputs": []
    },
    {
      "cell_type": "markdown",
      "source": [
        "I will drop addresses which were not found"
      ],
      "metadata": {
        "id": "R30JTf2dXyrt"
      }
    },
    {
      "cell_type": "code",
      "source": [
        "df = df.loc[geodata.notna().iloc[:, 0]].reset_index(drop=True)\n",
        "\n",
        "geodata = geodata.dropna().reset_index(drop=True)\n"
      ],
      "metadata": {
        "id": "9zOFWrXhQI7c"
      },
      "execution_count": 82,
      "outputs": []
    },
    {
      "cell_type": "markdown",
      "source": [
        "### Extract district"
      ],
      "metadata": {
        "id": "y9No9XbtQZZS"
      }
    },
    {
      "cell_type": "code",
      "source": [
        "def extr_distr(x):\n",
        "  objs = str(x).split(\",\")\n",
        "  for obj in objs:\n",
        "    if \"район\" in obj:\n",
        "      result = obj\n",
        "      result = result.replace(\"район\", \"\").strip()\n",
        "      return result\n",
        "\n",
        "geodata.loc[:, \"district\"] = geodata[\"location\"].apply(extr_distr)"
      ],
      "metadata": {
        "id": "6dcz_VsOQ4yo"
      },
      "execution_count": 83,
      "outputs": []
    },
    {
      "cell_type": "code",
      "source": [
        "geodata"
      ],
      "metadata": {
        "colab": {
          "base_uri": "https://localhost:8080/",
          "height": 641
        },
        "id": "hGSI4_4ASGj9",
        "outputId": "752f16ff-158a-41c2-ace0-c42af26f93b8"
      },
      "execution_count": 84,
      "outputs": [
        {
          "output_type": "execute_result",
          "data": {
            "text/plain": [
              "                                               location  \\\n",
              "0     (Газпромбанк, 3, улица Разведчика Ахмерова, Ar...   \n",
              "1     (53, улица Татарстан, Старо-Татарская слобода,...   \n",
              "2     (5, улица Мидхата Булатова, 33-й Военный город...   \n",
              "3     (31, улица Сибгата Хакима, Ново-Савиновский ра...   \n",
              "4     (Ozon, 13, улица Адоратского, Ново-Савиновский...   \n",
              "...                                                 ...   \n",
              "1318  (улица Чернышевского, Вахитовский район, Казан...   \n",
              "1319  (12, улица Волкова, Аки, Советский район, Каза...   \n",
              "1320  (Пятёрочка, 14В, улица Юлиуса Фучика, Горки-3,...   \n",
              "1321  (61Б, Чистопольская улица, Ново-Савиновский ра...   \n",
              "1322  (Пятёрочка, 88Б, Спартаковская улица, Приволжс...   \n",
              "\n",
              "                                         coord          district  \n",
              "0                     (55.7978535, 49.1793271)         Советский  \n",
              "1              (55.77585095, 49.1077901578817)       Вахитовский  \n",
              "2     (55.731757599999995, 49.169174993589834)       Приволжский  \n",
              "3      (55.816227350000005, 49.13680551681148)  Ново-Савиновский  \n",
              "4                     (55.8252666, 49.1468802)  Ново-Савиновский  \n",
              "...                                        ...               ...  \n",
              "1318                  (55.7930993, 49.1107986)       Вахитовский  \n",
              "1319          (55.84985115, 49.25372233475784)         Советский  \n",
              "1320                  (55.7420827, 49.2053247)       Приволжский  \n",
              "1321                (55.82022285, 49.13268965)  Ново-Савиновский  \n",
              "1322                  (55.7683965, 49.1527224)       Приволжский  \n",
              "\n",
              "[1323 rows x 3 columns]"
            ],
            "text/html": [
              "\n",
              "  <div id=\"df-af090e32-ef8b-4ce7-8f74-ed59d14d75ef\">\n",
              "    <div class=\"colab-df-container\">\n",
              "      <div>\n",
              "<style scoped>\n",
              "    .dataframe tbody tr th:only-of-type {\n",
              "        vertical-align: middle;\n",
              "    }\n",
              "\n",
              "    .dataframe tbody tr th {\n",
              "        vertical-align: top;\n",
              "    }\n",
              "\n",
              "    .dataframe thead th {\n",
              "        text-align: right;\n",
              "    }\n",
              "</style>\n",
              "<table border=\"1\" class=\"dataframe\">\n",
              "  <thead>\n",
              "    <tr style=\"text-align: right;\">\n",
              "      <th></th>\n",
              "      <th>location</th>\n",
              "      <th>coord</th>\n",
              "      <th>district</th>\n",
              "    </tr>\n",
              "  </thead>\n",
              "  <tbody>\n",
              "    <tr>\n",
              "      <th>0</th>\n",
              "      <td>(Газпромбанк, 3, улица Разведчика Ахмерова, Ar...</td>\n",
              "      <td>(55.7978535, 49.1793271)</td>\n",
              "      <td>Советский</td>\n",
              "    </tr>\n",
              "    <tr>\n",
              "      <th>1</th>\n",
              "      <td>(53, улица Татарстан, Старо-Татарская слобода,...</td>\n",
              "      <td>(55.77585095, 49.1077901578817)</td>\n",
              "      <td>Вахитовский</td>\n",
              "    </tr>\n",
              "    <tr>\n",
              "      <th>2</th>\n",
              "      <td>(5, улица Мидхата Булатова, 33-й Военный город...</td>\n",
              "      <td>(55.731757599999995, 49.169174993589834)</td>\n",
              "      <td>Приволжский</td>\n",
              "    </tr>\n",
              "    <tr>\n",
              "      <th>3</th>\n",
              "      <td>(31, улица Сибгата Хакима, Ново-Савиновский ра...</td>\n",
              "      <td>(55.816227350000005, 49.13680551681148)</td>\n",
              "      <td>Ново-Савиновский</td>\n",
              "    </tr>\n",
              "    <tr>\n",
              "      <th>4</th>\n",
              "      <td>(Ozon, 13, улица Адоратского, Ново-Савиновский...</td>\n",
              "      <td>(55.8252666, 49.1468802)</td>\n",
              "      <td>Ново-Савиновский</td>\n",
              "    </tr>\n",
              "    <tr>\n",
              "      <th>...</th>\n",
              "      <td>...</td>\n",
              "      <td>...</td>\n",
              "      <td>...</td>\n",
              "    </tr>\n",
              "    <tr>\n",
              "      <th>1318</th>\n",
              "      <td>(улица Чернышевского, Вахитовский район, Казан...</td>\n",
              "      <td>(55.7930993, 49.1107986)</td>\n",
              "      <td>Вахитовский</td>\n",
              "    </tr>\n",
              "    <tr>\n",
              "      <th>1319</th>\n",
              "      <td>(12, улица Волкова, Аки, Советский район, Каза...</td>\n",
              "      <td>(55.84985115, 49.25372233475784)</td>\n",
              "      <td>Советский</td>\n",
              "    </tr>\n",
              "    <tr>\n",
              "      <th>1320</th>\n",
              "      <td>(Пятёрочка, 14В, улица Юлиуса Фучика, Горки-3,...</td>\n",
              "      <td>(55.7420827, 49.2053247)</td>\n",
              "      <td>Приволжский</td>\n",
              "    </tr>\n",
              "    <tr>\n",
              "      <th>1321</th>\n",
              "      <td>(61Б, Чистопольская улица, Ново-Савиновский ра...</td>\n",
              "      <td>(55.82022285, 49.13268965)</td>\n",
              "      <td>Ново-Савиновский</td>\n",
              "    </tr>\n",
              "    <tr>\n",
              "      <th>1322</th>\n",
              "      <td>(Пятёрочка, 88Б, Спартаковская улица, Приволжс...</td>\n",
              "      <td>(55.7683965, 49.1527224)</td>\n",
              "      <td>Приволжский</td>\n",
              "    </tr>\n",
              "  </tbody>\n",
              "</table>\n",
              "<p>1323 rows × 3 columns</p>\n",
              "</div>\n",
              "      <button class=\"colab-df-convert\" onclick=\"convertToInteractive('df-af090e32-ef8b-4ce7-8f74-ed59d14d75ef')\"\n",
              "              title=\"Convert this dataframe to an interactive table.\"\n",
              "              style=\"display:none;\">\n",
              "        \n",
              "  <svg xmlns=\"http://www.w3.org/2000/svg\" height=\"24px\"viewBox=\"0 0 24 24\"\n",
              "       width=\"24px\">\n",
              "    <path d=\"M0 0h24v24H0V0z\" fill=\"none\"/>\n",
              "    <path d=\"M18.56 5.44l.94 2.06.94-2.06 2.06-.94-2.06-.94-.94-2.06-.94 2.06-2.06.94zm-11 1L8.5 8.5l.94-2.06 2.06-.94-2.06-.94L8.5 2.5l-.94 2.06-2.06.94zm10 10l.94 2.06.94-2.06 2.06-.94-2.06-.94-.94-2.06-.94 2.06-2.06.94z\"/><path d=\"M17.41 7.96l-1.37-1.37c-.4-.4-.92-.59-1.43-.59-.52 0-1.04.2-1.43.59L10.3 9.45l-7.72 7.72c-.78.78-.78 2.05 0 2.83L4 21.41c.39.39.9.59 1.41.59.51 0 1.02-.2 1.41-.59l7.78-7.78 2.81-2.81c.8-.78.8-2.07 0-2.86zM5.41 20L4 18.59l7.72-7.72 1.47 1.35L5.41 20z\"/>\n",
              "  </svg>\n",
              "      </button>\n",
              "      \n",
              "  <style>\n",
              "    .colab-df-container {\n",
              "      display:flex;\n",
              "      flex-wrap:wrap;\n",
              "      gap: 12px;\n",
              "    }\n",
              "\n",
              "    .colab-df-convert {\n",
              "      background-color: #E8F0FE;\n",
              "      border: none;\n",
              "      border-radius: 50%;\n",
              "      cursor: pointer;\n",
              "      display: none;\n",
              "      fill: #1967D2;\n",
              "      height: 32px;\n",
              "      padding: 0 0 0 0;\n",
              "      width: 32px;\n",
              "    }\n",
              "\n",
              "    .colab-df-convert:hover {\n",
              "      background-color: #E2EBFA;\n",
              "      box-shadow: 0px 1px 2px rgba(60, 64, 67, 0.3), 0px 1px 3px 1px rgba(60, 64, 67, 0.15);\n",
              "      fill: #174EA6;\n",
              "    }\n",
              "\n",
              "    [theme=dark] .colab-df-convert {\n",
              "      background-color: #3B4455;\n",
              "      fill: #D2E3FC;\n",
              "    }\n",
              "\n",
              "    [theme=dark] .colab-df-convert:hover {\n",
              "      background-color: #434B5C;\n",
              "      box-shadow: 0px 1px 3px 1px rgba(0, 0, 0, 0.15);\n",
              "      filter: drop-shadow(0px 1px 2px rgba(0, 0, 0, 0.3));\n",
              "      fill: #FFFFFF;\n",
              "    }\n",
              "  </style>\n",
              "\n",
              "      <script>\n",
              "        const buttonEl =\n",
              "          document.querySelector('#df-af090e32-ef8b-4ce7-8f74-ed59d14d75ef button.colab-df-convert');\n",
              "        buttonEl.style.display =\n",
              "          google.colab.kernel.accessAllowed ? 'block' : 'none';\n",
              "\n",
              "        async function convertToInteractive(key) {\n",
              "          const element = document.querySelector('#df-af090e32-ef8b-4ce7-8f74-ed59d14d75ef');\n",
              "          const dataTable =\n",
              "            await google.colab.kernel.invokeFunction('convertToInteractive',\n",
              "                                                     [key], {});\n",
              "          if (!dataTable) return;\n",
              "\n",
              "          const docLinkHtml = 'Like what you see? Visit the ' +\n",
              "            '<a target=\"_blank\" href=https://colab.research.google.com/notebooks/data_table.ipynb>data table notebook</a>'\n",
              "            + ' to learn more about interactive tables.';\n",
              "          element.innerHTML = '';\n",
              "          dataTable['output_type'] = 'display_data';\n",
              "          await google.colab.output.renderOutput(dataTable, element);\n",
              "          const docLink = document.createElement('div');\n",
              "          docLink.innerHTML = docLinkHtml;\n",
              "          element.appendChild(docLink);\n",
              "        }\n",
              "      </script>\n",
              "    </div>\n",
              "  </div>\n",
              "  "
            ]
          },
          "metadata": {},
          "execution_count": 84
        }
      ]
    },
    {
      "cell_type": "markdown",
      "source": [
        "## Also we need to get rid of cyrillic to avoid future difficulties\n",
        "But, i will leave column location for now, because it could be useful in future.\n",
        "\n",
        "I will drop it later"
      ],
      "metadata": {
        "id": "GWOUAk4kUgJK"
      }
    },
    {
      "cell_type": "code",
      "source": [
        "condition = {dist: num+1 for num, dist in enumerate(geodata['district'].unique())}\n",
        "display(condition)\n",
        "districts = \\\n",
        "pd.get_dummies(geodata.replace({\"district\": condition})[\"district\"], prefix=\"district\")\n",
        "geodata = pd.concat([geodata.drop(columns=[\"district\"]), districts], axis=1)"
      ],
      "metadata": {
        "colab": {
          "base_uri": "https://localhost:8080/",
          "height": 173
        },
        "id": "Rt_yOa7QUqms",
        "outputId": "cfc7373e-77cb-4781-b7fa-a6bd9d6355fd"
      },
      "execution_count": 85,
      "outputs": [
        {
          "output_type": "display_data",
          "data": {
            "text/plain": [
              "{'Советский': 1,\n",
              " 'Вахитовский': 2,\n",
              " 'Приволжский': 3,\n",
              " 'Ново-Савиновский': 4,\n",
              " 'Московский': 5,\n",
              " 'Кировский': 6,\n",
              " 'Авиастроительный': 7,\n",
              " 'микро М-14': 8,\n",
              " 'РУВД Московского а': 9}"
            ]
          },
          "metadata": {}
        }
      ]
    },
    {
      "cell_type": "code",
      "source": [
        "df = pd.concat([df.drop(columns=[\"Address\"]), geodata], axis=1)"
      ],
      "metadata": {
        "id": "cOkmOMYJlaze"
      },
      "execution_count": 88,
      "outputs": []
    },
    {
      "cell_type": "markdown",
      "source": [
        "# Saving dataset and new features meaning"
      ],
      "metadata": {
        "id": "lFOz4DvaoTST"
      }
    },
    {
      "cell_type": "code",
      "source": [
        "df.to_csv(\"dataset_clean_full.csv\", sep=\";\", index=False)"
      ],
      "metadata": {
        "id": "tLuYsWXKqrdJ"
      },
      "execution_count": 90,
      "outputs": []
    },
    {
      "cell_type": "code",
      "source": [
        "features_decode = pd.read_csv(\"/content/features_decode.csv\", sep=\";\")"
      ],
      "metadata": {
        "id": "W_MGLeRGq0a3"
      },
      "execution_count": 94,
      "outputs": []
    },
    {
      "cell_type": "code",
      "source": [
        "meanings = {'Советский': 'district_1',\n",
        " 'Вахитовский': 'district_2',\n",
        " 'Приволжский': 'district_3',\n",
        " 'Ново-Савиновский': 'district_4',\n",
        " 'Московский': 'district_5',\n",
        " 'Кировский': 'district_6',\n",
        " 'Авиастроительный': 'district_7',\n",
        " 'микро М-14': 'district_8',\n",
        " 'РУВД Московского а': 'district_9'}\n",
        "\n",
        "meanings = {'name': list(meanings.keys()), 'meaning': list(meanings.values())}\n",
        "meanings = pd.DataFrame(meanings)\n",
        "meanings"
      ],
      "metadata": {
        "colab": {
          "base_uri": "https://localhost:8080/",
          "height": 332
        },
        "id": "nbQO9zNhrHZK",
        "outputId": "0315ec51-5c46-41a0-b07a-95170178f2af"
      },
      "execution_count": 101,
      "outputs": [
        {
          "output_type": "execute_result",
          "data": {
            "text/plain": [
              "                 name     meaning\n",
              "0           Советский  district_1\n",
              "1         Вахитовский  district_2\n",
              "2         Приволжский  district_3\n",
              "3    Ново-Савиновский  district_4\n",
              "4          Московский  district_5\n",
              "5           Кировский  district_6\n",
              "6    Авиастроительный  district_7\n",
              "7          микро М-14  district_8\n",
              "8  РУВД Московского а  district_9"
            ],
            "text/html": [
              "\n",
              "  <div id=\"df-7fd2f02f-7446-403e-8bbb-0b2d950dc93b\">\n",
              "    <div class=\"colab-df-container\">\n",
              "      <div>\n",
              "<style scoped>\n",
              "    .dataframe tbody tr th:only-of-type {\n",
              "        vertical-align: middle;\n",
              "    }\n",
              "\n",
              "    .dataframe tbody tr th {\n",
              "        vertical-align: top;\n",
              "    }\n",
              "\n",
              "    .dataframe thead th {\n",
              "        text-align: right;\n",
              "    }\n",
              "</style>\n",
              "<table border=\"1\" class=\"dataframe\">\n",
              "  <thead>\n",
              "    <tr style=\"text-align: right;\">\n",
              "      <th></th>\n",
              "      <th>name</th>\n",
              "      <th>meaning</th>\n",
              "    </tr>\n",
              "  </thead>\n",
              "  <tbody>\n",
              "    <tr>\n",
              "      <th>0</th>\n",
              "      <td>Советский</td>\n",
              "      <td>district_1</td>\n",
              "    </tr>\n",
              "    <tr>\n",
              "      <th>1</th>\n",
              "      <td>Вахитовский</td>\n",
              "      <td>district_2</td>\n",
              "    </tr>\n",
              "    <tr>\n",
              "      <th>2</th>\n",
              "      <td>Приволжский</td>\n",
              "      <td>district_3</td>\n",
              "    </tr>\n",
              "    <tr>\n",
              "      <th>3</th>\n",
              "      <td>Ново-Савиновский</td>\n",
              "      <td>district_4</td>\n",
              "    </tr>\n",
              "    <tr>\n",
              "      <th>4</th>\n",
              "      <td>Московский</td>\n",
              "      <td>district_5</td>\n",
              "    </tr>\n",
              "    <tr>\n",
              "      <th>5</th>\n",
              "      <td>Кировский</td>\n",
              "      <td>district_6</td>\n",
              "    </tr>\n",
              "    <tr>\n",
              "      <th>6</th>\n",
              "      <td>Авиастроительный</td>\n",
              "      <td>district_7</td>\n",
              "    </tr>\n",
              "    <tr>\n",
              "      <th>7</th>\n",
              "      <td>микро М-14</td>\n",
              "      <td>district_8</td>\n",
              "    </tr>\n",
              "    <tr>\n",
              "      <th>8</th>\n",
              "      <td>РУВД Московского а</td>\n",
              "      <td>district_9</td>\n",
              "    </tr>\n",
              "  </tbody>\n",
              "</table>\n",
              "</div>\n",
              "      <button class=\"colab-df-convert\" onclick=\"convertToInteractive('df-7fd2f02f-7446-403e-8bbb-0b2d950dc93b')\"\n",
              "              title=\"Convert this dataframe to an interactive table.\"\n",
              "              style=\"display:none;\">\n",
              "        \n",
              "  <svg xmlns=\"http://www.w3.org/2000/svg\" height=\"24px\"viewBox=\"0 0 24 24\"\n",
              "       width=\"24px\">\n",
              "    <path d=\"M0 0h24v24H0V0z\" fill=\"none\"/>\n",
              "    <path d=\"M18.56 5.44l.94 2.06.94-2.06 2.06-.94-2.06-.94-.94-2.06-.94 2.06-2.06.94zm-11 1L8.5 8.5l.94-2.06 2.06-.94-2.06-.94L8.5 2.5l-.94 2.06-2.06.94zm10 10l.94 2.06.94-2.06 2.06-.94-2.06-.94-.94-2.06-.94 2.06-2.06.94z\"/><path d=\"M17.41 7.96l-1.37-1.37c-.4-.4-.92-.59-1.43-.59-.52 0-1.04.2-1.43.59L10.3 9.45l-7.72 7.72c-.78.78-.78 2.05 0 2.83L4 21.41c.39.39.9.59 1.41.59.51 0 1.02-.2 1.41-.59l7.78-7.78 2.81-2.81c.8-.78.8-2.07 0-2.86zM5.41 20L4 18.59l7.72-7.72 1.47 1.35L5.41 20z\"/>\n",
              "  </svg>\n",
              "      </button>\n",
              "      \n",
              "  <style>\n",
              "    .colab-df-container {\n",
              "      display:flex;\n",
              "      flex-wrap:wrap;\n",
              "      gap: 12px;\n",
              "    }\n",
              "\n",
              "    .colab-df-convert {\n",
              "      background-color: #E8F0FE;\n",
              "      border: none;\n",
              "      border-radius: 50%;\n",
              "      cursor: pointer;\n",
              "      display: none;\n",
              "      fill: #1967D2;\n",
              "      height: 32px;\n",
              "      padding: 0 0 0 0;\n",
              "      width: 32px;\n",
              "    }\n",
              "\n",
              "    .colab-df-convert:hover {\n",
              "      background-color: #E2EBFA;\n",
              "      box-shadow: 0px 1px 2px rgba(60, 64, 67, 0.3), 0px 1px 3px 1px rgba(60, 64, 67, 0.15);\n",
              "      fill: #174EA6;\n",
              "    }\n",
              "\n",
              "    [theme=dark] .colab-df-convert {\n",
              "      background-color: #3B4455;\n",
              "      fill: #D2E3FC;\n",
              "    }\n",
              "\n",
              "    [theme=dark] .colab-df-convert:hover {\n",
              "      background-color: #434B5C;\n",
              "      box-shadow: 0px 1px 3px 1px rgba(0, 0, 0, 0.15);\n",
              "      filter: drop-shadow(0px 1px 2px rgba(0, 0, 0, 0.3));\n",
              "      fill: #FFFFFF;\n",
              "    }\n",
              "  </style>\n",
              "\n",
              "      <script>\n",
              "        const buttonEl =\n",
              "          document.querySelector('#df-7fd2f02f-7446-403e-8bbb-0b2d950dc93b button.colab-df-convert');\n",
              "        buttonEl.style.display =\n",
              "          google.colab.kernel.accessAllowed ? 'block' : 'none';\n",
              "\n",
              "        async function convertToInteractive(key) {\n",
              "          const element = document.querySelector('#df-7fd2f02f-7446-403e-8bbb-0b2d950dc93b');\n",
              "          const dataTable =\n",
              "            await google.colab.kernel.invokeFunction('convertToInteractive',\n",
              "                                                     [key], {});\n",
              "          if (!dataTable) return;\n",
              "\n",
              "          const docLinkHtml = 'Like what you see? Visit the ' +\n",
              "            '<a target=\"_blank\" href=https://colab.research.google.com/notebooks/data_table.ipynb>data table notebook</a>'\n",
              "            + ' to learn more about interactive tables.';\n",
              "          element.innerHTML = '';\n",
              "          dataTable['output_type'] = 'display_data';\n",
              "          await google.colab.output.renderOutput(dataTable, element);\n",
              "          const docLink = document.createElement('div');\n",
              "          docLink.innerHTML = docLinkHtml;\n",
              "          element.appendChild(docLink);\n",
              "        }\n",
              "      </script>\n",
              "    </div>\n",
              "  </div>\n",
              "  "
            ]
          },
          "metadata": {},
          "execution_count": 101
        }
      ]
    },
    {
      "cell_type": "code",
      "source": [
        "features_decode = pd.concat([features_decode, meanings]).reset_index(drop=True)"
      ],
      "metadata": {
        "id": "w3mV_zv9rJ60"
      },
      "execution_count": 104,
      "outputs": []
    },
    {
      "cell_type": "code",
      "source": [
        "features_decode.to_csv(\"features_decode.csv\", sep=\";\")"
      ],
      "metadata": {
        "id": "3ZYx3V0Esn87"
      },
      "execution_count": 105,
      "outputs": []
    },
    {
      "cell_type": "code",
      "source": [],
      "metadata": {
        "id": "JOj-0bRytGrH"
      },
      "execution_count": null,
      "outputs": []
    }
  ]
}