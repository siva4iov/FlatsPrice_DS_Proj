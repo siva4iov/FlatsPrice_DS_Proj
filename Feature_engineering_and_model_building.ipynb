{
  "nbformat": 4,
  "nbformat_minor": 0,
  "metadata": {
    "colab": {
      "provenance": [],
      "collapsed_sections": [],
      "authorship_tag": "ABX9TyPhogsRbJ5Wvpl7iWbaJB4p",
      "include_colab_link": true
    },
    "kernelspec": {
      "name": "python3",
      "display_name": "Python 3"
    },
    "language_info": {
      "name": "python"
    }
  },
  "cells": [
    {
      "cell_type": "markdown",
      "metadata": {
        "id": "view-in-github",
        "colab_type": "text"
      },
      "source": [
        "<a href=\"https://colab.research.google.com/github/siva4iov/FlatsPrice_DS_Proj/blob/master/Feature_engineering_and_model_building.ipynb\" target=\"_parent\"><img src=\"https://colab.research.google.com/assets/colab-badge.svg\" alt=\"Open In Colab\"/></a>"
      ]
    },
    {
      "cell_type": "markdown",
      "source": [
        "# Model building\n",
        "\n",
        "## Import dependencies"
      ],
      "metadata": {
        "id": "vtbmCFSWbFfw"
      }
    },
    {
      "cell_type": "code",
      "source": [
        "import pandas as pd\n",
        "import numpy as np\n",
        "from google.colab import files\n",
        "import os\n",
        "import sklearn\n",
        "from matplotlib import pyplot as plt\n",
        "\n",
        "import warnings\n",
        "warnings.filterwarnings('ignore')"
      ],
      "metadata": {
        "id": "2-qsBOJ3bMXF"
      },
      "execution_count": 30,
      "outputs": []
    },
    {
      "cell_type": "code",
      "source": [
        "if not os.path.exists(\"/content/dataset_clean_full.csv\"):\n",
        "  files.upload()"
      ],
      "metadata": {
        "id": "Fx__o_3Jcimt"
      },
      "execution_count": 31,
      "outputs": []
    },
    {
      "cell_type": "code",
      "source": [
        "df = pd.read_csv(\"dataset_clean_full.csv\", sep=\";\")\n",
        "df.head()"
      ],
      "metadata": {
        "colab": {
          "base_uri": "https://localhost:8080/",
          "height": 299
        },
        "id": "pcy221BOcafl",
        "outputId": "5848531f-93d0-4119-8cec-420336aff108"
      },
      "execution_count": 32,
      "outputs": [
        {
          "output_type": "execute_result",
          "data": {
            "text/plain": [
              "   Living_space  Num_of_rooms  Renovation  Price  Total_area  Kitchen_area  \\\n",
              "0          20.0             1           1  27000        39.0          12.0   \n",
              "1           NaN             1           1  14000        18.0           NaN   \n",
              "2           NaN             3           2  40000       105.0          25.0   \n",
              "3          13.5             1           2  20000        45.0          17.5   \n",
              "4          24.0             1           2  22000        36.0           6.0   \n",
              "\n",
              "   Floor  Appliances_1  Appliances_2  Appliances_3  ...  longitude  \\\n",
              "0     10             0             1             0  ...  49.179327   \n",
              "1      9             0             0             0  ...  49.107790   \n",
              "2      2             0             1             1  ...  49.169175   \n",
              "3      5             0             1             1  ...  49.136806   \n",
              "4     10             0             1             1  ...  49.146880   \n",
              "\n",
              "   district_1  district_2  district_3  district_4  district_5  district_6  \\\n",
              "0           1           0           0           0           0           0   \n",
              "1           0           1           0           0           0           0   \n",
              "2           0           0           1           0           0           0   \n",
              "3           0           0           0           1           0           0   \n",
              "4           0           0           0           1           0           0   \n",
              "\n",
              "   district_7  district_8  district_9  \n",
              "0           0           0           0  \n",
              "1           0           0           0  \n",
              "2           0           0           0  \n",
              "3           0           0           0  \n",
              "4           0           0           0  \n",
              "\n",
              "[5 rows x 44 columns]"
            ],
            "text/html": [
              "\n",
              "  <div id=\"df-3e0b45ea-2acd-4769-a42a-b7d60e89f463\">\n",
              "    <div class=\"colab-df-container\">\n",
              "      <div>\n",
              "<style scoped>\n",
              "    .dataframe tbody tr th:only-of-type {\n",
              "        vertical-align: middle;\n",
              "    }\n",
              "\n",
              "    .dataframe tbody tr th {\n",
              "        vertical-align: top;\n",
              "    }\n",
              "\n",
              "    .dataframe thead th {\n",
              "        text-align: right;\n",
              "    }\n",
              "</style>\n",
              "<table border=\"1\" class=\"dataframe\">\n",
              "  <thead>\n",
              "    <tr style=\"text-align: right;\">\n",
              "      <th></th>\n",
              "      <th>Living_space</th>\n",
              "      <th>Num_of_rooms</th>\n",
              "      <th>Renovation</th>\n",
              "      <th>Price</th>\n",
              "      <th>Total_area</th>\n",
              "      <th>Kitchen_area</th>\n",
              "      <th>Floor</th>\n",
              "      <th>Appliances_1</th>\n",
              "      <th>Appliances_2</th>\n",
              "      <th>Appliances_3</th>\n",
              "      <th>...</th>\n",
              "      <th>longitude</th>\n",
              "      <th>district_1</th>\n",
              "      <th>district_2</th>\n",
              "      <th>district_3</th>\n",
              "      <th>district_4</th>\n",
              "      <th>district_5</th>\n",
              "      <th>district_6</th>\n",
              "      <th>district_7</th>\n",
              "      <th>district_8</th>\n",
              "      <th>district_9</th>\n",
              "    </tr>\n",
              "  </thead>\n",
              "  <tbody>\n",
              "    <tr>\n",
              "      <th>0</th>\n",
              "      <td>20.0</td>\n",
              "      <td>1</td>\n",
              "      <td>1</td>\n",
              "      <td>27000</td>\n",
              "      <td>39.0</td>\n",
              "      <td>12.0</td>\n",
              "      <td>10</td>\n",
              "      <td>0</td>\n",
              "      <td>1</td>\n",
              "      <td>0</td>\n",
              "      <td>...</td>\n",
              "      <td>49.179327</td>\n",
              "      <td>1</td>\n",
              "      <td>0</td>\n",
              "      <td>0</td>\n",
              "      <td>0</td>\n",
              "      <td>0</td>\n",
              "      <td>0</td>\n",
              "      <td>0</td>\n",
              "      <td>0</td>\n",
              "      <td>0</td>\n",
              "    </tr>\n",
              "    <tr>\n",
              "      <th>1</th>\n",
              "      <td>NaN</td>\n",
              "      <td>1</td>\n",
              "      <td>1</td>\n",
              "      <td>14000</td>\n",
              "      <td>18.0</td>\n",
              "      <td>NaN</td>\n",
              "      <td>9</td>\n",
              "      <td>0</td>\n",
              "      <td>0</td>\n",
              "      <td>0</td>\n",
              "      <td>...</td>\n",
              "      <td>49.107790</td>\n",
              "      <td>0</td>\n",
              "      <td>1</td>\n",
              "      <td>0</td>\n",
              "      <td>0</td>\n",
              "      <td>0</td>\n",
              "      <td>0</td>\n",
              "      <td>0</td>\n",
              "      <td>0</td>\n",
              "      <td>0</td>\n",
              "    </tr>\n",
              "    <tr>\n",
              "      <th>2</th>\n",
              "      <td>NaN</td>\n",
              "      <td>3</td>\n",
              "      <td>2</td>\n",
              "      <td>40000</td>\n",
              "      <td>105.0</td>\n",
              "      <td>25.0</td>\n",
              "      <td>2</td>\n",
              "      <td>0</td>\n",
              "      <td>1</td>\n",
              "      <td>1</td>\n",
              "      <td>...</td>\n",
              "      <td>49.169175</td>\n",
              "      <td>0</td>\n",
              "      <td>0</td>\n",
              "      <td>1</td>\n",
              "      <td>0</td>\n",
              "      <td>0</td>\n",
              "      <td>0</td>\n",
              "      <td>0</td>\n",
              "      <td>0</td>\n",
              "      <td>0</td>\n",
              "    </tr>\n",
              "    <tr>\n",
              "      <th>3</th>\n",
              "      <td>13.5</td>\n",
              "      <td>1</td>\n",
              "      <td>2</td>\n",
              "      <td>20000</td>\n",
              "      <td>45.0</td>\n",
              "      <td>17.5</td>\n",
              "      <td>5</td>\n",
              "      <td>0</td>\n",
              "      <td>1</td>\n",
              "      <td>1</td>\n",
              "      <td>...</td>\n",
              "      <td>49.136806</td>\n",
              "      <td>0</td>\n",
              "      <td>0</td>\n",
              "      <td>0</td>\n",
              "      <td>1</td>\n",
              "      <td>0</td>\n",
              "      <td>0</td>\n",
              "      <td>0</td>\n",
              "      <td>0</td>\n",
              "      <td>0</td>\n",
              "    </tr>\n",
              "    <tr>\n",
              "      <th>4</th>\n",
              "      <td>24.0</td>\n",
              "      <td>1</td>\n",
              "      <td>2</td>\n",
              "      <td>22000</td>\n",
              "      <td>36.0</td>\n",
              "      <td>6.0</td>\n",
              "      <td>10</td>\n",
              "      <td>0</td>\n",
              "      <td>1</td>\n",
              "      <td>1</td>\n",
              "      <td>...</td>\n",
              "      <td>49.146880</td>\n",
              "      <td>0</td>\n",
              "      <td>0</td>\n",
              "      <td>0</td>\n",
              "      <td>1</td>\n",
              "      <td>0</td>\n",
              "      <td>0</td>\n",
              "      <td>0</td>\n",
              "      <td>0</td>\n",
              "      <td>0</td>\n",
              "    </tr>\n",
              "  </tbody>\n",
              "</table>\n",
              "<p>5 rows × 44 columns</p>\n",
              "</div>\n",
              "      <button class=\"colab-df-convert\" onclick=\"convertToInteractive('df-3e0b45ea-2acd-4769-a42a-b7d60e89f463')\"\n",
              "              title=\"Convert this dataframe to an interactive table.\"\n",
              "              style=\"display:none;\">\n",
              "        \n",
              "  <svg xmlns=\"http://www.w3.org/2000/svg\" height=\"24px\"viewBox=\"0 0 24 24\"\n",
              "       width=\"24px\">\n",
              "    <path d=\"M0 0h24v24H0V0z\" fill=\"none\"/>\n",
              "    <path d=\"M18.56 5.44l.94 2.06.94-2.06 2.06-.94-2.06-.94-.94-2.06-.94 2.06-2.06.94zm-11 1L8.5 8.5l.94-2.06 2.06-.94-2.06-.94L8.5 2.5l-.94 2.06-2.06.94zm10 10l.94 2.06.94-2.06 2.06-.94-2.06-.94-.94-2.06-.94 2.06-2.06.94z\"/><path d=\"M17.41 7.96l-1.37-1.37c-.4-.4-.92-.59-1.43-.59-.52 0-1.04.2-1.43.59L10.3 9.45l-7.72 7.72c-.78.78-.78 2.05 0 2.83L4 21.41c.39.39.9.59 1.41.59.51 0 1.02-.2 1.41-.59l7.78-7.78 2.81-2.81c.8-.78.8-2.07 0-2.86zM5.41 20L4 18.59l7.72-7.72 1.47 1.35L5.41 20z\"/>\n",
              "  </svg>\n",
              "      </button>\n",
              "      \n",
              "  <style>\n",
              "    .colab-df-container {\n",
              "      display:flex;\n",
              "      flex-wrap:wrap;\n",
              "      gap: 12px;\n",
              "    }\n",
              "\n",
              "    .colab-df-convert {\n",
              "      background-color: #E8F0FE;\n",
              "      border: none;\n",
              "      border-radius: 50%;\n",
              "      cursor: pointer;\n",
              "      display: none;\n",
              "      fill: #1967D2;\n",
              "      height: 32px;\n",
              "      padding: 0 0 0 0;\n",
              "      width: 32px;\n",
              "    }\n",
              "\n",
              "    .colab-df-convert:hover {\n",
              "      background-color: #E2EBFA;\n",
              "      box-shadow: 0px 1px 2px rgba(60, 64, 67, 0.3), 0px 1px 3px 1px rgba(60, 64, 67, 0.15);\n",
              "      fill: #174EA6;\n",
              "    }\n",
              "\n",
              "    [theme=dark] .colab-df-convert {\n",
              "      background-color: #3B4455;\n",
              "      fill: #D2E3FC;\n",
              "    }\n",
              "\n",
              "    [theme=dark] .colab-df-convert:hover {\n",
              "      background-color: #434B5C;\n",
              "      box-shadow: 0px 1px 3px 1px rgba(0, 0, 0, 0.15);\n",
              "      filter: drop-shadow(0px 1px 2px rgba(0, 0, 0, 0.3));\n",
              "      fill: #FFFFFF;\n",
              "    }\n",
              "  </style>\n",
              "\n",
              "      <script>\n",
              "        const buttonEl =\n",
              "          document.querySelector('#df-3e0b45ea-2acd-4769-a42a-b7d60e89f463 button.colab-df-convert');\n",
              "        buttonEl.style.display =\n",
              "          google.colab.kernel.accessAllowed ? 'block' : 'none';\n",
              "\n",
              "        async function convertToInteractive(key) {\n",
              "          const element = document.querySelector('#df-3e0b45ea-2acd-4769-a42a-b7d60e89f463');\n",
              "          const dataTable =\n",
              "            await google.colab.kernel.invokeFunction('convertToInteractive',\n",
              "                                                     [key], {});\n",
              "          if (!dataTable) return;\n",
              "\n",
              "          const docLinkHtml = 'Like what you see? Visit the ' +\n",
              "            '<a target=\"_blank\" href=https://colab.research.google.com/notebooks/data_table.ipynb>data table notebook</a>'\n",
              "            + ' to learn more about interactive tables.';\n",
              "          element.innerHTML = '';\n",
              "          dataTable['output_type'] = 'display_data';\n",
              "          await google.colab.output.renderOutput(dataTable, element);\n",
              "          const docLink = document.createElement('div');\n",
              "          docLink.innerHTML = docLinkHtml;\n",
              "          element.appendChild(docLink);\n",
              "        }\n",
              "      </script>\n",
              "    </div>\n",
              "  </div>\n",
              "  "
            ]
          },
          "metadata": {},
          "execution_count": 32
        }
      ]
    },
    {
      "cell_type": "markdown",
      "source": [
        "## Droping uselles data\n",
        "There are some columns which have little amount of entries and are not meaningful\n",
        "\n",
        "I'm talking about `Appliances_1` and `Appliances_6`, which mean \"*iron*\" and \"*hair dryer*\".\n",
        "\n",
        "Also in districts 8 and 9 only 2 entries, so I decide to drop rows with this districts and to drop these columns"
      ],
      "metadata": {
        "id": "_ZnsdBUoeAex"
      }
    },
    {
      "cell_type": "code",
      "source": [
        "df.sum()"
      ],
      "metadata": {
        "colab": {
          "base_uri": "https://localhost:8080/"
        },
        "id": "l9IEgk9EdBXx",
        "outputId": "fb7fc617-0902-476c-f894-b0ce2fde5422"
      },
      "execution_count": 33,
      "outputs": [
        {
          "output_type": "execute_result",
          "data": {
            "text/plain": [
              "Living_space                                               23310.3\n",
              "Num_of_rooms                                                  2140\n",
              "Renovation                                                    2374\n",
              "Price                                                     39880016\n",
              "Total_area                                                 69563.7\n",
              "Kitchen_area                                               14588.3\n",
              "Floor                                                         8601\n",
              "Appliances_1                                                     9\n",
              "Appliances_2                                                   772\n",
              "Appliances_3                                                   298\n",
              "Appliances_4                                                   395\n",
              "Appliances_5                                                   187\n",
              "Appliances_6                                                     4\n",
              "Appliances_7                                                   774\n",
              "Appliances_8                                                   908\n",
              "Appliances_9                                                  1014\n",
              "Appliances_10                                                 1036\n",
              "Balcony_1                                                      536\n",
              "Balcony_2                                                      320\n",
              "Furniture_1                                                    856\n",
              "Furniture_2                                                    880\n",
              "Furniture_3                                                    870\n",
              "Internet_tv_1                                                  600\n",
              "Internet_tv_2                                                  607\n",
              "Bathroom_1                                                     252\n",
              "Bathroom_2                                                     667\n",
              "Utilities_1                                                     68\n",
              "Room_type_1                                                    547\n",
              "Room_type_2                                                    145\n",
              "Studio                                                          71\n",
              "Floors_in_b                                                  16007\n",
              "location         Газпромбанк, 3, улица Разведчика Ахмерова, Art...\n",
              "coord            (55.7978535, 49.1793271)(55.77585095, 49.10779...\n",
              "latitude                                              73821.679484\n",
              "longitude                                             65012.267404\n",
              "district_1                                                     316\n",
              "district_2                                                     212\n",
              "district_3                                                     233\n",
              "district_4                                                     287\n",
              "district_5                                                      89\n",
              "district_6                                                     116\n",
              "district_7                                                      68\n",
              "district_8                                                       1\n",
              "district_9                                                       1\n",
              "dtype: object"
            ]
          },
          "metadata": {},
          "execution_count": 33
        }
      ]
    },
    {
      "cell_type": "markdown",
      "source": [
        "Dropping districts 8 and 9"
      ],
      "metadata": {
        "id": "odmBB83ujZWv"
      }
    },
    {
      "cell_type": "code",
      "source": [
        "df = df[(df[\"district_8\"] != 1) & (df[\"district_9\"] != 1)]\\\n",
        ".drop(columns=[\"district_8\", \"district_9\"])"
      ],
      "metadata": {
        "id": "GFca4-l-dq21"
      },
      "execution_count": 34,
      "outputs": []
    },
    {
      "cell_type": "code",
      "source": [
        "df = df.drop(columns=[\"Appliances_1\", \"Appliances_6\"])"
      ],
      "metadata": {
        "id": "l3Lkl6CkiOh8"
      },
      "execution_count": 35,
      "outputs": []
    },
    {
      "cell_type": "markdown",
      "source": [
        "## Nan values"
      ],
      "metadata": {
        "id": "v31bRKdZksf9"
      }
    },
    {
      "cell_type": "code",
      "source": [
        "df.isna().sum()"
      ],
      "metadata": {
        "colab": {
          "base_uri": "https://localhost:8080/"
        },
        "id": "CCxJk50flCcU",
        "outputId": "21d553e3-fd43-4284-956d-6e776b61e1c5"
      },
      "execution_count": 36,
      "outputs": [
        {
          "output_type": "execute_result",
          "data": {
            "text/plain": [
              "Living_space     590\n",
              "Num_of_rooms       0\n",
              "Renovation         0\n",
              "Price              0\n",
              "Total_area         0\n",
              "Kitchen_area      81\n",
              "Floor              0\n",
              "Appliances_2       0\n",
              "Appliances_3       0\n",
              "Appliances_4       0\n",
              "Appliances_5       0\n",
              "Appliances_7       0\n",
              "Appliances_8       0\n",
              "Appliances_9       0\n",
              "Appliances_10      0\n",
              "Balcony_1          0\n",
              "Balcony_2          0\n",
              "Furniture_1        0\n",
              "Furniture_2        0\n",
              "Furniture_3        0\n",
              "Internet_tv_1      0\n",
              "Internet_tv_2      0\n",
              "Bathroom_1         0\n",
              "Bathroom_2         0\n",
              "Utilities_1        0\n",
              "Room_type_1        0\n",
              "Room_type_2        0\n",
              "Studio             0\n",
              "Floors_in_b        0\n",
              "location           0\n",
              "coord              0\n",
              "latitude           0\n",
              "longitude          0\n",
              "district_1         0\n",
              "district_2         0\n",
              "district_3         0\n",
              "district_4         0\n",
              "district_5         0\n",
              "district_6         0\n",
              "district_7         0\n",
              "dtype: int64"
            ]
          },
          "metadata": {},
          "execution_count": 36
        }
      ]
    },
    {
      "cell_type": "markdown",
      "source": [
        "There are only two columns: `Living_area` and `Kitchen_area`. But we have all `Total_area`.\n",
        "\n",
        "So I'll impute values depending on its `Total_area` and `Price`"
      ],
      "metadata": {
        "id": "7g6DQe7-lExW"
      }
    },
    {
      "cell_type": "code",
      "source": [
        "from sklearn.impute import KNNImputer\n",
        "cols = [\"Living_space\", 'Kitchen_area', \"Total_area\", \"Price\"]\n",
        "imputer = KNNImputer(n_neighbors=3, weights='distance', copy=True)\n",
        "x = imputer.fit_transform(df[cols])\n",
        "df.loc[:, cols] = x"
      ],
      "metadata": {
        "id": "D5sQFO9N2H11"
      },
      "execution_count": 37,
      "outputs": []
    },
    {
      "cell_type": "code",
      "source": [
        "df.isna().sum()"
      ],
      "metadata": {
        "colab": {
          "base_uri": "https://localhost:8080/"
        },
        "id": "dYn0fkDwrrGD",
        "outputId": "d72f50a9-7ab5-48d2-ebf5-da182d173a1e"
      },
      "execution_count": 38,
      "outputs": [
        {
          "output_type": "execute_result",
          "data": {
            "text/plain": [
              "Living_space     0\n",
              "Num_of_rooms     0\n",
              "Renovation       0\n",
              "Price            0\n",
              "Total_area       0\n",
              "Kitchen_area     0\n",
              "Floor            0\n",
              "Appliances_2     0\n",
              "Appliances_3     0\n",
              "Appliances_4     0\n",
              "Appliances_5     0\n",
              "Appliances_7     0\n",
              "Appliances_8     0\n",
              "Appliances_9     0\n",
              "Appliances_10    0\n",
              "Balcony_1        0\n",
              "Balcony_2        0\n",
              "Furniture_1      0\n",
              "Furniture_2      0\n",
              "Furniture_3      0\n",
              "Internet_tv_1    0\n",
              "Internet_tv_2    0\n",
              "Bathroom_1       0\n",
              "Bathroom_2       0\n",
              "Utilities_1      0\n",
              "Room_type_1      0\n",
              "Room_type_2      0\n",
              "Studio           0\n",
              "Floors_in_b      0\n",
              "location         0\n",
              "coord            0\n",
              "latitude         0\n",
              "longitude        0\n",
              "district_1       0\n",
              "district_2       0\n",
              "district_3       0\n",
              "district_4       0\n",
              "district_5       0\n",
              "district_6       0\n",
              "district_7       0\n",
              "dtype: int64"
            ]
          },
          "metadata": {},
          "execution_count": 38
        }
      ]
    },
    {
      "cell_type": "code",
      "source": [
        "df.columns"
      ],
      "metadata": {
        "colab": {
          "base_uri": "https://localhost:8080/"
        },
        "id": "3WcVDFc444lf",
        "outputId": "24e5f078-a21d-43e0-ad1a-4ba556c747fd"
      },
      "execution_count": 39,
      "outputs": [
        {
          "output_type": "execute_result",
          "data": {
            "text/plain": [
              "Index(['Living_space', 'Num_of_rooms', 'Renovation', 'Price', 'Total_area',\n",
              "       'Kitchen_area', 'Floor', 'Appliances_2', 'Appliances_3', 'Appliances_4',\n",
              "       'Appliances_5', 'Appliances_7', 'Appliances_8', 'Appliances_9',\n",
              "       'Appliances_10', 'Balcony_1', 'Balcony_2', 'Furniture_1', 'Furniture_2',\n",
              "       'Furniture_3', 'Internet_tv_1', 'Internet_tv_2', 'Bathroom_1',\n",
              "       'Bathroom_2', 'Utilities_1', 'Room_type_1', 'Room_type_2', 'Studio',\n",
              "       'Floors_in_b', 'location', 'coord', 'latitude', 'longitude',\n",
              "       'district_1', 'district_2', 'district_3', 'district_4', 'district_5',\n",
              "       'district_6', 'district_7'],\n",
              "      dtype='object')"
            ]
          },
          "metadata": {},
          "execution_count": 39
        }
      ]
    },
    {
      "cell_type": "markdown",
      "source": [
        "## Lets add some more features\n",
        "\n",
        "As I planned, I will add feature *is it 1st floor or not*"
      ],
      "metadata": {
        "id": "dKY_RnO65HvT"
      }
    },
    {
      "cell_type": "code",
      "source": [
        "df.loc[:, \"1st_floor\"] = (df['Floor'] == 1).astype(np.int8)\n",
        "df[\"1st_floor\"].sum()"
      ],
      "metadata": {
        "colab": {
          "base_uri": "https://localhost:8080/"
        },
        "id": "kJi9kT5-GgTl",
        "outputId": "9d0f9a48-83aa-4ee1-c853-8f6aef6772fc"
      },
      "execution_count": 40,
      "outputs": [
        {
          "output_type": "execute_result",
          "data": {
            "text/plain": [
              "84"
            ]
          },
          "metadata": {},
          "execution_count": 40
        }
      ]
    },
    {
      "cell_type": "markdown",
      "source": [
        "Only 84 entries, i will decide later, use this feature or not\n",
        "\n",
        "Also, I should add calculated distances to metro/city_center"
      ],
      "metadata": {
        "id": "FWZHrObpHSMw"
      }
    },
    {
      "cell_type": "code",
      "source": [
        "from geopy.distance import geodesic as GD\n",
        "\n",
        "metro = [\n",
        "    [55.74437098345888, 49.21842147085857],\n",
        "    [55.75005848187576, 49.20874803385248],\n",
        "    [55.759933872926894, 49.19165479076522],\n",
        "    [55.765435, 49.165143],\n",
        "    [55.77690597053148, 49.142589131055516],\n",
        "    [55.787108350131085, 49.122054609493496],\n",
        "    [55.7959302953497, 49.1062780870964],\n",
        "    [55.81666978747769, 49.09852469080619],\n",
        "    [55.82716721066275, 49.08321529204553]\n",
        "]\n",
        "metro = np.array(metro)\n",
        "\n",
        "city_center = [[55.787602, 49.121079]]\n",
        "city_center = np.array(city_center)\n",
        "\n",
        "\n",
        "def calc_distances(df: pd.DataFrame) -> pd.DataFrame:\n",
        "  distances = []\n",
        "  values = df.loc[:, [\"latitude\", \"longitude\"]].values\n",
        "  min_d = None\n",
        "  for coords in values:\n",
        "    for st in metro:\n",
        "      d = GD(coords, st).km\n",
        "      if (min_d is None) or d < min_d:\n",
        "        min_d = d\n",
        "    cc_d = GD(coords, city_center[0]).km\n",
        "    distances.append([min_d, cc_d])\n",
        "    min_d = None\n",
        "  distances = np.array(distances)\n",
        "  return pd.DataFrame(distances, columns=[\"Metro_d\", \"Center_d\"])\n",
        "distances = calc_distances(df)\n",
        "distances"
      ],
      "metadata": {
        "colab": {
          "base_uri": "https://localhost:8080/",
          "height": 424
        },
        "id": "Z_FMfFDvHgII",
        "outputId": "3cc3c119-4771-4939-ff9f-038c5fca8502"
      },
      "execution_count": 41,
      "outputs": [
        {
          "output_type": "execute_result",
          "data": {
            "text/plain": [
              "        Metro_d   Center_d\n",
              "0      3.278917   3.827817\n",
              "1      1.540129   1.551438\n",
              "2      3.213987   6.911961\n",
              "3      2.400260   3.336201\n",
              "4      3.178507   4.494772\n",
              "...         ...        ...\n",
              "1316   0.423964   0.889100\n",
              "1317  10.402943  10.824456\n",
              "1318   0.861105   7.324594\n",
              "1319   2.177858   3.704208\n",
              "1320   0.846473   2.918049\n",
              "\n",
              "[1321 rows x 2 columns]"
            ],
            "text/html": [
              "\n",
              "  <div id=\"df-37d8f5b3-dcd2-4257-98a6-e7f9980b6ba2\">\n",
              "    <div class=\"colab-df-container\">\n",
              "      <div>\n",
              "<style scoped>\n",
              "    .dataframe tbody tr th:only-of-type {\n",
              "        vertical-align: middle;\n",
              "    }\n",
              "\n",
              "    .dataframe tbody tr th {\n",
              "        vertical-align: top;\n",
              "    }\n",
              "\n",
              "    .dataframe thead th {\n",
              "        text-align: right;\n",
              "    }\n",
              "</style>\n",
              "<table border=\"1\" class=\"dataframe\">\n",
              "  <thead>\n",
              "    <tr style=\"text-align: right;\">\n",
              "      <th></th>\n",
              "      <th>Metro_d</th>\n",
              "      <th>Center_d</th>\n",
              "    </tr>\n",
              "  </thead>\n",
              "  <tbody>\n",
              "    <tr>\n",
              "      <th>0</th>\n",
              "      <td>3.278917</td>\n",
              "      <td>3.827817</td>\n",
              "    </tr>\n",
              "    <tr>\n",
              "      <th>1</th>\n",
              "      <td>1.540129</td>\n",
              "      <td>1.551438</td>\n",
              "    </tr>\n",
              "    <tr>\n",
              "      <th>2</th>\n",
              "      <td>3.213987</td>\n",
              "      <td>6.911961</td>\n",
              "    </tr>\n",
              "    <tr>\n",
              "      <th>3</th>\n",
              "      <td>2.400260</td>\n",
              "      <td>3.336201</td>\n",
              "    </tr>\n",
              "    <tr>\n",
              "      <th>4</th>\n",
              "      <td>3.178507</td>\n",
              "      <td>4.494772</td>\n",
              "    </tr>\n",
              "    <tr>\n",
              "      <th>...</th>\n",
              "      <td>...</td>\n",
              "      <td>...</td>\n",
              "    </tr>\n",
              "    <tr>\n",
              "      <th>1316</th>\n",
              "      <td>0.423964</td>\n",
              "      <td>0.889100</td>\n",
              "    </tr>\n",
              "    <tr>\n",
              "      <th>1317</th>\n",
              "      <td>10.402943</td>\n",
              "      <td>10.824456</td>\n",
              "    </tr>\n",
              "    <tr>\n",
              "      <th>1318</th>\n",
              "      <td>0.861105</td>\n",
              "      <td>7.324594</td>\n",
              "    </tr>\n",
              "    <tr>\n",
              "      <th>1319</th>\n",
              "      <td>2.177858</td>\n",
              "      <td>3.704208</td>\n",
              "    </tr>\n",
              "    <tr>\n",
              "      <th>1320</th>\n",
              "      <td>0.846473</td>\n",
              "      <td>2.918049</td>\n",
              "    </tr>\n",
              "  </tbody>\n",
              "</table>\n",
              "<p>1321 rows × 2 columns</p>\n",
              "</div>\n",
              "      <button class=\"colab-df-convert\" onclick=\"convertToInteractive('df-37d8f5b3-dcd2-4257-98a6-e7f9980b6ba2')\"\n",
              "              title=\"Convert this dataframe to an interactive table.\"\n",
              "              style=\"display:none;\">\n",
              "        \n",
              "  <svg xmlns=\"http://www.w3.org/2000/svg\" height=\"24px\"viewBox=\"0 0 24 24\"\n",
              "       width=\"24px\">\n",
              "    <path d=\"M0 0h24v24H0V0z\" fill=\"none\"/>\n",
              "    <path d=\"M18.56 5.44l.94 2.06.94-2.06 2.06-.94-2.06-.94-.94-2.06-.94 2.06-2.06.94zm-11 1L8.5 8.5l.94-2.06 2.06-.94-2.06-.94L8.5 2.5l-.94 2.06-2.06.94zm10 10l.94 2.06.94-2.06 2.06-.94-2.06-.94-.94-2.06-.94 2.06-2.06.94z\"/><path d=\"M17.41 7.96l-1.37-1.37c-.4-.4-.92-.59-1.43-.59-.52 0-1.04.2-1.43.59L10.3 9.45l-7.72 7.72c-.78.78-.78 2.05 0 2.83L4 21.41c.39.39.9.59 1.41.59.51 0 1.02-.2 1.41-.59l7.78-7.78 2.81-2.81c.8-.78.8-2.07 0-2.86zM5.41 20L4 18.59l7.72-7.72 1.47 1.35L5.41 20z\"/>\n",
              "  </svg>\n",
              "      </button>\n",
              "      \n",
              "  <style>\n",
              "    .colab-df-container {\n",
              "      display:flex;\n",
              "      flex-wrap:wrap;\n",
              "      gap: 12px;\n",
              "    }\n",
              "\n",
              "    .colab-df-convert {\n",
              "      background-color: #E8F0FE;\n",
              "      border: none;\n",
              "      border-radius: 50%;\n",
              "      cursor: pointer;\n",
              "      display: none;\n",
              "      fill: #1967D2;\n",
              "      height: 32px;\n",
              "      padding: 0 0 0 0;\n",
              "      width: 32px;\n",
              "    }\n",
              "\n",
              "    .colab-df-convert:hover {\n",
              "      background-color: #E2EBFA;\n",
              "      box-shadow: 0px 1px 2px rgba(60, 64, 67, 0.3), 0px 1px 3px 1px rgba(60, 64, 67, 0.15);\n",
              "      fill: #174EA6;\n",
              "    }\n",
              "\n",
              "    [theme=dark] .colab-df-convert {\n",
              "      background-color: #3B4455;\n",
              "      fill: #D2E3FC;\n",
              "    }\n",
              "\n",
              "    [theme=dark] .colab-df-convert:hover {\n",
              "      background-color: #434B5C;\n",
              "      box-shadow: 0px 1px 3px 1px rgba(0, 0, 0, 0.15);\n",
              "      filter: drop-shadow(0px 1px 2px rgba(0, 0, 0, 0.3));\n",
              "      fill: #FFFFFF;\n",
              "    }\n",
              "  </style>\n",
              "\n",
              "      <script>\n",
              "        const buttonEl =\n",
              "          document.querySelector('#df-37d8f5b3-dcd2-4257-98a6-e7f9980b6ba2 button.colab-df-convert');\n",
              "        buttonEl.style.display =\n",
              "          google.colab.kernel.accessAllowed ? 'block' : 'none';\n",
              "\n",
              "        async function convertToInteractive(key) {\n",
              "          const element = document.querySelector('#df-37d8f5b3-dcd2-4257-98a6-e7f9980b6ba2');\n",
              "          const dataTable =\n",
              "            await google.colab.kernel.invokeFunction('convertToInteractive',\n",
              "                                                     [key], {});\n",
              "          if (!dataTable) return;\n",
              "\n",
              "          const docLinkHtml = 'Like what you see? Visit the ' +\n",
              "            '<a target=\"_blank\" href=https://colab.research.google.com/notebooks/data_table.ipynb>data table notebook</a>'\n",
              "            + ' to learn more about interactive tables.';\n",
              "          element.innerHTML = '';\n",
              "          dataTable['output_type'] = 'display_data';\n",
              "          await google.colab.output.renderOutput(dataTable, element);\n",
              "          const docLink = document.createElement('div');\n",
              "          docLink.innerHTML = docLinkHtml;\n",
              "          element.appendChild(docLink);\n",
              "        }\n",
              "      </script>\n",
              "    </div>\n",
              "  </div>\n",
              "  "
            ]
          },
          "metadata": {},
          "execution_count": 41
        }
      ]
    },
    {
      "cell_type": "code",
      "source": [
        "df = pd.concat([df.reset_index(drop=True), distances], axis=1)"
      ],
      "metadata": {
        "id": "9dJ66VNGIUyM"
      },
      "execution_count": 42,
      "outputs": []
    },
    {
      "cell_type": "code",
      "source": [
        "df.isna().sum()"
      ],
      "metadata": {
        "colab": {
          "base_uri": "https://localhost:8080/"
        },
        "id": "9ntPKDM58zE8",
        "outputId": "ec08c690-a261-44ed-eea7-b5aee5aebe5f"
      },
      "execution_count": 43,
      "outputs": [
        {
          "output_type": "execute_result",
          "data": {
            "text/plain": [
              "Living_space     0\n",
              "Num_of_rooms     0\n",
              "Renovation       0\n",
              "Price            0\n",
              "Total_area       0\n",
              "Kitchen_area     0\n",
              "Floor            0\n",
              "Appliances_2     0\n",
              "Appliances_3     0\n",
              "Appliances_4     0\n",
              "Appliances_5     0\n",
              "Appliances_7     0\n",
              "Appliances_8     0\n",
              "Appliances_9     0\n",
              "Appliances_10    0\n",
              "Balcony_1        0\n",
              "Balcony_2        0\n",
              "Furniture_1      0\n",
              "Furniture_2      0\n",
              "Furniture_3      0\n",
              "Internet_tv_1    0\n",
              "Internet_tv_2    0\n",
              "Bathroom_1       0\n",
              "Bathroom_2       0\n",
              "Utilities_1      0\n",
              "Room_type_1      0\n",
              "Room_type_2      0\n",
              "Studio           0\n",
              "Floors_in_b      0\n",
              "location         0\n",
              "coord            0\n",
              "latitude         0\n",
              "longitude        0\n",
              "district_1       0\n",
              "district_2       0\n",
              "district_3       0\n",
              "district_4       0\n",
              "district_5       0\n",
              "district_6       0\n",
              "district_7       0\n",
              "1st_floor        0\n",
              "Metro_d          0\n",
              "Center_d         0\n",
              "dtype: int64"
            ]
          },
          "metadata": {},
          "execution_count": 43
        }
      ]
    },
    {
      "cell_type": "markdown",
      "source": [
        "## Droping location data with coordinates"
      ],
      "metadata": {
        "id": "W3-IcOKak4L5"
      }
    },
    {
      "cell_type": "code",
      "source": [
        "df = df.drop(columns=['location', 'coord', 'latitude', 'longitude'])"
      ],
      "metadata": {
        "id": "Oms6GHkPlkj1"
      },
      "execution_count": 44,
      "outputs": []
    },
    {
      "cell_type": "markdown",
      "source": [
        "## Separating target variable"
      ],
      "metadata": {
        "id": "S9pG5Xd_pEeH"
      }
    },
    {
      "cell_type": "code",
      "source": [
        "y = df.loc[:, \"Price\"]\n",
        "X = df.drop(columns=[\"Price\"])\n",
        "X.head()"
      ],
      "metadata": {
        "colab": {
          "base_uri": "https://localhost:8080/",
          "height": 299
        },
        "id": "8mh4CNhyl8BW",
        "outputId": "b9aa8ba6-8d5f-466e-c7ff-cddf307342a8"
      },
      "execution_count": 45,
      "outputs": [
        {
          "output_type": "execute_result",
          "data": {
            "text/plain": [
              "   Living_space  Num_of_rooms  Renovation  Total_area  Kitchen_area  Floor  \\\n",
              "0     20.000000             1           1        39.0          12.0     10   \n",
              "1     16.411765             1           1        18.0           7.0      9   \n",
              "2     75.453998             3           2       105.0          25.0      2   \n",
              "3     13.500000             1           2        45.0          17.5      5   \n",
              "4     24.000000             1           2        36.0           6.0     10   \n",
              "\n",
              "   Appliances_2  Appliances_3  Appliances_4  Appliances_5  ...  district_1  \\\n",
              "0             1             0             0             0  ...           1   \n",
              "1             0             0             0             0  ...           0   \n",
              "2             1             1             1             0  ...           0   \n",
              "3             1             1             1             0  ...           0   \n",
              "4             1             1             1             0  ...           0   \n",
              "\n",
              "   district_2  district_3  district_4  district_5  district_6  district_7  \\\n",
              "0           0           0           0           0           0           0   \n",
              "1           1           0           0           0           0           0   \n",
              "2           0           1           0           0           0           0   \n",
              "3           0           0           1           0           0           0   \n",
              "4           0           0           1           0           0           0   \n",
              "\n",
              "   1st_floor   Metro_d  Center_d  \n",
              "0          0  3.278917  3.827817  \n",
              "1          0  1.540129  1.551438  \n",
              "2          0  3.213987  6.911961  \n",
              "3          0  2.400260  3.336201  \n",
              "4          0  3.178507  4.494772  \n",
              "\n",
              "[5 rows x 38 columns]"
            ],
            "text/html": [
              "\n",
              "  <div id=\"df-aca23b76-eb1f-4ac1-a049-36a480853848\">\n",
              "    <div class=\"colab-df-container\">\n",
              "      <div>\n",
              "<style scoped>\n",
              "    .dataframe tbody tr th:only-of-type {\n",
              "        vertical-align: middle;\n",
              "    }\n",
              "\n",
              "    .dataframe tbody tr th {\n",
              "        vertical-align: top;\n",
              "    }\n",
              "\n",
              "    .dataframe thead th {\n",
              "        text-align: right;\n",
              "    }\n",
              "</style>\n",
              "<table border=\"1\" class=\"dataframe\">\n",
              "  <thead>\n",
              "    <tr style=\"text-align: right;\">\n",
              "      <th></th>\n",
              "      <th>Living_space</th>\n",
              "      <th>Num_of_rooms</th>\n",
              "      <th>Renovation</th>\n",
              "      <th>Total_area</th>\n",
              "      <th>Kitchen_area</th>\n",
              "      <th>Floor</th>\n",
              "      <th>Appliances_2</th>\n",
              "      <th>Appliances_3</th>\n",
              "      <th>Appliances_4</th>\n",
              "      <th>Appliances_5</th>\n",
              "      <th>...</th>\n",
              "      <th>district_1</th>\n",
              "      <th>district_2</th>\n",
              "      <th>district_3</th>\n",
              "      <th>district_4</th>\n",
              "      <th>district_5</th>\n",
              "      <th>district_6</th>\n",
              "      <th>district_7</th>\n",
              "      <th>1st_floor</th>\n",
              "      <th>Metro_d</th>\n",
              "      <th>Center_d</th>\n",
              "    </tr>\n",
              "  </thead>\n",
              "  <tbody>\n",
              "    <tr>\n",
              "      <th>0</th>\n",
              "      <td>20.000000</td>\n",
              "      <td>1</td>\n",
              "      <td>1</td>\n",
              "      <td>39.0</td>\n",
              "      <td>12.0</td>\n",
              "      <td>10</td>\n",
              "      <td>1</td>\n",
              "      <td>0</td>\n",
              "      <td>0</td>\n",
              "      <td>0</td>\n",
              "      <td>...</td>\n",
              "      <td>1</td>\n",
              "      <td>0</td>\n",
              "      <td>0</td>\n",
              "      <td>0</td>\n",
              "      <td>0</td>\n",
              "      <td>0</td>\n",
              "      <td>0</td>\n",
              "      <td>0</td>\n",
              "      <td>3.278917</td>\n",
              "      <td>3.827817</td>\n",
              "    </tr>\n",
              "    <tr>\n",
              "      <th>1</th>\n",
              "      <td>16.411765</td>\n",
              "      <td>1</td>\n",
              "      <td>1</td>\n",
              "      <td>18.0</td>\n",
              "      <td>7.0</td>\n",
              "      <td>9</td>\n",
              "      <td>0</td>\n",
              "      <td>0</td>\n",
              "      <td>0</td>\n",
              "      <td>0</td>\n",
              "      <td>...</td>\n",
              "      <td>0</td>\n",
              "      <td>1</td>\n",
              "      <td>0</td>\n",
              "      <td>0</td>\n",
              "      <td>0</td>\n",
              "      <td>0</td>\n",
              "      <td>0</td>\n",
              "      <td>0</td>\n",
              "      <td>1.540129</td>\n",
              "      <td>1.551438</td>\n",
              "    </tr>\n",
              "    <tr>\n",
              "      <th>2</th>\n",
              "      <td>75.453998</td>\n",
              "      <td>3</td>\n",
              "      <td>2</td>\n",
              "      <td>105.0</td>\n",
              "      <td>25.0</td>\n",
              "      <td>2</td>\n",
              "      <td>1</td>\n",
              "      <td>1</td>\n",
              "      <td>1</td>\n",
              "      <td>0</td>\n",
              "      <td>...</td>\n",
              "      <td>0</td>\n",
              "      <td>0</td>\n",
              "      <td>1</td>\n",
              "      <td>0</td>\n",
              "      <td>0</td>\n",
              "      <td>0</td>\n",
              "      <td>0</td>\n",
              "      <td>0</td>\n",
              "      <td>3.213987</td>\n",
              "      <td>6.911961</td>\n",
              "    </tr>\n",
              "    <tr>\n",
              "      <th>3</th>\n",
              "      <td>13.500000</td>\n",
              "      <td>1</td>\n",
              "      <td>2</td>\n",
              "      <td>45.0</td>\n",
              "      <td>17.5</td>\n",
              "      <td>5</td>\n",
              "      <td>1</td>\n",
              "      <td>1</td>\n",
              "      <td>1</td>\n",
              "      <td>0</td>\n",
              "      <td>...</td>\n",
              "      <td>0</td>\n",
              "      <td>0</td>\n",
              "      <td>0</td>\n",
              "      <td>1</td>\n",
              "      <td>0</td>\n",
              "      <td>0</td>\n",
              "      <td>0</td>\n",
              "      <td>0</td>\n",
              "      <td>2.400260</td>\n",
              "      <td>3.336201</td>\n",
              "    </tr>\n",
              "    <tr>\n",
              "      <th>4</th>\n",
              "      <td>24.000000</td>\n",
              "      <td>1</td>\n",
              "      <td>2</td>\n",
              "      <td>36.0</td>\n",
              "      <td>6.0</td>\n",
              "      <td>10</td>\n",
              "      <td>1</td>\n",
              "      <td>1</td>\n",
              "      <td>1</td>\n",
              "      <td>0</td>\n",
              "      <td>...</td>\n",
              "      <td>0</td>\n",
              "      <td>0</td>\n",
              "      <td>0</td>\n",
              "      <td>1</td>\n",
              "      <td>0</td>\n",
              "      <td>0</td>\n",
              "      <td>0</td>\n",
              "      <td>0</td>\n",
              "      <td>3.178507</td>\n",
              "      <td>4.494772</td>\n",
              "    </tr>\n",
              "  </tbody>\n",
              "</table>\n",
              "<p>5 rows × 38 columns</p>\n",
              "</div>\n",
              "      <button class=\"colab-df-convert\" onclick=\"convertToInteractive('df-aca23b76-eb1f-4ac1-a049-36a480853848')\"\n",
              "              title=\"Convert this dataframe to an interactive table.\"\n",
              "              style=\"display:none;\">\n",
              "        \n",
              "  <svg xmlns=\"http://www.w3.org/2000/svg\" height=\"24px\"viewBox=\"0 0 24 24\"\n",
              "       width=\"24px\">\n",
              "    <path d=\"M0 0h24v24H0V0z\" fill=\"none\"/>\n",
              "    <path d=\"M18.56 5.44l.94 2.06.94-2.06 2.06-.94-2.06-.94-.94-2.06-.94 2.06-2.06.94zm-11 1L8.5 8.5l.94-2.06 2.06-.94-2.06-.94L8.5 2.5l-.94 2.06-2.06.94zm10 10l.94 2.06.94-2.06 2.06-.94-2.06-.94-.94-2.06-.94 2.06-2.06.94z\"/><path d=\"M17.41 7.96l-1.37-1.37c-.4-.4-.92-.59-1.43-.59-.52 0-1.04.2-1.43.59L10.3 9.45l-7.72 7.72c-.78.78-.78 2.05 0 2.83L4 21.41c.39.39.9.59 1.41.59.51 0 1.02-.2 1.41-.59l7.78-7.78 2.81-2.81c.8-.78.8-2.07 0-2.86zM5.41 20L4 18.59l7.72-7.72 1.47 1.35L5.41 20z\"/>\n",
              "  </svg>\n",
              "      </button>\n",
              "      \n",
              "  <style>\n",
              "    .colab-df-container {\n",
              "      display:flex;\n",
              "      flex-wrap:wrap;\n",
              "      gap: 12px;\n",
              "    }\n",
              "\n",
              "    .colab-df-convert {\n",
              "      background-color: #E8F0FE;\n",
              "      border: none;\n",
              "      border-radius: 50%;\n",
              "      cursor: pointer;\n",
              "      display: none;\n",
              "      fill: #1967D2;\n",
              "      height: 32px;\n",
              "      padding: 0 0 0 0;\n",
              "      width: 32px;\n",
              "    }\n",
              "\n",
              "    .colab-df-convert:hover {\n",
              "      background-color: #E2EBFA;\n",
              "      box-shadow: 0px 1px 2px rgba(60, 64, 67, 0.3), 0px 1px 3px 1px rgba(60, 64, 67, 0.15);\n",
              "      fill: #174EA6;\n",
              "    }\n",
              "\n",
              "    [theme=dark] .colab-df-convert {\n",
              "      background-color: #3B4455;\n",
              "      fill: #D2E3FC;\n",
              "    }\n",
              "\n",
              "    [theme=dark] .colab-df-convert:hover {\n",
              "      background-color: #434B5C;\n",
              "      box-shadow: 0px 1px 3px 1px rgba(0, 0, 0, 0.15);\n",
              "      filter: drop-shadow(0px 1px 2px rgba(0, 0, 0, 0.3));\n",
              "      fill: #FFFFFF;\n",
              "    }\n",
              "  </style>\n",
              "\n",
              "      <script>\n",
              "        const buttonEl =\n",
              "          document.querySelector('#df-aca23b76-eb1f-4ac1-a049-36a480853848 button.colab-df-convert');\n",
              "        buttonEl.style.display =\n",
              "          google.colab.kernel.accessAllowed ? 'block' : 'none';\n",
              "\n",
              "        async function convertToInteractive(key) {\n",
              "          const element = document.querySelector('#df-aca23b76-eb1f-4ac1-a049-36a480853848');\n",
              "          const dataTable =\n",
              "            await google.colab.kernel.invokeFunction('convertToInteractive',\n",
              "                                                     [key], {});\n",
              "          if (!dataTable) return;\n",
              "\n",
              "          const docLinkHtml = 'Like what you see? Visit the ' +\n",
              "            '<a target=\"_blank\" href=https://colab.research.google.com/notebooks/data_table.ipynb>data table notebook</a>'\n",
              "            + ' to learn more about interactive tables.';\n",
              "          element.innerHTML = '';\n",
              "          dataTable['output_type'] = 'display_data';\n",
              "          await google.colab.output.renderOutput(dataTable, element);\n",
              "          const docLink = document.createElement('div');\n",
              "          docLink.innerHTML = docLinkHtml;\n",
              "          element.appendChild(docLink);\n",
              "        }\n",
              "      </script>\n",
              "    </div>\n",
              "  </div>\n",
              "  "
            ]
          },
          "metadata": {},
          "execution_count": 45
        }
      ]
    },
    {
      "cell_type": "markdown",
      "source": [
        "## Pipiline for normalizing data\n",
        "\n",
        "I already OH-encoded the categorical features,\n",
        "so I will use transformer for numerical features \n"
      ],
      "metadata": {
        "id": "yv5feWW2oihK"
      }
    },
    {
      "cell_type": "code",
      "source": [
        "from sklearn.pipeline import Pipeline\n",
        "from sklearn.preprocessing import StandardScaler, FunctionTransformer\n",
        "from sklearn.compose import ColumnTransformer, make_column_selector\n",
        "\n",
        "cols = [\"Living_space\", \"Total_area\", \"Kitchen_area\", \"Floor\", \"Floors_in_b\",\n",
        "        \"Metro_d\", \"Center_d\"]\n",
        "\n",
        "num_transformer = Pipeline(steps=[\n",
        "    (\"log_transformer\", FunctionTransformer(np.log)), #log transformation make distribution look more gaussian\n",
        "    (\"scaler\", StandardScaler())\n",
        "], memory=\"scaler_memory\")\n",
        "\n",
        "ct = ColumnTransformer([\n",
        "    (\"num_transformer\", num_transformer, cols)\n",
        "])\n",
        "\n"
      ],
      "metadata": {
        "id": "hrdqaHhoo2B1"
      },
      "execution_count": 46,
      "outputs": []
    },
    {
      "cell_type": "markdown",
      "source": [
        "Transforming"
      ],
      "metadata": {
        "id": "ucjv_V91p8mZ"
      }
    },
    {
      "cell_type": "code",
      "source": [
        "X = ct.fit_transform(X)"
      ],
      "metadata": {
        "id": "wmEhCsbCp4x6"
      },
      "execution_count": 47,
      "outputs": []
    },
    {
      "cell_type": "code",
      "source": [],
      "metadata": {
        "id": "bt_aHyPZtdoZ"
      },
      "execution_count": 47,
      "outputs": []
    },
    {
      "cell_type": "markdown",
      "source": [
        "## Let's try some baseline approaches\n",
        "\n",
        "Here basically linear models and I noticed that they are working better with polynomial transformation, so I will check score on both data:\n",
        "regular, and polynomial transformated\n",
        "\n",
        "## Cross-validation\n",
        "\n",
        "Dataset is quite small, so a good solution would be to use cross validation"
      ],
      "metadata": {
        "id": "IFNdmtzSpxAl"
      }
    },
    {
      "cell_type": "code",
      "source": [
        "from sklearn.preprocessing import PolynomialFeatures\n",
        "from sklearn import linear_model\n",
        "from sklearn.linear_model import ElasticNet\n",
        "from sklearn.neighbors import KNeighborsRegressor\n",
        "from sklearn import tree\n",
        "\n",
        "from sklearn.model_selection import cross_val_score\n",
        "\n",
        "\n",
        "\n",
        "pf = PolynomialFeatures()\n",
        "X_poly = pf.fit_transform(X)\n",
        "\n",
        "models = [\n",
        "    linear_model.LinearRegression(), linear_model.Lasso(500),\n",
        "    ElasticNet(0.1), linear_model.BayesianRidge(),\n",
        "    KNeighborsRegressor(10, weights='distance'),\n",
        "    tree.DecisionTreeRegressor(max_depth=4)\n",
        "          ]\n",
        "\n",
        "model_names = [\n",
        "    \"LinearReg\", \"Lasso\", \"ElasticNet\", \"BayesianRidge\",\n",
        "    \"KNN\", \"DecisionTree\"\n",
        "]\n",
        "scores = []\n",
        "scores_poly = []\n",
        "\n",
        "for model in models:\n",
        "  scores.append(cross_val_score(model, X, y, cv=5).mean())\n",
        "  scores_poly.append(cross_val_score(model, X_poly, y, cv=5).mean())\n",
        "\n",
        "score = pd.DataFrame(np.array([model_names, scores, scores_poly]).T,\n",
        "                     columns=[\"Model\", \"Score\", \"Scores(Poly features)\"])\n",
        "\n",
        "score"
      ],
      "metadata": {
        "colab": {
          "base_uri": "https://localhost:8080/",
          "height": 237
        },
        "id": "F24TKKWbvxUE",
        "outputId": "31bf23e1-c81f-498e-9fbf-94b7d6a5044c"
      },
      "execution_count": 48,
      "outputs": [
        {
          "output_type": "execute_result",
          "data": {
            "text/plain": [
              "           Model                Score Scores(Poly features)\n",
              "0      LinearReg   0.3845046748187818    0.4973469855823929\n",
              "1          Lasso  0.39094301422959227    0.5092355689513344\n",
              "2     ElasticNet  0.39062251012604526    0.5013850452499569\n",
              "3  BayesianRidge  0.38646194520887994    0.5000986535430425\n",
              "4            KNN   0.5503278661000217    0.5240647160917804\n",
              "5   DecisionTree   0.3667871940241484   0.34971376244646846"
            ],
            "text/html": [
              "\n",
              "  <div id=\"df-2a6a2c09-cc59-4447-83cc-496e37389fe3\">\n",
              "    <div class=\"colab-df-container\">\n",
              "      <div>\n",
              "<style scoped>\n",
              "    .dataframe tbody tr th:only-of-type {\n",
              "        vertical-align: middle;\n",
              "    }\n",
              "\n",
              "    .dataframe tbody tr th {\n",
              "        vertical-align: top;\n",
              "    }\n",
              "\n",
              "    .dataframe thead th {\n",
              "        text-align: right;\n",
              "    }\n",
              "</style>\n",
              "<table border=\"1\" class=\"dataframe\">\n",
              "  <thead>\n",
              "    <tr style=\"text-align: right;\">\n",
              "      <th></th>\n",
              "      <th>Model</th>\n",
              "      <th>Score</th>\n",
              "      <th>Scores(Poly features)</th>\n",
              "    </tr>\n",
              "  </thead>\n",
              "  <tbody>\n",
              "    <tr>\n",
              "      <th>0</th>\n",
              "      <td>LinearReg</td>\n",
              "      <td>0.3845046748187818</td>\n",
              "      <td>0.4973469855823929</td>\n",
              "    </tr>\n",
              "    <tr>\n",
              "      <th>1</th>\n",
              "      <td>Lasso</td>\n",
              "      <td>0.39094301422959227</td>\n",
              "      <td>0.5092355689513344</td>\n",
              "    </tr>\n",
              "    <tr>\n",
              "      <th>2</th>\n",
              "      <td>ElasticNet</td>\n",
              "      <td>0.39062251012604526</td>\n",
              "      <td>0.5013850452499569</td>\n",
              "    </tr>\n",
              "    <tr>\n",
              "      <th>3</th>\n",
              "      <td>BayesianRidge</td>\n",
              "      <td>0.38646194520887994</td>\n",
              "      <td>0.5000986535430425</td>\n",
              "    </tr>\n",
              "    <tr>\n",
              "      <th>4</th>\n",
              "      <td>KNN</td>\n",
              "      <td>0.5503278661000217</td>\n",
              "      <td>0.5240647160917804</td>\n",
              "    </tr>\n",
              "    <tr>\n",
              "      <th>5</th>\n",
              "      <td>DecisionTree</td>\n",
              "      <td>0.3667871940241484</td>\n",
              "      <td>0.34971376244646846</td>\n",
              "    </tr>\n",
              "  </tbody>\n",
              "</table>\n",
              "</div>\n",
              "      <button class=\"colab-df-convert\" onclick=\"convertToInteractive('df-2a6a2c09-cc59-4447-83cc-496e37389fe3')\"\n",
              "              title=\"Convert this dataframe to an interactive table.\"\n",
              "              style=\"display:none;\">\n",
              "        \n",
              "  <svg xmlns=\"http://www.w3.org/2000/svg\" height=\"24px\"viewBox=\"0 0 24 24\"\n",
              "       width=\"24px\">\n",
              "    <path d=\"M0 0h24v24H0V0z\" fill=\"none\"/>\n",
              "    <path d=\"M18.56 5.44l.94 2.06.94-2.06 2.06-.94-2.06-.94-.94-2.06-.94 2.06-2.06.94zm-11 1L8.5 8.5l.94-2.06 2.06-.94-2.06-.94L8.5 2.5l-.94 2.06-2.06.94zm10 10l.94 2.06.94-2.06 2.06-.94-2.06-.94-.94-2.06-.94 2.06-2.06.94z\"/><path d=\"M17.41 7.96l-1.37-1.37c-.4-.4-.92-.59-1.43-.59-.52 0-1.04.2-1.43.59L10.3 9.45l-7.72 7.72c-.78.78-.78 2.05 0 2.83L4 21.41c.39.39.9.59 1.41.59.51 0 1.02-.2 1.41-.59l7.78-7.78 2.81-2.81c.8-.78.8-2.07 0-2.86zM5.41 20L4 18.59l7.72-7.72 1.47 1.35L5.41 20z\"/>\n",
              "  </svg>\n",
              "      </button>\n",
              "      \n",
              "  <style>\n",
              "    .colab-df-container {\n",
              "      display:flex;\n",
              "      flex-wrap:wrap;\n",
              "      gap: 12px;\n",
              "    }\n",
              "\n",
              "    .colab-df-convert {\n",
              "      background-color: #E8F0FE;\n",
              "      border: none;\n",
              "      border-radius: 50%;\n",
              "      cursor: pointer;\n",
              "      display: none;\n",
              "      fill: #1967D2;\n",
              "      height: 32px;\n",
              "      padding: 0 0 0 0;\n",
              "      width: 32px;\n",
              "    }\n",
              "\n",
              "    .colab-df-convert:hover {\n",
              "      background-color: #E2EBFA;\n",
              "      box-shadow: 0px 1px 2px rgba(60, 64, 67, 0.3), 0px 1px 3px 1px rgba(60, 64, 67, 0.15);\n",
              "      fill: #174EA6;\n",
              "    }\n",
              "\n",
              "    [theme=dark] .colab-df-convert {\n",
              "      background-color: #3B4455;\n",
              "      fill: #D2E3FC;\n",
              "    }\n",
              "\n",
              "    [theme=dark] .colab-df-convert:hover {\n",
              "      background-color: #434B5C;\n",
              "      box-shadow: 0px 1px 3px 1px rgba(0, 0, 0, 0.15);\n",
              "      filter: drop-shadow(0px 1px 2px rgba(0, 0, 0, 0.3));\n",
              "      fill: #FFFFFF;\n",
              "    }\n",
              "  </style>\n",
              "\n",
              "      <script>\n",
              "        const buttonEl =\n",
              "          document.querySelector('#df-2a6a2c09-cc59-4447-83cc-496e37389fe3 button.colab-df-convert');\n",
              "        buttonEl.style.display =\n",
              "          google.colab.kernel.accessAllowed ? 'block' : 'none';\n",
              "\n",
              "        async function convertToInteractive(key) {\n",
              "          const element = document.querySelector('#df-2a6a2c09-cc59-4447-83cc-496e37389fe3');\n",
              "          const dataTable =\n",
              "            await google.colab.kernel.invokeFunction('convertToInteractive',\n",
              "                                                     [key], {});\n",
              "          if (!dataTable) return;\n",
              "\n",
              "          const docLinkHtml = 'Like what you see? Visit the ' +\n",
              "            '<a target=\"_blank\" href=https://colab.research.google.com/notebooks/data_table.ipynb>data table notebook</a>'\n",
              "            + ' to learn more about interactive tables.';\n",
              "          element.innerHTML = '';\n",
              "          dataTable['output_type'] = 'display_data';\n",
              "          await google.colab.output.renderOutput(dataTable, element);\n",
              "          const docLink = document.createElement('div');\n",
              "          docLink.innerHTML = docLinkHtml;\n",
              "          element.appendChild(docLink);\n",
              "        }\n",
              "      </script>\n",
              "    </div>\n",
              "  </div>\n",
              "  "
            ]
          },
          "metadata": {},
          "execution_count": 48
        }
      ]
    },
    {
      "cell_type": "markdown",
      "source": [
        "Models that show the best results:\n",
        "\n",
        "\n",
        "1.   KNN with regular data\n",
        "2.   KNN with poly data\n",
        "3.   Lasso with poly data\n",
        "4.   ElasticNet with poly data\n",
        "\n",
        "These models describe the data quite well, I'm pleasantly surprised."
      ],
      "metadata": {
        "id": "ABVW0zOc0rk_"
      }
    },
    {
      "cell_type": "markdown",
      "source": [
        "## Teamwork\n",
        "Maybe I should try unite these models"
      ],
      "metadata": {
        "id": "8doybp2z2OXM"
      }
    },
    {
      "cell_type": "code",
      "source": [
        "from sklearn.ensemble import VotingRegressor\n",
        "\n",
        "Lasso = Pipeline([\n",
        "    [\"poly\", PolynomialFeatures()],\n",
        "    ['model', linear_model.Lasso(500)]\n",
        "])\n",
        "\n",
        "PolyKNN = Pipeline([\n",
        "    [\"poly\", PolynomialFeatures()],\n",
        "    ['model', KNeighborsRegressor(10, weights='distance')]\n",
        "])\n",
        "\n",
        "ElasticPoly = Pipeline([\n",
        "    [\"poly\", PolynomialFeatures()],\n",
        "    ['model', ElasticNet(0.1)]\n",
        "])\n",
        "\n",
        "\n",
        "model = VotingRegressor([\n",
        "    [\"lasso\", Lasso],\n",
        "    [\"polyknn\", PolyKNN],\n",
        "    # [\"elasticpoly\", ElasticPoly],\n",
        "    [\"knn\", KNeighborsRegressor(10, weights='distance')]\n",
        "]\n",
        ")\n",
        "\n",
        "scores = cross_val_score(model, X, y, cv=5)\n",
        "scores.mean()\n"
      ],
      "metadata": {
        "colab": {
          "base_uri": "https://localhost:8080/"
        },
        "id": "2NkFM_W0Sse_",
        "outputId": "2d0d2716-bf7a-42ab-d115-51f58720f838"
      },
      "execution_count": 49,
      "outputs": [
        {
          "output_type": "execute_result",
          "data": {
            "text/plain": [
              "0.559198456902068"
            ]
          },
          "metadata": {},
          "execution_count": 49
        }
      ]
    },
    {
      "cell_type": "markdown",
      "source": [
        "Pretty great result \n",
        "\n",
        "(I removed elasticnet,  model's working better without elasticnet)"
      ],
      "metadata": {
        "id": "_XWXO0T05M8_"
      }
    },
    {
      "cell_type": "markdown",
      "source": [
        "## Let's try something more serious\n",
        "I should try xgboost and catboost"
      ],
      "metadata": {
        "id": "fLncE1n151Nw"
      }
    },
    {
      "cell_type": "markdown",
      "source": [
        "## XGBoost"
      ],
      "metadata": {
        "id": "mxMKgEXwb5jg"
      }
    },
    {
      "cell_type": "code",
      "source": [
        "import xgboost as xgb\n",
        "\n",
        "model = xgb.XGBRegressor(3, 0.01, n_estimators=500, objective='reg:squarederror')\n",
        "\n",
        "scores = cross_val_score(model, X, y, cv=5, scoring='r2')\n",
        "scores.mean()"
      ],
      "metadata": {
        "colab": {
          "base_uri": "https://localhost:8080/"
        },
        "id": "M2lPw28_VJsz",
        "outputId": "730ae0aa-f926-48b9-b94d-0ecdc5d29487"
      },
      "execution_count": 50,
      "outputs": [
        {
          "output_type": "execute_result",
          "data": {
            "text/plain": [
              "0.5126170526159958"
            ]
          },
          "metadata": {},
          "execution_count": 50
        }
      ]
    },
    {
      "cell_type": "markdown",
      "source": [
        "Not so good, not so bad results"
      ],
      "metadata": {
        "id": "r4Az44R6csu9"
      }
    },
    {
      "cell_type": "code",
      "source": [
        "!pip install catboost\n",
        "import catboost as cb"
      ],
      "metadata": {
        "colab": {
          "base_uri": "https://localhost:8080/"
        },
        "id": "5AiCEuCBXAZD",
        "outputId": "c0974378-4f34-4d7d-97c9-b974ade0e145"
      },
      "execution_count": 51,
      "outputs": [
        {
          "output_type": "stream",
          "name": "stdout",
          "text": [
            "Looking in indexes: https://pypi.org/simple, https://us-python.pkg.dev/colab-wheels/public/simple/\n",
            "Requirement already satisfied: catboost in /usr/local/lib/python3.7/dist-packages (1.1)\n",
            "Requirement already satisfied: numpy>=1.16.0 in /usr/local/lib/python3.7/dist-packages (from catboost) (1.21.6)\n",
            "Requirement already satisfied: six in /usr/local/lib/python3.7/dist-packages (from catboost) (1.15.0)\n",
            "Requirement already satisfied: plotly in /usr/local/lib/python3.7/dist-packages (from catboost) (5.5.0)\n",
            "Requirement already satisfied: graphviz in /usr/local/lib/python3.7/dist-packages (from catboost) (0.10.1)\n",
            "Requirement already satisfied: matplotlib in /usr/local/lib/python3.7/dist-packages (from catboost) (3.2.2)\n",
            "Requirement already satisfied: scipy in /usr/local/lib/python3.7/dist-packages (from catboost) (1.7.3)\n",
            "Requirement already satisfied: pandas>=0.24.0 in /usr/local/lib/python3.7/dist-packages (from catboost) (1.3.5)\n",
            "Requirement already satisfied: python-dateutil>=2.7.3 in /usr/local/lib/python3.7/dist-packages (from pandas>=0.24.0->catboost) (2.8.2)\n",
            "Requirement already satisfied: pytz>=2017.3 in /usr/local/lib/python3.7/dist-packages (from pandas>=0.24.0->catboost) (2022.2.1)\n",
            "Requirement already satisfied: kiwisolver>=1.0.1 in /usr/local/lib/python3.7/dist-packages (from matplotlib->catboost) (1.4.4)\n",
            "Requirement already satisfied: cycler>=0.10 in /usr/local/lib/python3.7/dist-packages (from matplotlib->catboost) (0.11.0)\n",
            "Requirement already satisfied: pyparsing!=2.0.4,!=2.1.2,!=2.1.6,>=2.0.1 in /usr/local/lib/python3.7/dist-packages (from matplotlib->catboost) (3.0.9)\n",
            "Requirement already satisfied: typing-extensions in /usr/local/lib/python3.7/dist-packages (from kiwisolver>=1.0.1->matplotlib->catboost) (4.1.1)\n",
            "Requirement already satisfied: tenacity>=6.2.0 in /usr/local/lib/python3.7/dist-packages (from plotly->catboost) (8.0.1)\n"
          ]
        }
      ]
    },
    {
      "cell_type": "code",
      "source": [
        "model = cb.CatBoostRegressor(iterations=150, learning_rate=0.05, max_depth=5,\n",
        "                             verbose=0)\n",
        "\n",
        "scores = cross_val_score(model, X, y, cv=5, scoring='r2')\n",
        "scores.mean()"
      ],
      "metadata": {
        "colab": {
          "base_uri": "https://localhost:8080/"
        },
        "id": "jP1LKBN9aby_",
        "outputId": "76b56430-99c4-4dff-9341-f8907710537a"
      },
      "execution_count": 52,
      "outputs": [
        {
          "output_type": "execute_result",
          "data": {
            "text/plain": [
              "0.5381670409391209"
            ]
          },
          "metadata": {},
          "execution_count": 52
        }
      ]
    },
    {
      "cell_type": "markdown",
      "source": [
        "Looks like this is the limit on this data for these models"
      ],
      "metadata": {
        "id": "FnsbXKvUdtgO"
      }
    },
    {
      "cell_type": "markdown",
      "source": [
        "## Stack more\n",
        "\n",
        "Maybe it has a sense, if we combine these models with linear(and knn)"
      ],
      "metadata": {
        "id": "89mAYKLXeeS0"
      }
    },
    {
      "cell_type": "code",
      "source": [
        "Lasso = Pipeline([\n",
        "    [\"poly\", PolynomialFeatures()],\n",
        "    ['model', linear_model.Lasso(500)]\n",
        "])\n",
        "PolyKNN = Pipeline([\n",
        "    [\"poly\", PolynomialFeatures()],\n",
        "    ['model', KNeighborsRegressor(10, weights='distance')]\n",
        "])\n",
        "model = VotingRegressor([\n",
        "    ['cb', cb.CatBoostRegressor(iterations=150, learning_rate=0.05, max_depth=5,\n",
        "                             verbose=0)],\n",
        "    ['xgb', xgb.XGBRegressor(3, 0.05, n_estimators=150, objective='reg:squarederror')],\n",
        "    [\"knn\", KNeighborsRegressor(10, weights='distance')],\n",
        "    [\"lasso\", Lasso],\n",
        "    ['polyknn', PolyKNN]\n",
        "    ], \n",
        ")\n",
        "\n",
        "estimators = model.estimators\n",
        "best_model = model\n",
        "scores = cross_val_score(model, X, y, cv=5)\n",
        "scores.mean()"
      ],
      "metadata": {
        "colab": {
          "base_uri": "https://localhost:8080/"
        },
        "id": "3af-1nFKendW",
        "outputId": "0c4f0eea-9d91-4913-b656-faeeb6a1977b"
      },
      "execution_count": 66,
      "outputs": [
        {
          "output_type": "execute_result",
          "data": {
            "text/plain": [
              "0.5628064105867394"
            ]
          },
          "metadata": {},
          "execution_count": 66
        }
      ]
    },
    {
      "cell_type": "markdown",
      "source": [
        "Lets make our model more complicated\n",
        "\n",
        "Lets add a \"header\" estimator function, that will be learn on outputs from our stacked models"
      ],
      "metadata": {
        "id": "ooOvBaKhe9BU"
      }
    },
    {
      "cell_type": "code",
      "source": [
        "from sklearn.ensemble import StackingRegressor\n",
        "from sklearn.ensemble import GradientBoostingRegressor\n",
        "final_estimator = GradientBoostingRegressor(\n",
        "    n_estimators=100, learning_rate=0.05,\n",
        "    subsample=0.5, min_samples_leaf=25)\n",
        "model = StackingRegressor(estimators, final_estimator)\n",
        "\n",
        "scores = cross_val_score(model, X, y, cv=5)\n",
        "scores.mean()\n"
      ],
      "metadata": {
        "colab": {
          "base_uri": "https://localhost:8080/"
        },
        "id": "PWMIGhVkfoY7",
        "outputId": "f5f8a106-f3a2-4ab0-899c-9fd9f4dc6fce"
      },
      "execution_count": 65,
      "outputs": [
        {
          "output_type": "execute_result",
          "data": {
            "text/plain": [
              "0.546736078090515"
            ]
          },
          "metadata": {},
          "execution_count": 65
        }
      ]
    },
    {
      "cell_type": "markdown",
      "source": [
        "Results are worse a little, so using just a voting classifier is a best choice"
      ],
      "metadata": {
        "id": "XBp3cyHDlX2r"
      }
    },
    {
      "cell_type": "code",
      "source": [],
      "metadata": {
        "colab": {
          "base_uri": "https://localhost:8080/",
          "height": 201
        },
        "id": "H45H9PD2fPuH",
        "outputId": "bff024c1-4433-490d-aa43-6dbba48dd4a4"
      },
      "execution_count": 55,
      "outputs": [
        {
          "output_type": "error",
          "ename": "NameError",
          "evalue": "ignored",
          "traceback": [
            "\u001b[0;31m---------------------------------------------------------------------------\u001b[0m",
            "\u001b[0;31mNameError\u001b[0m                                 Traceback (most recent call last)",
            "\u001b[0;32m<ipython-input-55-5c35c34056eb>\u001b[0m in \u001b[0;36m<module>\u001b[0;34m\u001b[0m\n\u001b[0;32m----> 1\u001b[0;31m \u001b[0mmodel\u001b[0m\u001b[0;34m.\u001b[0m\u001b[0mfit\u001b[0m\u001b[0;34m(\u001b[0m\u001b[0mtr\u001b[0m\u001b[0;34m,\u001b[0m \u001b[0my\u001b[0m\u001b[0;34m)\u001b[0m\u001b[0;34m\u001b[0m\u001b[0;34m\u001b[0m\u001b[0m\n\u001b[0m\u001b[1;32m      2\u001b[0m \u001b[0mpreds\u001b[0m \u001b[0;34m=\u001b[0m \u001b[0mmodel\u001b[0m\u001b[0;34m.\u001b[0m\u001b[0mpredict\u001b[0m\u001b[0;34m(\u001b[0m\u001b[0mtr\u001b[0m\u001b[0;34m)\u001b[0m\u001b[0;34m\u001b[0m\u001b[0;34m\u001b[0m\u001b[0m\n\u001b[1;32m      3\u001b[0m \u001b[0mplt\u001b[0m\u001b[0;34m.\u001b[0m\u001b[0mhist\u001b[0m\u001b[0;34m(\u001b[0m\u001b[0;34m[\u001b[0m\u001b[0my\u001b[0m\u001b[0;34m,\u001b[0m \u001b[0mpreds\u001b[0m\u001b[0;34m]\u001b[0m\u001b[0;34m)\u001b[0m\u001b[0;34m\u001b[0m\u001b[0;34m\u001b[0m\u001b[0m\n",
            "\u001b[0;31mNameError\u001b[0m: name 'tr' is not defined"
          ]
        }
      ]
    },
    {
      "cell_type": "code",
      "source": [],
      "metadata": {
        "id": "_DhvSrFTgOrz"
      },
      "execution_count": null,
      "outputs": []
    },
    {
      "cell_type": "code",
      "source": [],
      "metadata": {
        "id": "Kx2LAkq_nbZP"
      },
      "execution_count": null,
      "outputs": []
    }
  ]
}