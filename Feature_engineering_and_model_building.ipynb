{
  "nbformat": 4,
  "nbformat_minor": 0,
  "metadata": {
    "colab": {
      "provenance": [],
      "collapsed_sections": [],
      "authorship_tag": "ABX9TyPF/pNAJMwQCqikQZ0eUcti",
      "include_colab_link": true
    },
    "kernelspec": {
      "name": "python3",
      "display_name": "Python 3"
    },
    "language_info": {
      "name": "python"
    }
  },
  "cells": [
    {
      "cell_type": "markdown",
      "metadata": {
        "id": "view-in-github",
        "colab_type": "text"
      },
      "source": [
        "<a href=\"https://colab.research.google.com/github/siva4iov/FlatsPrice_DS_Proj/blob/master/Feature_engineering_and_model_building.ipynb\" target=\"_parent\"><img src=\"https://colab.research.google.com/assets/colab-badge.svg\" alt=\"Open In Colab\"/></a>"
      ]
    },
    {
      "cell_type": "markdown",
      "source": [
        "# Model building\n",
        "\n",
        "## Import dependencies"
      ],
      "metadata": {
        "id": "vtbmCFSWbFfw"
      }
    },
    {
      "cell_type": "code",
      "source": [
        "import pandas as pd\n",
        "import numpy as np\n",
        "from google.colab import files\n",
        "import os\n",
        "import sklearn\n",
        "from matplotlib import pyplot as plt\n",
        "\n",
        "import warnings\n",
        "warnings.filterwarnings('ignore')"
      ],
      "metadata": {
        "id": "2-qsBOJ3bMXF"
      },
      "execution_count": 592,
      "outputs": []
    },
    {
      "cell_type": "code",
      "source": [
        "if not os.path.exists(\"/content/dataset_clean_full.csv\"):\n",
        "  files.upload()"
      ],
      "metadata": {
        "id": "Fx__o_3Jcimt"
      },
      "execution_count": 593,
      "outputs": []
    },
    {
      "cell_type": "code",
      "source": [
        "df = pd.read_csv(\"dataset_clean_full.csv\", sep=\";\")\n",
        "df.head()"
      ],
      "metadata": {
        "colab": {
          "base_uri": "https://localhost:8080/",
          "height": 299
        },
        "id": "pcy221BOcafl",
        "outputId": "bcc2bc62-014a-4a54-ea95-35fc0fc50cc7"
      },
      "execution_count": 594,
      "outputs": [
        {
          "output_type": "execute_result",
          "data": {
            "text/plain": [
              "   Living_space  Num_of_rooms  Renovation  Price  Total_area  Kitchen_area  \\\n",
              "0          20.0             1           1  27000        39.0          12.0   \n",
              "1           NaN             1           1  14000        18.0           NaN   \n",
              "2           NaN             3           2  40000       105.0          25.0   \n",
              "3          13.5             1           2  20000        45.0          17.5   \n",
              "4          24.0             1           2  22000        36.0           6.0   \n",
              "\n",
              "   Floor  Appliances_1  Appliances_2  Appliances_3  ...  longitude  \\\n",
              "0     10             0             1             0  ...  49.179327   \n",
              "1      9             0             0             0  ...  49.107790   \n",
              "2      2             0             1             1  ...  49.169175   \n",
              "3      5             0             1             1  ...  49.136806   \n",
              "4     10             0             1             1  ...  49.146880   \n",
              "\n",
              "   district_1  district_2  district_3  district_4  district_5  district_6  \\\n",
              "0           1           0           0           0           0           0   \n",
              "1           0           1           0           0           0           0   \n",
              "2           0           0           1           0           0           0   \n",
              "3           0           0           0           1           0           0   \n",
              "4           0           0           0           1           0           0   \n",
              "\n",
              "   district_7  district_8  district_9  \n",
              "0           0           0           0  \n",
              "1           0           0           0  \n",
              "2           0           0           0  \n",
              "3           0           0           0  \n",
              "4           0           0           0  \n",
              "\n",
              "[5 rows x 44 columns]"
            ],
            "text/html": [
              "\n",
              "  <div id=\"df-f45dee5b-7c98-41d5-8ee8-af7055738fd4\">\n",
              "    <div class=\"colab-df-container\">\n",
              "      <div>\n",
              "<style scoped>\n",
              "    .dataframe tbody tr th:only-of-type {\n",
              "        vertical-align: middle;\n",
              "    }\n",
              "\n",
              "    .dataframe tbody tr th {\n",
              "        vertical-align: top;\n",
              "    }\n",
              "\n",
              "    .dataframe thead th {\n",
              "        text-align: right;\n",
              "    }\n",
              "</style>\n",
              "<table border=\"1\" class=\"dataframe\">\n",
              "  <thead>\n",
              "    <tr style=\"text-align: right;\">\n",
              "      <th></th>\n",
              "      <th>Living_space</th>\n",
              "      <th>Num_of_rooms</th>\n",
              "      <th>Renovation</th>\n",
              "      <th>Price</th>\n",
              "      <th>Total_area</th>\n",
              "      <th>Kitchen_area</th>\n",
              "      <th>Floor</th>\n",
              "      <th>Appliances_1</th>\n",
              "      <th>Appliances_2</th>\n",
              "      <th>Appliances_3</th>\n",
              "      <th>...</th>\n",
              "      <th>longitude</th>\n",
              "      <th>district_1</th>\n",
              "      <th>district_2</th>\n",
              "      <th>district_3</th>\n",
              "      <th>district_4</th>\n",
              "      <th>district_5</th>\n",
              "      <th>district_6</th>\n",
              "      <th>district_7</th>\n",
              "      <th>district_8</th>\n",
              "      <th>district_9</th>\n",
              "    </tr>\n",
              "  </thead>\n",
              "  <tbody>\n",
              "    <tr>\n",
              "      <th>0</th>\n",
              "      <td>20.0</td>\n",
              "      <td>1</td>\n",
              "      <td>1</td>\n",
              "      <td>27000</td>\n",
              "      <td>39.0</td>\n",
              "      <td>12.0</td>\n",
              "      <td>10</td>\n",
              "      <td>0</td>\n",
              "      <td>1</td>\n",
              "      <td>0</td>\n",
              "      <td>...</td>\n",
              "      <td>49.179327</td>\n",
              "      <td>1</td>\n",
              "      <td>0</td>\n",
              "      <td>0</td>\n",
              "      <td>0</td>\n",
              "      <td>0</td>\n",
              "      <td>0</td>\n",
              "      <td>0</td>\n",
              "      <td>0</td>\n",
              "      <td>0</td>\n",
              "    </tr>\n",
              "    <tr>\n",
              "      <th>1</th>\n",
              "      <td>NaN</td>\n",
              "      <td>1</td>\n",
              "      <td>1</td>\n",
              "      <td>14000</td>\n",
              "      <td>18.0</td>\n",
              "      <td>NaN</td>\n",
              "      <td>9</td>\n",
              "      <td>0</td>\n",
              "      <td>0</td>\n",
              "      <td>0</td>\n",
              "      <td>...</td>\n",
              "      <td>49.107790</td>\n",
              "      <td>0</td>\n",
              "      <td>1</td>\n",
              "      <td>0</td>\n",
              "      <td>0</td>\n",
              "      <td>0</td>\n",
              "      <td>0</td>\n",
              "      <td>0</td>\n",
              "      <td>0</td>\n",
              "      <td>0</td>\n",
              "    </tr>\n",
              "    <tr>\n",
              "      <th>2</th>\n",
              "      <td>NaN</td>\n",
              "      <td>3</td>\n",
              "      <td>2</td>\n",
              "      <td>40000</td>\n",
              "      <td>105.0</td>\n",
              "      <td>25.0</td>\n",
              "      <td>2</td>\n",
              "      <td>0</td>\n",
              "      <td>1</td>\n",
              "      <td>1</td>\n",
              "      <td>...</td>\n",
              "      <td>49.169175</td>\n",
              "      <td>0</td>\n",
              "      <td>0</td>\n",
              "      <td>1</td>\n",
              "      <td>0</td>\n",
              "      <td>0</td>\n",
              "      <td>0</td>\n",
              "      <td>0</td>\n",
              "      <td>0</td>\n",
              "      <td>0</td>\n",
              "    </tr>\n",
              "    <tr>\n",
              "      <th>3</th>\n",
              "      <td>13.5</td>\n",
              "      <td>1</td>\n",
              "      <td>2</td>\n",
              "      <td>20000</td>\n",
              "      <td>45.0</td>\n",
              "      <td>17.5</td>\n",
              "      <td>5</td>\n",
              "      <td>0</td>\n",
              "      <td>1</td>\n",
              "      <td>1</td>\n",
              "      <td>...</td>\n",
              "      <td>49.136806</td>\n",
              "      <td>0</td>\n",
              "      <td>0</td>\n",
              "      <td>0</td>\n",
              "      <td>1</td>\n",
              "      <td>0</td>\n",
              "      <td>0</td>\n",
              "      <td>0</td>\n",
              "      <td>0</td>\n",
              "      <td>0</td>\n",
              "    </tr>\n",
              "    <tr>\n",
              "      <th>4</th>\n",
              "      <td>24.0</td>\n",
              "      <td>1</td>\n",
              "      <td>2</td>\n",
              "      <td>22000</td>\n",
              "      <td>36.0</td>\n",
              "      <td>6.0</td>\n",
              "      <td>10</td>\n",
              "      <td>0</td>\n",
              "      <td>1</td>\n",
              "      <td>1</td>\n",
              "      <td>...</td>\n",
              "      <td>49.146880</td>\n",
              "      <td>0</td>\n",
              "      <td>0</td>\n",
              "      <td>0</td>\n",
              "      <td>1</td>\n",
              "      <td>0</td>\n",
              "      <td>0</td>\n",
              "      <td>0</td>\n",
              "      <td>0</td>\n",
              "      <td>0</td>\n",
              "    </tr>\n",
              "  </tbody>\n",
              "</table>\n",
              "<p>5 rows × 44 columns</p>\n",
              "</div>\n",
              "      <button class=\"colab-df-convert\" onclick=\"convertToInteractive('df-f45dee5b-7c98-41d5-8ee8-af7055738fd4')\"\n",
              "              title=\"Convert this dataframe to an interactive table.\"\n",
              "              style=\"display:none;\">\n",
              "        \n",
              "  <svg xmlns=\"http://www.w3.org/2000/svg\" height=\"24px\"viewBox=\"0 0 24 24\"\n",
              "       width=\"24px\">\n",
              "    <path d=\"M0 0h24v24H0V0z\" fill=\"none\"/>\n",
              "    <path d=\"M18.56 5.44l.94 2.06.94-2.06 2.06-.94-2.06-.94-.94-2.06-.94 2.06-2.06.94zm-11 1L8.5 8.5l.94-2.06 2.06-.94-2.06-.94L8.5 2.5l-.94 2.06-2.06.94zm10 10l.94 2.06.94-2.06 2.06-.94-2.06-.94-.94-2.06-.94 2.06-2.06.94z\"/><path d=\"M17.41 7.96l-1.37-1.37c-.4-.4-.92-.59-1.43-.59-.52 0-1.04.2-1.43.59L10.3 9.45l-7.72 7.72c-.78.78-.78 2.05 0 2.83L4 21.41c.39.39.9.59 1.41.59.51 0 1.02-.2 1.41-.59l7.78-7.78 2.81-2.81c.8-.78.8-2.07 0-2.86zM5.41 20L4 18.59l7.72-7.72 1.47 1.35L5.41 20z\"/>\n",
              "  </svg>\n",
              "      </button>\n",
              "      \n",
              "  <style>\n",
              "    .colab-df-container {\n",
              "      display:flex;\n",
              "      flex-wrap:wrap;\n",
              "      gap: 12px;\n",
              "    }\n",
              "\n",
              "    .colab-df-convert {\n",
              "      background-color: #E8F0FE;\n",
              "      border: none;\n",
              "      border-radius: 50%;\n",
              "      cursor: pointer;\n",
              "      display: none;\n",
              "      fill: #1967D2;\n",
              "      height: 32px;\n",
              "      padding: 0 0 0 0;\n",
              "      width: 32px;\n",
              "    }\n",
              "\n",
              "    .colab-df-convert:hover {\n",
              "      background-color: #E2EBFA;\n",
              "      box-shadow: 0px 1px 2px rgba(60, 64, 67, 0.3), 0px 1px 3px 1px rgba(60, 64, 67, 0.15);\n",
              "      fill: #174EA6;\n",
              "    }\n",
              "\n",
              "    [theme=dark] .colab-df-convert {\n",
              "      background-color: #3B4455;\n",
              "      fill: #D2E3FC;\n",
              "    }\n",
              "\n",
              "    [theme=dark] .colab-df-convert:hover {\n",
              "      background-color: #434B5C;\n",
              "      box-shadow: 0px 1px 3px 1px rgba(0, 0, 0, 0.15);\n",
              "      filter: drop-shadow(0px 1px 2px rgba(0, 0, 0, 0.3));\n",
              "      fill: #FFFFFF;\n",
              "    }\n",
              "  </style>\n",
              "\n",
              "      <script>\n",
              "        const buttonEl =\n",
              "          document.querySelector('#df-f45dee5b-7c98-41d5-8ee8-af7055738fd4 button.colab-df-convert');\n",
              "        buttonEl.style.display =\n",
              "          google.colab.kernel.accessAllowed ? 'block' : 'none';\n",
              "\n",
              "        async function convertToInteractive(key) {\n",
              "          const element = document.querySelector('#df-f45dee5b-7c98-41d5-8ee8-af7055738fd4');\n",
              "          const dataTable =\n",
              "            await google.colab.kernel.invokeFunction('convertToInteractive',\n",
              "                                                     [key], {});\n",
              "          if (!dataTable) return;\n",
              "\n",
              "          const docLinkHtml = 'Like what you see? Visit the ' +\n",
              "            '<a target=\"_blank\" href=https://colab.research.google.com/notebooks/data_table.ipynb>data table notebook</a>'\n",
              "            + ' to learn more about interactive tables.';\n",
              "          element.innerHTML = '';\n",
              "          dataTable['output_type'] = 'display_data';\n",
              "          await google.colab.output.renderOutput(dataTable, element);\n",
              "          const docLink = document.createElement('div');\n",
              "          docLink.innerHTML = docLinkHtml;\n",
              "          element.appendChild(docLink);\n",
              "        }\n",
              "      </script>\n",
              "    </div>\n",
              "  </div>\n",
              "  "
            ]
          },
          "metadata": {},
          "execution_count": 594
        }
      ]
    },
    {
      "cell_type": "markdown",
      "source": [
        "## Droping uselles data\n",
        "There are some columns which have little amount of entries and are not meaningful\n",
        "\n",
        "I'm talking about `Appliances_1` and `Appliances_6`, which mean \"*iron*\" and \"*hair dryer*\".\n",
        "\n",
        "Also in districts 8 and 9 only 2 entries, so I decide to drop rows with this districts and to drop these columns"
      ],
      "metadata": {
        "id": "_ZnsdBUoeAex"
      }
    },
    {
      "cell_type": "code",
      "source": [
        "df.sum()"
      ],
      "metadata": {
        "colab": {
          "base_uri": "https://localhost:8080/"
        },
        "id": "l9IEgk9EdBXx",
        "outputId": "ec99ec27-bf13-4dd3-e36c-6ed7650e7969"
      },
      "execution_count": 595,
      "outputs": [
        {
          "output_type": "execute_result",
          "data": {
            "text/plain": [
              "Living_space                                               23310.3\n",
              "Num_of_rooms                                                  2140\n",
              "Renovation                                                    2374\n",
              "Price                                                     39880016\n",
              "Total_area                                                 69563.7\n",
              "Kitchen_area                                               14588.3\n",
              "Floor                                                         8601\n",
              "Appliances_1                                                     9\n",
              "Appliances_2                                                   772\n",
              "Appliances_3                                                   298\n",
              "Appliances_4                                                   395\n",
              "Appliances_5                                                   187\n",
              "Appliances_6                                                     4\n",
              "Appliances_7                                                   774\n",
              "Appliances_8                                                   908\n",
              "Appliances_9                                                  1014\n",
              "Appliances_10                                                 1036\n",
              "Balcony_1                                                      536\n",
              "Balcony_2                                                      320\n",
              "Furniture_1                                                    856\n",
              "Furniture_2                                                    880\n",
              "Furniture_3                                                    870\n",
              "Internet_tv_1                                                  600\n",
              "Internet_tv_2                                                  607\n",
              "Bathroom_1                                                     252\n",
              "Bathroom_2                                                     667\n",
              "Utilities_1                                                     68\n",
              "Room_type_1                                                    547\n",
              "Room_type_2                                                    145\n",
              "Studio                                                          71\n",
              "Floors_in_b                                                  16007\n",
              "location         Газпромбанк, 3, улица Разведчика Ахмерова, Art...\n",
              "coord            (55.7978535, 49.1793271)(55.77585095, 49.10779...\n",
              "latitude                                              73821.679484\n",
              "longitude                                             65012.267404\n",
              "district_1                                                     316\n",
              "district_2                                                     212\n",
              "district_3                                                     233\n",
              "district_4                                                     287\n",
              "district_5                                                      89\n",
              "district_6                                                     116\n",
              "district_7                                                      68\n",
              "district_8                                                       1\n",
              "district_9                                                       1\n",
              "dtype: object"
            ]
          },
          "metadata": {},
          "execution_count": 595
        }
      ]
    },
    {
      "cell_type": "markdown",
      "source": [
        "Dropping districts 8 and 9"
      ],
      "metadata": {
        "id": "odmBB83ujZWv"
      }
    },
    {
      "cell_type": "code",
      "source": [
        "df = df[(df[\"district_8\"] != 1) & (df[\"district_9\"] != 1)]\\\n",
        ".drop(columns=[\"district_8\", \"district_9\"])"
      ],
      "metadata": {
        "id": "GFca4-l-dq21"
      },
      "execution_count": 596,
      "outputs": []
    },
    {
      "cell_type": "code",
      "source": [
        "df = df.drop(columns=[\"Appliances_1\", \"Appliances_6\"])"
      ],
      "metadata": {
        "id": "l3Lkl6CkiOh8"
      },
      "execution_count": 597,
      "outputs": []
    },
    {
      "cell_type": "markdown",
      "source": [
        "## Nan values"
      ],
      "metadata": {
        "id": "v31bRKdZksf9"
      }
    },
    {
      "cell_type": "code",
      "source": [
        "df.isna().sum()"
      ],
      "metadata": {
        "colab": {
          "base_uri": "https://localhost:8080/"
        },
        "id": "CCxJk50flCcU",
        "outputId": "406b999f-893f-4aa8-cc55-9b4151dada5b"
      },
      "execution_count": 598,
      "outputs": [
        {
          "output_type": "execute_result",
          "data": {
            "text/plain": [
              "Living_space     590\n",
              "Num_of_rooms       0\n",
              "Renovation         0\n",
              "Price              0\n",
              "Total_area         0\n",
              "Kitchen_area      81\n",
              "Floor              0\n",
              "Appliances_2       0\n",
              "Appliances_3       0\n",
              "Appliances_4       0\n",
              "Appliances_5       0\n",
              "Appliances_7       0\n",
              "Appliances_8       0\n",
              "Appliances_9       0\n",
              "Appliances_10      0\n",
              "Balcony_1          0\n",
              "Balcony_2          0\n",
              "Furniture_1        0\n",
              "Furniture_2        0\n",
              "Furniture_3        0\n",
              "Internet_tv_1      0\n",
              "Internet_tv_2      0\n",
              "Bathroom_1         0\n",
              "Bathroom_2         0\n",
              "Utilities_1        0\n",
              "Room_type_1        0\n",
              "Room_type_2        0\n",
              "Studio             0\n",
              "Floors_in_b        0\n",
              "location           0\n",
              "coord              0\n",
              "latitude           0\n",
              "longitude          0\n",
              "district_1         0\n",
              "district_2         0\n",
              "district_3         0\n",
              "district_4         0\n",
              "district_5         0\n",
              "district_6         0\n",
              "district_7         0\n",
              "dtype: int64"
            ]
          },
          "metadata": {},
          "execution_count": 598
        }
      ]
    },
    {
      "cell_type": "markdown",
      "source": [
        "There are only two columns: `Living_area` and `Kitchen_area`. But we have all `Total_area`.\n",
        "\n",
        "So I'll impute values depending on its `Total_area` and `Price`"
      ],
      "metadata": {
        "id": "7g6DQe7-lExW"
      }
    },
    {
      "cell_type": "code",
      "source": [
        "from sklearn.impute import KNNImputer\n",
        "cols = [\"Living_space\", 'Kitchen_area', \"Total_area\", \"Price\"]\n",
        "imputer = KNNImputer(n_neighbors=3, weights='distance', copy=True)\n",
        "x = imputer.fit_transform(df[cols])\n",
        "df.loc[:, cols] = x"
      ],
      "metadata": {
        "id": "D5sQFO9N2H11"
      },
      "execution_count": 599,
      "outputs": []
    },
    {
      "cell_type": "code",
      "source": [
        "df.isna().sum()"
      ],
      "metadata": {
        "colab": {
          "base_uri": "https://localhost:8080/"
        },
        "id": "dYn0fkDwrrGD",
        "outputId": "fdc048ef-62fd-40d7-f5da-f1458e422369"
      },
      "execution_count": 600,
      "outputs": [
        {
          "output_type": "execute_result",
          "data": {
            "text/plain": [
              "Living_space     0\n",
              "Num_of_rooms     0\n",
              "Renovation       0\n",
              "Price            0\n",
              "Total_area       0\n",
              "Kitchen_area     0\n",
              "Floor            0\n",
              "Appliances_2     0\n",
              "Appliances_3     0\n",
              "Appliances_4     0\n",
              "Appliances_5     0\n",
              "Appliances_7     0\n",
              "Appliances_8     0\n",
              "Appliances_9     0\n",
              "Appliances_10    0\n",
              "Balcony_1        0\n",
              "Balcony_2        0\n",
              "Furniture_1      0\n",
              "Furniture_2      0\n",
              "Furniture_3      0\n",
              "Internet_tv_1    0\n",
              "Internet_tv_2    0\n",
              "Bathroom_1       0\n",
              "Bathroom_2       0\n",
              "Utilities_1      0\n",
              "Room_type_1      0\n",
              "Room_type_2      0\n",
              "Studio           0\n",
              "Floors_in_b      0\n",
              "location         0\n",
              "coord            0\n",
              "latitude         0\n",
              "longitude        0\n",
              "district_1       0\n",
              "district_2       0\n",
              "district_3       0\n",
              "district_4       0\n",
              "district_5       0\n",
              "district_6       0\n",
              "district_7       0\n",
              "dtype: int64"
            ]
          },
          "metadata": {},
          "execution_count": 600
        }
      ]
    },
    {
      "cell_type": "code",
      "source": [
        "df.columns"
      ],
      "metadata": {
        "colab": {
          "base_uri": "https://localhost:8080/"
        },
        "id": "3WcVDFc444lf",
        "outputId": "c6e3280d-999b-4469-f9fc-9291921f410d"
      },
      "execution_count": 601,
      "outputs": [
        {
          "output_type": "execute_result",
          "data": {
            "text/plain": [
              "Index(['Living_space', 'Num_of_rooms', 'Renovation', 'Price', 'Total_area',\n",
              "       'Kitchen_area', 'Floor', 'Appliances_2', 'Appliances_3', 'Appliances_4',\n",
              "       'Appliances_5', 'Appliances_7', 'Appliances_8', 'Appliances_9',\n",
              "       'Appliances_10', 'Balcony_1', 'Balcony_2', 'Furniture_1', 'Furniture_2',\n",
              "       'Furniture_3', 'Internet_tv_1', 'Internet_tv_2', 'Bathroom_1',\n",
              "       'Bathroom_2', 'Utilities_1', 'Room_type_1', 'Room_type_2', 'Studio',\n",
              "       'Floors_in_b', 'location', 'coord', 'latitude', 'longitude',\n",
              "       'district_1', 'district_2', 'district_3', 'district_4', 'district_5',\n",
              "       'district_6', 'district_7'],\n",
              "      dtype='object')"
            ]
          },
          "metadata": {},
          "execution_count": 601
        }
      ]
    },
    {
      "cell_type": "markdown",
      "source": [
        "## Lets add some more features\n",
        "\n",
        "As I planned, I will add feature *is it 1st floor or not*"
      ],
      "metadata": {
        "id": "dKY_RnO65HvT"
      }
    },
    {
      "cell_type": "code",
      "source": [
        "df.loc[:, \"1st_floor\"] = (df['Floor'] == 1).astype(np.int8)\n",
        "df[\"1st_floor\"].sum()"
      ],
      "metadata": {
        "colab": {
          "base_uri": "https://localhost:8080/"
        },
        "id": "kJi9kT5-GgTl",
        "outputId": "576dca3f-3296-44ec-b875-177aaf826854"
      },
      "execution_count": 602,
      "outputs": [
        {
          "output_type": "execute_result",
          "data": {
            "text/plain": [
              "84"
            ]
          },
          "metadata": {},
          "execution_count": 602
        }
      ]
    },
    {
      "cell_type": "markdown",
      "source": [
        "Only 84 entries, i will decide later, use this feature or not\n",
        "\n",
        "Also, I should add calculated distances to metro/city_center"
      ],
      "metadata": {
        "id": "FWZHrObpHSMw"
      }
    },
    {
      "cell_type": "code",
      "source": [
        "from geopy.distance import geodesic as GD\n",
        "\n",
        "metro = [\n",
        "    [55.74437098345888, 49.21842147085857],\n",
        "    [55.75005848187576, 49.20874803385248],\n",
        "    [55.759933872926894, 49.19165479076522],\n",
        "    [55.765435, 49.165143],\n",
        "    [55.77690597053148, 49.142589131055516],\n",
        "    [55.787108350131085, 49.122054609493496],\n",
        "    [55.7959302953497, 49.1062780870964],\n",
        "    [55.81666978747769, 49.09852469080619],\n",
        "    [55.82716721066275, 49.08321529204553]\n",
        "]\n",
        "metro = np.array(metro)\n",
        "\n",
        "city_center = [[55.787602, 49.121079]]\n",
        "city_center = np.array(city_center)\n",
        "\n",
        "\n",
        "def calc_distances(df: pd.DataFrame) -> pd.DataFrame:\n",
        "  distances = []\n",
        "  values = df.loc[:, [\"latitude\", \"longitude\"]].values\n",
        "  min_d = None\n",
        "  for coords in values:\n",
        "    for st in metro:\n",
        "      d = GD(coords, st).km\n",
        "      if (min_d is None) or d < min_d:\n",
        "        min_d = d\n",
        "    cc_d = GD(coords, city_center[0]).km\n",
        "    distances.append([min_d, cc_d])\n",
        "    min_d = None\n",
        "  distances = np.array(distances)\n",
        "  return pd.DataFrame(distances, columns=[\"Metro_d\", \"Center_d\"])\n",
        "distances = calc_distances(df)\n",
        "distances"
      ],
      "metadata": {
        "colab": {
          "base_uri": "https://localhost:8080/",
          "height": 424
        },
        "id": "Z_FMfFDvHgII",
        "outputId": "ba1f8080-60a9-494d-f88e-ae5a722ed32d"
      },
      "execution_count": 603,
      "outputs": [
        {
          "output_type": "execute_result",
          "data": {
            "text/plain": [
              "        Metro_d   Center_d\n",
              "0      3.278917   3.827817\n",
              "1      1.540129   1.551438\n",
              "2      3.213987   6.911961\n",
              "3      2.400260   3.336201\n",
              "4      3.178507   4.494772\n",
              "...         ...        ...\n",
              "1316   0.423964   0.889100\n",
              "1317  10.402943  10.824456\n",
              "1318   0.861105   7.324594\n",
              "1319   2.177858   3.704208\n",
              "1320   0.846473   2.918049\n",
              "\n",
              "[1321 rows x 2 columns]"
            ],
            "text/html": [
              "\n",
              "  <div id=\"df-ab1ca5ce-095e-46af-8eef-5de0be418bbc\">\n",
              "    <div class=\"colab-df-container\">\n",
              "      <div>\n",
              "<style scoped>\n",
              "    .dataframe tbody tr th:only-of-type {\n",
              "        vertical-align: middle;\n",
              "    }\n",
              "\n",
              "    .dataframe tbody tr th {\n",
              "        vertical-align: top;\n",
              "    }\n",
              "\n",
              "    .dataframe thead th {\n",
              "        text-align: right;\n",
              "    }\n",
              "</style>\n",
              "<table border=\"1\" class=\"dataframe\">\n",
              "  <thead>\n",
              "    <tr style=\"text-align: right;\">\n",
              "      <th></th>\n",
              "      <th>Metro_d</th>\n",
              "      <th>Center_d</th>\n",
              "    </tr>\n",
              "  </thead>\n",
              "  <tbody>\n",
              "    <tr>\n",
              "      <th>0</th>\n",
              "      <td>3.278917</td>\n",
              "      <td>3.827817</td>\n",
              "    </tr>\n",
              "    <tr>\n",
              "      <th>1</th>\n",
              "      <td>1.540129</td>\n",
              "      <td>1.551438</td>\n",
              "    </tr>\n",
              "    <tr>\n",
              "      <th>2</th>\n",
              "      <td>3.213987</td>\n",
              "      <td>6.911961</td>\n",
              "    </tr>\n",
              "    <tr>\n",
              "      <th>3</th>\n",
              "      <td>2.400260</td>\n",
              "      <td>3.336201</td>\n",
              "    </tr>\n",
              "    <tr>\n",
              "      <th>4</th>\n",
              "      <td>3.178507</td>\n",
              "      <td>4.494772</td>\n",
              "    </tr>\n",
              "    <tr>\n",
              "      <th>...</th>\n",
              "      <td>...</td>\n",
              "      <td>...</td>\n",
              "    </tr>\n",
              "    <tr>\n",
              "      <th>1316</th>\n",
              "      <td>0.423964</td>\n",
              "      <td>0.889100</td>\n",
              "    </tr>\n",
              "    <tr>\n",
              "      <th>1317</th>\n",
              "      <td>10.402943</td>\n",
              "      <td>10.824456</td>\n",
              "    </tr>\n",
              "    <tr>\n",
              "      <th>1318</th>\n",
              "      <td>0.861105</td>\n",
              "      <td>7.324594</td>\n",
              "    </tr>\n",
              "    <tr>\n",
              "      <th>1319</th>\n",
              "      <td>2.177858</td>\n",
              "      <td>3.704208</td>\n",
              "    </tr>\n",
              "    <tr>\n",
              "      <th>1320</th>\n",
              "      <td>0.846473</td>\n",
              "      <td>2.918049</td>\n",
              "    </tr>\n",
              "  </tbody>\n",
              "</table>\n",
              "<p>1321 rows × 2 columns</p>\n",
              "</div>\n",
              "      <button class=\"colab-df-convert\" onclick=\"convertToInteractive('df-ab1ca5ce-095e-46af-8eef-5de0be418bbc')\"\n",
              "              title=\"Convert this dataframe to an interactive table.\"\n",
              "              style=\"display:none;\">\n",
              "        \n",
              "  <svg xmlns=\"http://www.w3.org/2000/svg\" height=\"24px\"viewBox=\"0 0 24 24\"\n",
              "       width=\"24px\">\n",
              "    <path d=\"M0 0h24v24H0V0z\" fill=\"none\"/>\n",
              "    <path d=\"M18.56 5.44l.94 2.06.94-2.06 2.06-.94-2.06-.94-.94-2.06-.94 2.06-2.06.94zm-11 1L8.5 8.5l.94-2.06 2.06-.94-2.06-.94L8.5 2.5l-.94 2.06-2.06.94zm10 10l.94 2.06.94-2.06 2.06-.94-2.06-.94-.94-2.06-.94 2.06-2.06.94z\"/><path d=\"M17.41 7.96l-1.37-1.37c-.4-.4-.92-.59-1.43-.59-.52 0-1.04.2-1.43.59L10.3 9.45l-7.72 7.72c-.78.78-.78 2.05 0 2.83L4 21.41c.39.39.9.59 1.41.59.51 0 1.02-.2 1.41-.59l7.78-7.78 2.81-2.81c.8-.78.8-2.07 0-2.86zM5.41 20L4 18.59l7.72-7.72 1.47 1.35L5.41 20z\"/>\n",
              "  </svg>\n",
              "      </button>\n",
              "      \n",
              "  <style>\n",
              "    .colab-df-container {\n",
              "      display:flex;\n",
              "      flex-wrap:wrap;\n",
              "      gap: 12px;\n",
              "    }\n",
              "\n",
              "    .colab-df-convert {\n",
              "      background-color: #E8F0FE;\n",
              "      border: none;\n",
              "      border-radius: 50%;\n",
              "      cursor: pointer;\n",
              "      display: none;\n",
              "      fill: #1967D2;\n",
              "      height: 32px;\n",
              "      padding: 0 0 0 0;\n",
              "      width: 32px;\n",
              "    }\n",
              "\n",
              "    .colab-df-convert:hover {\n",
              "      background-color: #E2EBFA;\n",
              "      box-shadow: 0px 1px 2px rgba(60, 64, 67, 0.3), 0px 1px 3px 1px rgba(60, 64, 67, 0.15);\n",
              "      fill: #174EA6;\n",
              "    }\n",
              "\n",
              "    [theme=dark] .colab-df-convert {\n",
              "      background-color: #3B4455;\n",
              "      fill: #D2E3FC;\n",
              "    }\n",
              "\n",
              "    [theme=dark] .colab-df-convert:hover {\n",
              "      background-color: #434B5C;\n",
              "      box-shadow: 0px 1px 3px 1px rgba(0, 0, 0, 0.15);\n",
              "      filter: drop-shadow(0px 1px 2px rgba(0, 0, 0, 0.3));\n",
              "      fill: #FFFFFF;\n",
              "    }\n",
              "  </style>\n",
              "\n",
              "      <script>\n",
              "        const buttonEl =\n",
              "          document.querySelector('#df-ab1ca5ce-095e-46af-8eef-5de0be418bbc button.colab-df-convert');\n",
              "        buttonEl.style.display =\n",
              "          google.colab.kernel.accessAllowed ? 'block' : 'none';\n",
              "\n",
              "        async function convertToInteractive(key) {\n",
              "          const element = document.querySelector('#df-ab1ca5ce-095e-46af-8eef-5de0be418bbc');\n",
              "          const dataTable =\n",
              "            await google.colab.kernel.invokeFunction('convertToInteractive',\n",
              "                                                     [key], {});\n",
              "          if (!dataTable) return;\n",
              "\n",
              "          const docLinkHtml = 'Like what you see? Visit the ' +\n",
              "            '<a target=\"_blank\" href=https://colab.research.google.com/notebooks/data_table.ipynb>data table notebook</a>'\n",
              "            + ' to learn more about interactive tables.';\n",
              "          element.innerHTML = '';\n",
              "          dataTable['output_type'] = 'display_data';\n",
              "          await google.colab.output.renderOutput(dataTable, element);\n",
              "          const docLink = document.createElement('div');\n",
              "          docLink.innerHTML = docLinkHtml;\n",
              "          element.appendChild(docLink);\n",
              "        }\n",
              "      </script>\n",
              "    </div>\n",
              "  </div>\n",
              "  "
            ]
          },
          "metadata": {},
          "execution_count": 603
        }
      ]
    },
    {
      "cell_type": "code",
      "source": [
        "df = pd.concat([df.reset_index(drop=True), distances], axis=1)"
      ],
      "metadata": {
        "id": "9dJ66VNGIUyM"
      },
      "execution_count": 604,
      "outputs": []
    },
    {
      "cell_type": "code",
      "source": [
        "df.isna().sum()"
      ],
      "metadata": {
        "colab": {
          "base_uri": "https://localhost:8080/"
        },
        "id": "9ntPKDM58zE8",
        "outputId": "a661eace-911b-4726-c7f7-930351a09129"
      },
      "execution_count": 605,
      "outputs": [
        {
          "output_type": "execute_result",
          "data": {
            "text/plain": [
              "Living_space     0\n",
              "Num_of_rooms     0\n",
              "Renovation       0\n",
              "Price            0\n",
              "Total_area       0\n",
              "Kitchen_area     0\n",
              "Floor            0\n",
              "Appliances_2     0\n",
              "Appliances_3     0\n",
              "Appliances_4     0\n",
              "Appliances_5     0\n",
              "Appliances_7     0\n",
              "Appliances_8     0\n",
              "Appliances_9     0\n",
              "Appliances_10    0\n",
              "Balcony_1        0\n",
              "Balcony_2        0\n",
              "Furniture_1      0\n",
              "Furniture_2      0\n",
              "Furniture_3      0\n",
              "Internet_tv_1    0\n",
              "Internet_tv_2    0\n",
              "Bathroom_1       0\n",
              "Bathroom_2       0\n",
              "Utilities_1      0\n",
              "Room_type_1      0\n",
              "Room_type_2      0\n",
              "Studio           0\n",
              "Floors_in_b      0\n",
              "location         0\n",
              "coord            0\n",
              "latitude         0\n",
              "longitude        0\n",
              "district_1       0\n",
              "district_2       0\n",
              "district_3       0\n",
              "district_4       0\n",
              "district_5       0\n",
              "district_6       0\n",
              "district_7       0\n",
              "1st_floor        0\n",
              "Metro_d          0\n",
              "Center_d         0\n",
              "dtype: int64"
            ]
          },
          "metadata": {},
          "execution_count": 605
        }
      ]
    },
    {
      "cell_type": "markdown",
      "source": [
        "## Droping location data with coordinates"
      ],
      "metadata": {
        "id": "W3-IcOKak4L5"
      }
    },
    {
      "cell_type": "code",
      "source": [
        "df = df.drop(columns=['location', 'coord', 'latitude', 'longitude'])"
      ],
      "metadata": {
        "id": "Oms6GHkPlkj1"
      },
      "execution_count": 606,
      "outputs": []
    },
    {
      "cell_type": "markdown",
      "source": [
        "## Separating target variable"
      ],
      "metadata": {
        "id": "S9pG5Xd_pEeH"
      }
    },
    {
      "cell_type": "code",
      "source": [
        "y = df.loc[:, \"Price\"]\n",
        "X = df.drop(columns=[\"Price\"])\n",
        "X.head()"
      ],
      "metadata": {
        "colab": {
          "base_uri": "https://localhost:8080/",
          "height": 299
        },
        "id": "8mh4CNhyl8BW",
        "outputId": "fa9bd1b5-de73-4ca7-a029-a70c7cf6009f"
      },
      "execution_count": 626,
      "outputs": [
        {
          "output_type": "execute_result",
          "data": {
            "text/plain": [
              "   Living_space  Num_of_rooms  Renovation  Total_area  Kitchen_area  Floor  \\\n",
              "0     20.000000             1           1        39.0          12.0     10   \n",
              "1     16.411765             1           1        18.0           7.0      9   \n",
              "2     75.453998             3           2       105.0          25.0      2   \n",
              "3     13.500000             1           2        45.0          17.5      5   \n",
              "4     24.000000             1           2        36.0           6.0     10   \n",
              "\n",
              "   Appliances_2  Appliances_3  Appliances_4  Appliances_5  ...  district_1  \\\n",
              "0             1             0             0             0  ...           1   \n",
              "1             0             0             0             0  ...           0   \n",
              "2             1             1             1             0  ...           0   \n",
              "3             1             1             1             0  ...           0   \n",
              "4             1             1             1             0  ...           0   \n",
              "\n",
              "   district_2  district_3  district_4  district_5  district_6  district_7  \\\n",
              "0           0           0           0           0           0           0   \n",
              "1           1           0           0           0           0           0   \n",
              "2           0           1           0           0           0           0   \n",
              "3           0           0           1           0           0           0   \n",
              "4           0           0           1           0           0           0   \n",
              "\n",
              "   1st_floor   Metro_d  Center_d  \n",
              "0          0  3.278917  3.827817  \n",
              "1          0  1.540129  1.551438  \n",
              "2          0  3.213987  6.911961  \n",
              "3          0  2.400260  3.336201  \n",
              "4          0  3.178507  4.494772  \n",
              "\n",
              "[5 rows x 38 columns]"
            ],
            "text/html": [
              "\n",
              "  <div id=\"df-8511a645-ad4d-4678-8275-ead6869644b6\">\n",
              "    <div class=\"colab-df-container\">\n",
              "      <div>\n",
              "<style scoped>\n",
              "    .dataframe tbody tr th:only-of-type {\n",
              "        vertical-align: middle;\n",
              "    }\n",
              "\n",
              "    .dataframe tbody tr th {\n",
              "        vertical-align: top;\n",
              "    }\n",
              "\n",
              "    .dataframe thead th {\n",
              "        text-align: right;\n",
              "    }\n",
              "</style>\n",
              "<table border=\"1\" class=\"dataframe\">\n",
              "  <thead>\n",
              "    <tr style=\"text-align: right;\">\n",
              "      <th></th>\n",
              "      <th>Living_space</th>\n",
              "      <th>Num_of_rooms</th>\n",
              "      <th>Renovation</th>\n",
              "      <th>Total_area</th>\n",
              "      <th>Kitchen_area</th>\n",
              "      <th>Floor</th>\n",
              "      <th>Appliances_2</th>\n",
              "      <th>Appliances_3</th>\n",
              "      <th>Appliances_4</th>\n",
              "      <th>Appliances_5</th>\n",
              "      <th>...</th>\n",
              "      <th>district_1</th>\n",
              "      <th>district_2</th>\n",
              "      <th>district_3</th>\n",
              "      <th>district_4</th>\n",
              "      <th>district_5</th>\n",
              "      <th>district_6</th>\n",
              "      <th>district_7</th>\n",
              "      <th>1st_floor</th>\n",
              "      <th>Metro_d</th>\n",
              "      <th>Center_d</th>\n",
              "    </tr>\n",
              "  </thead>\n",
              "  <tbody>\n",
              "    <tr>\n",
              "      <th>0</th>\n",
              "      <td>20.000000</td>\n",
              "      <td>1</td>\n",
              "      <td>1</td>\n",
              "      <td>39.0</td>\n",
              "      <td>12.0</td>\n",
              "      <td>10</td>\n",
              "      <td>1</td>\n",
              "      <td>0</td>\n",
              "      <td>0</td>\n",
              "      <td>0</td>\n",
              "      <td>...</td>\n",
              "      <td>1</td>\n",
              "      <td>0</td>\n",
              "      <td>0</td>\n",
              "      <td>0</td>\n",
              "      <td>0</td>\n",
              "      <td>0</td>\n",
              "      <td>0</td>\n",
              "      <td>0</td>\n",
              "      <td>3.278917</td>\n",
              "      <td>3.827817</td>\n",
              "    </tr>\n",
              "    <tr>\n",
              "      <th>1</th>\n",
              "      <td>16.411765</td>\n",
              "      <td>1</td>\n",
              "      <td>1</td>\n",
              "      <td>18.0</td>\n",
              "      <td>7.0</td>\n",
              "      <td>9</td>\n",
              "      <td>0</td>\n",
              "      <td>0</td>\n",
              "      <td>0</td>\n",
              "      <td>0</td>\n",
              "      <td>...</td>\n",
              "      <td>0</td>\n",
              "      <td>1</td>\n",
              "      <td>0</td>\n",
              "      <td>0</td>\n",
              "      <td>0</td>\n",
              "      <td>0</td>\n",
              "      <td>0</td>\n",
              "      <td>0</td>\n",
              "      <td>1.540129</td>\n",
              "      <td>1.551438</td>\n",
              "    </tr>\n",
              "    <tr>\n",
              "      <th>2</th>\n",
              "      <td>75.453998</td>\n",
              "      <td>3</td>\n",
              "      <td>2</td>\n",
              "      <td>105.0</td>\n",
              "      <td>25.0</td>\n",
              "      <td>2</td>\n",
              "      <td>1</td>\n",
              "      <td>1</td>\n",
              "      <td>1</td>\n",
              "      <td>0</td>\n",
              "      <td>...</td>\n",
              "      <td>0</td>\n",
              "      <td>0</td>\n",
              "      <td>1</td>\n",
              "      <td>0</td>\n",
              "      <td>0</td>\n",
              "      <td>0</td>\n",
              "      <td>0</td>\n",
              "      <td>0</td>\n",
              "      <td>3.213987</td>\n",
              "      <td>6.911961</td>\n",
              "    </tr>\n",
              "    <tr>\n",
              "      <th>3</th>\n",
              "      <td>13.500000</td>\n",
              "      <td>1</td>\n",
              "      <td>2</td>\n",
              "      <td>45.0</td>\n",
              "      <td>17.5</td>\n",
              "      <td>5</td>\n",
              "      <td>1</td>\n",
              "      <td>1</td>\n",
              "      <td>1</td>\n",
              "      <td>0</td>\n",
              "      <td>...</td>\n",
              "      <td>0</td>\n",
              "      <td>0</td>\n",
              "      <td>0</td>\n",
              "      <td>1</td>\n",
              "      <td>0</td>\n",
              "      <td>0</td>\n",
              "      <td>0</td>\n",
              "      <td>0</td>\n",
              "      <td>2.400260</td>\n",
              "      <td>3.336201</td>\n",
              "    </tr>\n",
              "    <tr>\n",
              "      <th>4</th>\n",
              "      <td>24.000000</td>\n",
              "      <td>1</td>\n",
              "      <td>2</td>\n",
              "      <td>36.0</td>\n",
              "      <td>6.0</td>\n",
              "      <td>10</td>\n",
              "      <td>1</td>\n",
              "      <td>1</td>\n",
              "      <td>1</td>\n",
              "      <td>0</td>\n",
              "      <td>...</td>\n",
              "      <td>0</td>\n",
              "      <td>0</td>\n",
              "      <td>0</td>\n",
              "      <td>1</td>\n",
              "      <td>0</td>\n",
              "      <td>0</td>\n",
              "      <td>0</td>\n",
              "      <td>0</td>\n",
              "      <td>3.178507</td>\n",
              "      <td>4.494772</td>\n",
              "    </tr>\n",
              "  </tbody>\n",
              "</table>\n",
              "<p>5 rows × 38 columns</p>\n",
              "</div>\n",
              "      <button class=\"colab-df-convert\" onclick=\"convertToInteractive('df-8511a645-ad4d-4678-8275-ead6869644b6')\"\n",
              "              title=\"Convert this dataframe to an interactive table.\"\n",
              "              style=\"display:none;\">\n",
              "        \n",
              "  <svg xmlns=\"http://www.w3.org/2000/svg\" height=\"24px\"viewBox=\"0 0 24 24\"\n",
              "       width=\"24px\">\n",
              "    <path d=\"M0 0h24v24H0V0z\" fill=\"none\"/>\n",
              "    <path d=\"M18.56 5.44l.94 2.06.94-2.06 2.06-.94-2.06-.94-.94-2.06-.94 2.06-2.06.94zm-11 1L8.5 8.5l.94-2.06 2.06-.94-2.06-.94L8.5 2.5l-.94 2.06-2.06.94zm10 10l.94 2.06.94-2.06 2.06-.94-2.06-.94-.94-2.06-.94 2.06-2.06.94z\"/><path d=\"M17.41 7.96l-1.37-1.37c-.4-.4-.92-.59-1.43-.59-.52 0-1.04.2-1.43.59L10.3 9.45l-7.72 7.72c-.78.78-.78 2.05 0 2.83L4 21.41c.39.39.9.59 1.41.59.51 0 1.02-.2 1.41-.59l7.78-7.78 2.81-2.81c.8-.78.8-2.07 0-2.86zM5.41 20L4 18.59l7.72-7.72 1.47 1.35L5.41 20z\"/>\n",
              "  </svg>\n",
              "      </button>\n",
              "      \n",
              "  <style>\n",
              "    .colab-df-container {\n",
              "      display:flex;\n",
              "      flex-wrap:wrap;\n",
              "      gap: 12px;\n",
              "    }\n",
              "\n",
              "    .colab-df-convert {\n",
              "      background-color: #E8F0FE;\n",
              "      border: none;\n",
              "      border-radius: 50%;\n",
              "      cursor: pointer;\n",
              "      display: none;\n",
              "      fill: #1967D2;\n",
              "      height: 32px;\n",
              "      padding: 0 0 0 0;\n",
              "      width: 32px;\n",
              "    }\n",
              "\n",
              "    .colab-df-convert:hover {\n",
              "      background-color: #E2EBFA;\n",
              "      box-shadow: 0px 1px 2px rgba(60, 64, 67, 0.3), 0px 1px 3px 1px rgba(60, 64, 67, 0.15);\n",
              "      fill: #174EA6;\n",
              "    }\n",
              "\n",
              "    [theme=dark] .colab-df-convert {\n",
              "      background-color: #3B4455;\n",
              "      fill: #D2E3FC;\n",
              "    }\n",
              "\n",
              "    [theme=dark] .colab-df-convert:hover {\n",
              "      background-color: #434B5C;\n",
              "      box-shadow: 0px 1px 3px 1px rgba(0, 0, 0, 0.15);\n",
              "      filter: drop-shadow(0px 1px 2px rgba(0, 0, 0, 0.3));\n",
              "      fill: #FFFFFF;\n",
              "    }\n",
              "  </style>\n",
              "\n",
              "      <script>\n",
              "        const buttonEl =\n",
              "          document.querySelector('#df-8511a645-ad4d-4678-8275-ead6869644b6 button.colab-df-convert');\n",
              "        buttonEl.style.display =\n",
              "          google.colab.kernel.accessAllowed ? 'block' : 'none';\n",
              "\n",
              "        async function convertToInteractive(key) {\n",
              "          const element = document.querySelector('#df-8511a645-ad4d-4678-8275-ead6869644b6');\n",
              "          const dataTable =\n",
              "            await google.colab.kernel.invokeFunction('convertToInteractive',\n",
              "                                                     [key], {});\n",
              "          if (!dataTable) return;\n",
              "\n",
              "          const docLinkHtml = 'Like what you see? Visit the ' +\n",
              "            '<a target=\"_blank\" href=https://colab.research.google.com/notebooks/data_table.ipynb>data table notebook</a>'\n",
              "            + ' to learn more about interactive tables.';\n",
              "          element.innerHTML = '';\n",
              "          dataTable['output_type'] = 'display_data';\n",
              "          await google.colab.output.renderOutput(dataTable, element);\n",
              "          const docLink = document.createElement('div');\n",
              "          docLink.innerHTML = docLinkHtml;\n",
              "          element.appendChild(docLink);\n",
              "        }\n",
              "      </script>\n",
              "    </div>\n",
              "  </div>\n",
              "  "
            ]
          },
          "metadata": {},
          "execution_count": 626
        }
      ]
    },
    {
      "cell_type": "markdown",
      "source": [
        "## Pipiline for normalizing data\n",
        "\n",
        "I already OH-encoded the categorical features,\n",
        "so I will use transformer for numerical features \n"
      ],
      "metadata": {
        "id": "yv5feWW2oihK"
      }
    },
    {
      "cell_type": "code",
      "source": [
        "from sklearn.pipeline import Pipeline\n",
        "from sklearn.preprocessing import StandardScaler, FunctionTransformer\n",
        "from sklearn.compose import ColumnTransformer, make_column_selector\n",
        "\n",
        "cols = [\"Living_space\", \"Total_area\", \"Kitchen_area\", \"Floor\", \"Floors_in_b\",\n",
        "        \"Metro_d\", \"Center_d\"]\n",
        "\n",
        "num_transformer = Pipeline(steps=[\n",
        "    (\"log_transformer\", FunctionTransformer(np.log)), #log transformation make distribution look more gaussian\n",
        "    (\"scaler\", StandardScaler())\n",
        "], memory=\"scaler_memory\")\n",
        "\n",
        "ct = ColumnTransformer([\n",
        "    (\"num_transformer\", num_transformer, cols)\n",
        "])\n",
        "\n"
      ],
      "metadata": {
        "id": "hrdqaHhoo2B1"
      },
      "execution_count": 608,
      "outputs": []
    },
    {
      "cell_type": "markdown",
      "source": [
        "Transforming"
      ],
      "metadata": {
        "id": "ucjv_V91p8mZ"
      }
    },
    {
      "cell_type": "code",
      "source": [
        "X = ct.fit_transform(X)"
      ],
      "metadata": {
        "id": "wmEhCsbCp4x6"
      },
      "execution_count": 627,
      "outputs": []
    },
    {
      "cell_type": "code",
      "source": [],
      "metadata": {
        "id": "bt_aHyPZtdoZ"
      },
      "execution_count": 620,
      "outputs": []
    },
    {
      "cell_type": "markdown",
      "source": [
        "## Let's try some baseline approaches\n",
        "\n",
        "Here basically linear models and I noticed that they are working better with polynomial transformation, so I will check score on both data:\n",
        "regular, and polynomial transformated\n",
        "\n",
        "## Cross-validation\n",
        "\n",
        "Dataset is quite small, so a good solution would be to use cross validation"
      ],
      "metadata": {
        "id": "IFNdmtzSpxAl"
      }
    },
    {
      "cell_type": "code",
      "source": [
        "from sklearn.preprocessing import PolynomialFeatures\n",
        "from sklearn import linear_model\n",
        "from sklearn.linear_model import ElasticNet\n",
        "from sklearn.neighbors import KNeighborsRegressor\n",
        "from sklearn import tree\n",
        "\n",
        "from sklearn.model_selection import cross_val_score\n",
        "\n",
        "\n",
        "\n",
        "pf = PolynomialFeatures()\n",
        "X_poly = pf.fit_transform(X)\n",
        "\n",
        "models = [\n",
        "    linear_model.LinearRegression(), linear_model.Lasso(500),\n",
        "    ElasticNet(0.1), linear_model.BayesianRidge(),\n",
        "    KNeighborsRegressor(10, weights='distance'),\n",
        "    tree.DecisionTreeRegressor(max_depth=4)\n",
        "          ]\n",
        "\n",
        "model_names = [\n",
        "    \"LinearReg\", \"Lasso\", \"ElasticNet\", \"BayesianRidge\",\n",
        "    \"KNN\", \"DecisionTree\"\n",
        "]\n",
        "scores = []\n",
        "scores_poly = []\n",
        "\n",
        "for model in models:\n",
        "  scores.append(cross_val_score(model, X, y, cv=5).mean())\n",
        "  scores_poly.append(cross_val_score(model, X_poly, y, cv=5).mean())\n",
        "\n",
        "score = pd.DataFrame(np.array([model_names, scores, scores_poly]).T,\n",
        "                     columns=[\"Model\", \"Score\", \"Scores(Poly features)\"])\n",
        "\n",
        "score"
      ],
      "metadata": {
        "colab": {
          "base_uri": "https://localhost:8080/",
          "height": 237
        },
        "id": "F24TKKWbvxUE",
        "outputId": "65cc79bc-e95f-49c2-9b2f-23d37bfae3b4"
      },
      "execution_count": 643,
      "outputs": [
        {
          "output_type": "execute_result",
          "data": {
            "text/plain": [
              "           Model                Score Scores(Poly features)\n",
              "0      LinearReg   0.3845046748187818    0.4973469855823929\n",
              "1          Lasso  0.39094301422959227    0.5092355689513344\n",
              "2     ElasticNet  0.39062251012604526    0.5013850452499569\n",
              "3  BayesianRidge  0.38646194520887994    0.5000986535430425\n",
              "4            KNN   0.5503278661000217    0.5240647160917804\n",
              "5   DecisionTree   0.3023923976588147    0.3018395127461814"
            ],
            "text/html": [
              "\n",
              "  <div id=\"df-be03a455-7492-4f02-8ad9-09e385e8826b\">\n",
              "    <div class=\"colab-df-container\">\n",
              "      <div>\n",
              "<style scoped>\n",
              "    .dataframe tbody tr th:only-of-type {\n",
              "        vertical-align: middle;\n",
              "    }\n",
              "\n",
              "    .dataframe tbody tr th {\n",
              "        vertical-align: top;\n",
              "    }\n",
              "\n",
              "    .dataframe thead th {\n",
              "        text-align: right;\n",
              "    }\n",
              "</style>\n",
              "<table border=\"1\" class=\"dataframe\">\n",
              "  <thead>\n",
              "    <tr style=\"text-align: right;\">\n",
              "      <th></th>\n",
              "      <th>Model</th>\n",
              "      <th>Score</th>\n",
              "      <th>Scores(Poly features)</th>\n",
              "    </tr>\n",
              "  </thead>\n",
              "  <tbody>\n",
              "    <tr>\n",
              "      <th>0</th>\n",
              "      <td>LinearReg</td>\n",
              "      <td>0.3845046748187818</td>\n",
              "      <td>0.4973469855823929</td>\n",
              "    </tr>\n",
              "    <tr>\n",
              "      <th>1</th>\n",
              "      <td>Lasso</td>\n",
              "      <td>0.39094301422959227</td>\n",
              "      <td>0.5092355689513344</td>\n",
              "    </tr>\n",
              "    <tr>\n",
              "      <th>2</th>\n",
              "      <td>ElasticNet</td>\n",
              "      <td>0.39062251012604526</td>\n",
              "      <td>0.5013850452499569</td>\n",
              "    </tr>\n",
              "    <tr>\n",
              "      <th>3</th>\n",
              "      <td>BayesianRidge</td>\n",
              "      <td>0.38646194520887994</td>\n",
              "      <td>0.5000986535430425</td>\n",
              "    </tr>\n",
              "    <tr>\n",
              "      <th>4</th>\n",
              "      <td>KNN</td>\n",
              "      <td>0.5503278661000217</td>\n",
              "      <td>0.5240647160917804</td>\n",
              "    </tr>\n",
              "    <tr>\n",
              "      <th>5</th>\n",
              "      <td>DecisionTree</td>\n",
              "      <td>0.3023923976588147</td>\n",
              "      <td>0.3018395127461814</td>\n",
              "    </tr>\n",
              "  </tbody>\n",
              "</table>\n",
              "</div>\n",
              "      <button class=\"colab-df-convert\" onclick=\"convertToInteractive('df-be03a455-7492-4f02-8ad9-09e385e8826b')\"\n",
              "              title=\"Convert this dataframe to an interactive table.\"\n",
              "              style=\"display:none;\">\n",
              "        \n",
              "  <svg xmlns=\"http://www.w3.org/2000/svg\" height=\"24px\"viewBox=\"0 0 24 24\"\n",
              "       width=\"24px\">\n",
              "    <path d=\"M0 0h24v24H0V0z\" fill=\"none\"/>\n",
              "    <path d=\"M18.56 5.44l.94 2.06.94-2.06 2.06-.94-2.06-.94-.94-2.06-.94 2.06-2.06.94zm-11 1L8.5 8.5l.94-2.06 2.06-.94-2.06-.94L8.5 2.5l-.94 2.06-2.06.94zm10 10l.94 2.06.94-2.06 2.06-.94-2.06-.94-.94-2.06-.94 2.06-2.06.94z\"/><path d=\"M17.41 7.96l-1.37-1.37c-.4-.4-.92-.59-1.43-.59-.52 0-1.04.2-1.43.59L10.3 9.45l-7.72 7.72c-.78.78-.78 2.05 0 2.83L4 21.41c.39.39.9.59 1.41.59.51 0 1.02-.2 1.41-.59l7.78-7.78 2.81-2.81c.8-.78.8-2.07 0-2.86zM5.41 20L4 18.59l7.72-7.72 1.47 1.35L5.41 20z\"/>\n",
              "  </svg>\n",
              "      </button>\n",
              "      \n",
              "  <style>\n",
              "    .colab-df-container {\n",
              "      display:flex;\n",
              "      flex-wrap:wrap;\n",
              "      gap: 12px;\n",
              "    }\n",
              "\n",
              "    .colab-df-convert {\n",
              "      background-color: #E8F0FE;\n",
              "      border: none;\n",
              "      border-radius: 50%;\n",
              "      cursor: pointer;\n",
              "      display: none;\n",
              "      fill: #1967D2;\n",
              "      height: 32px;\n",
              "      padding: 0 0 0 0;\n",
              "      width: 32px;\n",
              "    }\n",
              "\n",
              "    .colab-df-convert:hover {\n",
              "      background-color: #E2EBFA;\n",
              "      box-shadow: 0px 1px 2px rgba(60, 64, 67, 0.3), 0px 1px 3px 1px rgba(60, 64, 67, 0.15);\n",
              "      fill: #174EA6;\n",
              "    }\n",
              "\n",
              "    [theme=dark] .colab-df-convert {\n",
              "      background-color: #3B4455;\n",
              "      fill: #D2E3FC;\n",
              "    }\n",
              "\n",
              "    [theme=dark] .colab-df-convert:hover {\n",
              "      background-color: #434B5C;\n",
              "      box-shadow: 0px 1px 3px 1px rgba(0, 0, 0, 0.15);\n",
              "      filter: drop-shadow(0px 1px 2px rgba(0, 0, 0, 0.3));\n",
              "      fill: #FFFFFF;\n",
              "    }\n",
              "  </style>\n",
              "\n",
              "      <script>\n",
              "        const buttonEl =\n",
              "          document.querySelector('#df-be03a455-7492-4f02-8ad9-09e385e8826b button.colab-df-convert');\n",
              "        buttonEl.style.display =\n",
              "          google.colab.kernel.accessAllowed ? 'block' : 'none';\n",
              "\n",
              "        async function convertToInteractive(key) {\n",
              "          const element = document.querySelector('#df-be03a455-7492-4f02-8ad9-09e385e8826b');\n",
              "          const dataTable =\n",
              "            await google.colab.kernel.invokeFunction('convertToInteractive',\n",
              "                                                     [key], {});\n",
              "          if (!dataTable) return;\n",
              "\n",
              "          const docLinkHtml = 'Like what you see? Visit the ' +\n",
              "            '<a target=\"_blank\" href=https://colab.research.google.com/notebooks/data_table.ipynb>data table notebook</a>'\n",
              "            + ' to learn more about interactive tables.';\n",
              "          element.innerHTML = '';\n",
              "          dataTable['output_type'] = 'display_data';\n",
              "          await google.colab.output.renderOutput(dataTable, element);\n",
              "          const docLink = document.createElement('div');\n",
              "          docLink.innerHTML = docLinkHtml;\n",
              "          element.appendChild(docLink);\n",
              "        }\n",
              "      </script>\n",
              "    </div>\n",
              "  </div>\n",
              "  "
            ]
          },
          "metadata": {},
          "execution_count": 643
        }
      ]
    },
    {
      "cell_type": "markdown",
      "source": [
        "Models that show the best results:\n",
        "\n",
        "\n",
        "1.   KNN with regular data\n",
        "2.   KNN with poly data\n",
        "3.   Lasso with poly data\n",
        "4.   ElasticNet with poly data\n",
        "\n",
        "These models describe the data quite well, I'm pleasantly surprised."
      ],
      "metadata": {
        "id": "ABVW0zOc0rk_"
      }
    },
    {
      "cell_type": "markdown",
      "source": [
        "## Teamwork\n",
        "Maybe I should try unite these models"
      ],
      "metadata": {
        "id": "8doybp2z2OXM"
      }
    },
    {
      "cell_type": "code",
      "source": [
        "from sklearn.ensemble import VotingRegressor\n",
        "\n",
        "Lasso = Pipeline([\n",
        "    [\"poly\", PolynomialFeatures()],\n",
        "    ['model', linear_model.Lasso(500)]\n",
        "])\n",
        "\n",
        "PolyKNN = Pipeline([\n",
        "    [\"poly\", PolynomialFeatures()],\n",
        "    ['model', KNeighborsRegressor(10, weights='distance')]\n",
        "])\n",
        "\n",
        "ElasticPoly = Pipeline([\n",
        "    [\"poly\", PolynomialFeatures()],\n",
        "    ['model', ElasticNet(0.1)]\n",
        "])\n",
        "\n",
        "\n",
        "model = VotingRegressor([\n",
        "    [\"lasso\", Lasso],\n",
        "    [\"polyknn\", PolyKNN],\n",
        "    # [\"elasticpoly\", ElasticPoly],\n",
        "    [\"knn\", KNeighborsRegressor(10, weights='distance')]\n",
        "]\n",
        ")\n",
        "\n",
        "scores = cross_val_score(model, X, y, cv=5)\n",
        "scores.mean()\n"
      ],
      "metadata": {
        "colab": {
          "base_uri": "https://localhost:8080/"
        },
        "id": "2NkFM_W0Sse_",
        "outputId": "040c8398-40e4-4822-c4a2-0dc62e6b059f"
      },
      "execution_count": 648,
      "outputs": [
        {
          "output_type": "execute_result",
          "data": {
            "text/plain": [
              "0.559198456902068"
            ]
          },
          "metadata": {},
          "execution_count": 648
        }
      ]
    },
    {
      "cell_type": "markdown",
      "source": [
        "Pretty great result \n",
        "\n",
        "(I removed elasticnet,  model's working better without elasticnet)"
      ],
      "metadata": {
        "id": "_XWXO0T05M8_"
      }
    },
    {
      "cell_type": "markdown",
      "source": [
        "## Let's try something more serious"
      ],
      "metadata": {
        "id": "fLncE1n151Nw"
      }
    },
    {
      "cell_type": "code",
      "source": [
        "import xgboost as xgb\n",
        "\n",
        "model = xgb.XGBRegressor(3, 0.05, n_estimators=150, objective='reg:squarederror')\n",
        "\n",
        "scores = cross_val_score(model, tr, y, cv=3, scoring='r2')\n",
        "scores.mean()"
      ],
      "metadata": {
        "colab": {
          "base_uri": "https://localhost:8080/"
        },
        "id": "M2lPw28_VJsz",
        "outputId": "7f5c7171-0140-465f-bdfa-8cc4f6e10ffd"
      },
      "execution_count": 634,
      "outputs": [
        {
          "output_type": "execute_result",
          "data": {
            "text/plain": [
              "0.47202181033977325"
            ]
          },
          "metadata": {},
          "execution_count": 634
        }
      ]
    },
    {
      "cell_type": "code",
      "source": [
        "model.fit(tr, y)\n",
        "preds = model.predict(tr)\n",
        "plt.hist([y, preds])"
      ],
      "metadata": {
        "colab": {
          "base_uri": "https://localhost:8080/",
          "height": 352
        },
        "id": "IVlzZhpDet0C",
        "outputId": "8202edf1-bd15-4d7b-8b65-2cc13fb314f3"
      },
      "execution_count": 560,
      "outputs": [
        {
          "output_type": "execute_result",
          "data": {
            "text/plain": [
              "(array([[795., 376.,  91.,  21.,  18.,   8.,   7.,   2.,   2.,   1.],\n",
              "        [789., 388.,  89.,  35.,   9.,   6.,   3.,   2.,   0.,   0.]]),\n",
              " array([  8000.,  27200.,  46400.,  65600.,  84800., 104000., 123200.,\n",
              "        142400., 161600., 180800., 200000.]),\n",
              " <a list of 2 Lists of Patches objects>)"
            ]
          },
          "metadata": {},
          "execution_count": 560
        },
        {
          "output_type": "display_data",
          "data": {
            "text/plain": [
              "<Figure size 432x288 with 1 Axes>"
            ],
            "image/png": "[encoded data removed]"
          },
          "metadata": {
            "needs_background": "light"
          }
        }
      ]
    },
    {
      "cell_type": "code",
      "source": [
        "!pip install catboost\n",
        "import catboost as cb"
      ],
      "metadata": {
        "colab": {
          "base_uri": "https://localhost:8080/"
        },
        "id": "5AiCEuCBXAZD",
        "outputId": "0f237426-2079-40cb-a73d-81cd1991bc99"
      },
      "execution_count": 495,
      "outputs": [
        {
          "output_type": "stream",
          "name": "stdout",
          "text": [
            "Looking in indexes: https://pypi.org/simple, https://us-python.pkg.dev/colab-wheels/public/simple/\n",
            "Collecting catboost\n",
            "  Downloading catboost-1.1-cp37-none-manylinux1_x86_64.whl (76.8 MB)\n",
            "\u001b[K     |████████████████████████████████| 76.8 MB 1.3 MB/s \n",
            "\u001b[?25hRequirement already satisfied: six in /usr/local/lib/python3.7/dist-packages (from catboost) (1.15.0)\n",
            "Requirement already satisfied: graphviz in /usr/local/lib/python3.7/dist-packages (from catboost) (0.10.1)\n",
            "Requirement already satisfied: matplotlib in /usr/local/lib/python3.7/dist-packages (from catboost) (3.2.2)\n",
            "Requirement already satisfied: numpy>=1.16.0 in /usr/local/lib/python3.7/dist-packages (from catboost) (1.21.6)\n",
            "Requirement already satisfied: scipy in /usr/local/lib/python3.7/dist-packages (from catboost) (1.7.3)\n",
            "Requirement already satisfied: pandas>=0.24.0 in /usr/local/lib/python3.7/dist-packages (from catboost) (1.3.5)\n",
            "Requirement already satisfied: plotly in /usr/local/lib/python3.7/dist-packages (from catboost) (5.5.0)\n",
            "Requirement already satisfied: pytz>=2017.3 in /usr/local/lib/python3.7/dist-packages (from pandas>=0.24.0->catboost) (2022.2.1)\n",
            "Requirement already satisfied: python-dateutil>=2.7.3 in /usr/local/lib/python3.7/dist-packages (from pandas>=0.24.0->catboost) (2.8.2)\n",
            "Requirement already satisfied: pyparsing!=2.0.4,!=2.1.2,!=2.1.6,>=2.0.1 in /usr/local/lib/python3.7/dist-packages (from matplotlib->catboost) (3.0.9)\n",
            "Requirement already satisfied: kiwisolver>=1.0.1 in /usr/local/lib/python3.7/dist-packages (from matplotlib->catboost) (1.4.4)\n",
            "Requirement already satisfied: cycler>=0.10 in /usr/local/lib/python3.7/dist-packages (from matplotlib->catboost) (0.11.0)\n",
            "Requirement already satisfied: typing-extensions in /usr/local/lib/python3.7/dist-packages (from kiwisolver>=1.0.1->matplotlib->catboost) (4.1.1)\n",
            "Requirement already satisfied: tenacity>=6.2.0 in /usr/local/lib/python3.7/dist-packages (from plotly->catboost) (8.0.1)\n",
            "Installing collected packages: catboost\n",
            "Successfully installed catboost-1.1\n"
          ]
        }
      ]
    },
    {
      "cell_type": "code",
      "source": [
        "X.columns"
      ],
      "metadata": {
        "colab": {
          "base_uri": "https://localhost:8080/"
        },
        "id": "3SZfrQchbMMm",
        "outputId": "6b5579ff-78bb-4537-c894-00c1d0403381"
      },
      "execution_count": 497,
      "outputs": [
        {
          "output_type": "execute_result",
          "data": {
            "text/plain": [
              "Index(['Living_space', 'Num_of_rooms', 'Renovation', 'Total_area',\n",
              "       'Kitchen_area', 'Floor', 'Appliances_2', 'Appliances_3', 'Appliances_4',\n",
              "       'Appliances_5', 'Appliances_7', 'Appliances_8', 'Appliances_9',\n",
              "       'Appliances_10', 'Balcony_1', 'Balcony_2', 'Furniture_1', 'Furniture_2',\n",
              "       'Furniture_3', 'Internet_tv_1', 'Internet_tv_2', 'Bathroom_1',\n",
              "       'Bathroom_2', 'Utilities_1', 'Room_type_1', 'Room_type_2', 'Studio',\n",
              "       'Floors_in_b', 'district_1', 'district_2', 'district_3', 'district_4',\n",
              "       'district_5', 'district_6', 'district_7', '1st_floor', 'Metro_d',\n",
              "       'Center_d'],\n",
              "      dtype='object')"
            ]
          },
          "metadata": {},
          "execution_count": 497
        }
      ]
    },
    {
      "cell_type": "code",
      "source": [
        "model = cb.CatBoostRegressor(iterations=150, learning_rate=0.05, max_depth=5,\n",
        "                             verbose=0)\n",
        "\n",
        "scores = cross_val_score(model, tr, y, cv=3, scoring='r2')\n",
        "scores.mean()"
      ],
      "metadata": {
        "colab": {
          "base_uri": "https://localhost:8080/"
        },
        "id": "jP1LKBN9aby_",
        "outputId": "bc53f6d7-15ef-431c-a2ba-d69784913688"
      },
      "execution_count": 586,
      "outputs": [
        {
          "output_type": "execute_result",
          "data": {
            "text/plain": [
              "0.5213424747096805"
            ]
          },
          "metadata": {},
          "execution_count": 586
        }
      ]
    },
    {
      "cell_type": "code",
      "source": [
        "model.fit(tr, y)\n",
        "preds = model.predict(tr)\n",
        "plt.hist([y, preds])"
      ],
      "metadata": {
        "colab": {
          "base_uri": "https://localhost:8080/",
          "height": 352
        },
        "id": "mH4mxnsia0zb",
        "outputId": "f260d61d-8edb-41d4-ba3e-1f0cb1e9dbca"
      },
      "execution_count": 587,
      "outputs": [
        {
          "output_type": "execute_result",
          "data": {
            "text/plain": [
              "(array([[795., 376.,  91.,  21.,  18.,   8.,   7.,   2.,   2.,   1.],\n",
              "        [767., 411.,  94.,  31.,   9.,   5.,   2.,   2.,   0.,   0.]]),\n",
              " array([  8000.,  27200.,  46400.,  65600.,  84800., 104000., 123200.,\n",
              "        142400., 161600., 180800., 200000.]),\n",
              " <a list of 2 Lists of Patches objects>)"
            ]
          },
          "metadata": {},
          "execution_count": 587
        },
        {
          "output_type": "display_data",
          "data": {
            "text/plain": [
              "<Figure size 432x288 with 1 Axes>"
            ],
            "image/png": "[encoded data removed]"
          },
          "metadata": {
            "needs_background": "light"
          }
        }
      ]
    },
    {
      "cell_type": "code",
      "source": [
        "Lasso = Pipeline([\n",
        "    [\"poly\", PolynomialFeatures()],\n",
        "    ['model', linear_model.Lasso(500)]\n",
        "])\n",
        "PolyKNN = Pipeline([\n",
        "    [\"poly\", PolynomialFeatures()],\n",
        "    ['model', KNeighborsRegressor(10, weights='distance')]\n",
        "])\n",
        "model = VotingRegressor([\n",
        "    ['cb', cb.CatBoostRegressor(iterations=150, learning_rate=0.05, max_depth=5,\n",
        "                             verbose=0)],\n",
        "    ['xgb', xgb.XGBRegressor(3, 0.05, n_estimators=150, objective='reg:squarederror')],\n",
        "    [\"knn\", KNeighborsRegressor(10, weights='distance')],\n",
        "    [\"lasso\", Lasso],\n",
        "    ['polyknn', PolyKNN]\n",
        "    ], \n",
        ")\n",
        "\n",
        "scores = cross_val_score(model, X, y, cv=5)\n",
        "scores.mean()"
      ],
      "metadata": {
        "colab": {
          "base_uri": "https://localhost:8080/"
        },
        "id": "3af-1nFKendW",
        "outputId": "da327185-6ad6-477f-8209-5fb1bd4bd469"
      },
      "execution_count": 632,
      "outputs": [
        {
          "output_type": "execute_result",
          "data": {
            "text/plain": [
              "0.5628064105867394"
            ]
          },
          "metadata": {},
          "execution_count": 632
        }
      ]
    },
    {
      "cell_type": "code",
      "source": [
        "model.fit(tr, y)\n",
        "preds = model.predict(tr)\n",
        "plt.hist([y, preds])"
      ],
      "metadata": {
        "colab": {
          "base_uri": "https://localhost:8080/",
          "height": 352
        },
        "id": "H45H9PD2fPuH",
        "outputId": "63f5e9e6-aac9-4876-e9c5-5c9d670fc201"
      },
      "execution_count": 581,
      "outputs": [
        {
          "output_type": "execute_result",
          "data": {
            "text/plain": [
              "(array([[795., 376.,  91.,  21.,  18.,   8.,   7.,   2.,   2.,   1.],\n",
              "        [769., 409.,  84.,  37.,   8.,   9.,   3.,   0.,   2.,   0.]]),\n",
              " array([  8000.,  27200.,  46400.,  65600.,  84800., 104000., 123200.,\n",
              "        142400., 161600., 180800., 200000.]),\n",
              " <a list of 2 Lists of Patches objects>)"
            ]
          },
          "metadata": {},
          "execution_count": 581
        },
        {
          "output_type": "display_data",
          "data": {
            "text/plain": [
              "<Figure size 432x288 with 1 Axes>"
            ],
            "image/png": "[encoded data removed]"
          },
          "metadata": {
            "needs_background": "light"
          }
        }
      ]
    },
    {
      "cell_type": "code",
      "source": [
        "plt.scatter(tr[:, 0], y)\n",
        "plt.scatter(tr[:, 0], preds)"
      ],
      "metadata": {
        "colab": {
          "base_uri": "https://localhost:8080/",
          "height": 282
        },
        "id": "_DhvSrFTgOrz",
        "outputId": "8622ddd8-1444-4b98-cc04-ad8d179eb1ca"
      },
      "execution_count": 584,
      "outputs": [
        {
          "output_type": "execute_result",
          "data": {
            "text/plain": [
              "<matplotlib.collections.PathCollection at 0x7fa641da1f90>"
            ]
          },
          "metadata": {},
          "execution_count": 584
        },
        {
          "output_type": "display_data",
          "data": {
            "text/plain": [
              "<Figure size 432x288 with 1 Axes>"
            ],
            "image/png": "[encoded data removed]"
          },
          "metadata": {
            "needs_background": "light"
          }
        }
      ]
    },
    {
      "cell_type": "code",
      "source": [],
      "metadata": {
        "id": "Kx2LAkq_nbZP"
      },
      "execution_count": null,
      "outputs": []
    }
  ]
}